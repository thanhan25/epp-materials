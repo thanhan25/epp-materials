{
 "cells": [
  {
   "source": [
    "# Preparation for class in week 5\n",
    "\n",
    "\n",
    "Our example is inspired by the Dutch LISS data, in particular the waves on Time Use and consumption in November 2019 and in April 2020. \n",
    "\n",
    "In particular, the data contain the following variables, alphabetically sorted:\n",
    "\n",
    "| Variable     | Content                                                           |\n",
    "|:-------------|:------------------------------------------------------------      |\n",
    "| geslacht     | Gender (Man: Male, Vrouw: Female)                                 |\n",
    "| nohouse_encr | Household identifier                                              |\n",
    "| nomem_encr   | Member identifier                                                 |\n",
    "| v1q1_v1col1  | Working hours (Nov) / Working hours at workplace (Apr)            |\n",
    "| v1q1a_v1col1 | Working hours in home office, no kids in HH (Apr)                 |\n",
    "| v1q1b_v1col1 | Working hours in home office while responsible for kids (Apr)     |\n",
    "| v1q1c_v1col1 | Working hours in home office while not responsible for kids (Apr) |\n",
    "| v1q5_v1col1  | Childcare hours (all in Nov, residual in Apr)                     |\n",
    "| v1q5a_v1col1 | Homeschooling hours (Apr)                                         |\n",
    "\n",
    "\n",
    "In this exercise, we will only work with the November data.\n",
    "\n",
    "We start by importing Pandas"
   ],
   "cell_type": "markdown",
   "metadata": {}
  },
  {
   "cell_type": "code",
   "execution_count": 808,
   "metadata": {},
   "outputs": [],
   "source": [
    "import pandas as pd\n",
    "import numpy as np\n",
    "from functools import reduce, partial\n",
    "from statistics import mean"
   ]
  },
  {
   "cell_type": "markdown",
   "metadata": {},
   "source": [
    "## 1.1. Read in the data\n",
    "\n",
    "The November data is stored in Stata format. Replace the `XXXXX` in the next cell by the appropriate Pandas function."
   ]
  },
  {
   "cell_type": "code",
   "execution_count": 809,
   "metadata": {},
   "outputs": [],
   "source": [
    "nov_2019 = pd.read_stata(\"time_use_2019-11.dta\", convert_categoricals=True)\n",
    "apr_2020 = pd.read_csv(\"time_use_2020-04.csv\")"
   ]
  },
  {
   "source": [
    "## Browse the data\n",
    "\n",
    "You can browse through the data by just typing the name of a DataFrame as the last thing in a cell.\n",
    "\n",
    "This will yield a nice html-formatted output. Use this to find out the difference between setting `convert_categoricals` to `True` or `False` in the call above. In case you know some Stata: Can you explain what is happening? Else don't worry about the reasons behind what is going on.\n"
   ],
   "cell_type": "markdown",
   "metadata": {}
  },
  {
   "source": [
    "When convert_categoricals=True then the gender column displays Man and Vroww. When False it displays 1 and 0.\n",
    "I do not know the reason but it seems self-explanatory."
   ],
   "cell_type": "markdown",
   "metadata": {}
  },
  {
   "cell_type": "code",
   "execution_count": 810,
   "metadata": {},
   "outputs": [
    {
     "output_type": "execute_result",
     "data": {
      "text/plain": [
       "   nomem_encr geslacht  v1q1_v1col1  v1q5_v1col1  nohouse_encr\n",
       "0   1687033.0      Man          0.0          2.0     1049420.0\n",
       "1   1662353.0    Vrouw          9.0          0.0     1049420.0\n",
       "2   1631191.0      Man         67.0          1.0     1011033.0\n",
       "3   1687630.0    Vrouw         17.0          6.0     1011033.0\n",
       "4   1746405.0      Man         40.0         12.0     1047651.0"
      ],
      "text/html": "<div>\n<style scoped>\n    .dataframe tbody tr th:only-of-type {\n        vertical-align: middle;\n    }\n\n    .dataframe tbody tr th {\n        vertical-align: top;\n    }\n\n    .dataframe thead th {\n        text-align: right;\n    }\n</style>\n<table border=\"1\" class=\"dataframe\">\n  <thead>\n    <tr style=\"text-align: right;\">\n      <th></th>\n      <th>nomem_encr</th>\n      <th>geslacht</th>\n      <th>v1q1_v1col1</th>\n      <th>v1q5_v1col1</th>\n      <th>nohouse_encr</th>\n    </tr>\n  </thead>\n  <tbody>\n    <tr>\n      <th>0</th>\n      <td>1687033.0</td>\n      <td>Man</td>\n      <td>0.0</td>\n      <td>2.0</td>\n      <td>1049420.0</td>\n    </tr>\n    <tr>\n      <th>1</th>\n      <td>1662353.0</td>\n      <td>Vrouw</td>\n      <td>9.0</td>\n      <td>0.0</td>\n      <td>1049420.0</td>\n    </tr>\n    <tr>\n      <th>2</th>\n      <td>1631191.0</td>\n      <td>Man</td>\n      <td>67.0</td>\n      <td>1.0</td>\n      <td>1011033.0</td>\n    </tr>\n    <tr>\n      <th>3</th>\n      <td>1687630.0</td>\n      <td>Vrouw</td>\n      <td>17.0</td>\n      <td>6.0</td>\n      <td>1011033.0</td>\n    </tr>\n    <tr>\n      <th>4</th>\n      <td>1746405.0</td>\n      <td>Man</td>\n      <td>40.0</td>\n      <td>12.0</td>\n      <td>1047651.0</td>\n    </tr>\n  </tbody>\n</table>\n</div>"
     },
     "metadata": {},
     "execution_count": 810
    }
   ],
   "source": [
    "nov_2019.head()"
   ]
  },
  {
   "cell_type": "code",
   "execution_count": 811,
   "metadata": {},
   "outputs": [
    {
     "output_type": "execute_result",
     "data": {
      "text/plain": [
       "  geslacht  v1q1_v1col1  v1q1a_v1col1  v1q1b_v1col1  v1q1c_v1col1  \\\n",
       "0      Man          0.0           NaN           0.0           0.0   \n",
       "1    Vrouw          3.0           NaN           0.0           0.0   \n",
       "2      Man         47.0           NaN           4.0           0.0   \n",
       "3    Vrouw          8.0           NaN           0.0           8.0   \n",
       "4      Man         36.0           NaN           0.0           0.0   \n",
       "\n",
       "   v1q5_v1col1  v1q5a_v1col1  nohouse_encr  nomem_encr  \n",
       "0          0.0           0.0       1049420     1687033  \n",
       "1          0.0           0.0       1049420     1662353  \n",
       "2          4.0           0.0       1011033     1631191  \n",
       "3          0.0           0.0       1011033     1687630  \n",
       "4          0.0           0.0       1047651     1746405  "
      ],
      "text/html": "<div>\n<style scoped>\n    .dataframe tbody tr th:only-of-type {\n        vertical-align: middle;\n    }\n\n    .dataframe tbody tr th {\n        vertical-align: top;\n    }\n\n    .dataframe thead th {\n        text-align: right;\n    }\n</style>\n<table border=\"1\" class=\"dataframe\">\n  <thead>\n    <tr style=\"text-align: right;\">\n      <th></th>\n      <th>geslacht</th>\n      <th>v1q1_v1col1</th>\n      <th>v1q1a_v1col1</th>\n      <th>v1q1b_v1col1</th>\n      <th>v1q1c_v1col1</th>\n      <th>v1q5_v1col1</th>\n      <th>v1q5a_v1col1</th>\n      <th>nohouse_encr</th>\n      <th>nomem_encr</th>\n    </tr>\n  </thead>\n  <tbody>\n    <tr>\n      <th>0</th>\n      <td>Man</td>\n      <td>0.0</td>\n      <td>NaN</td>\n      <td>0.0</td>\n      <td>0.0</td>\n      <td>0.0</td>\n      <td>0.0</td>\n      <td>1049420</td>\n      <td>1687033</td>\n    </tr>\n    <tr>\n      <th>1</th>\n      <td>Vrouw</td>\n      <td>3.0</td>\n      <td>NaN</td>\n      <td>0.0</td>\n      <td>0.0</td>\n      <td>0.0</td>\n      <td>0.0</td>\n      <td>1049420</td>\n      <td>1662353</td>\n    </tr>\n    <tr>\n      <th>2</th>\n      <td>Man</td>\n      <td>47.0</td>\n      <td>NaN</td>\n      <td>4.0</td>\n      <td>0.0</td>\n      <td>4.0</td>\n      <td>0.0</td>\n      <td>1011033</td>\n      <td>1631191</td>\n    </tr>\n    <tr>\n      <th>3</th>\n      <td>Vrouw</td>\n      <td>8.0</td>\n      <td>NaN</td>\n      <td>0.0</td>\n      <td>8.0</td>\n      <td>0.0</td>\n      <td>0.0</td>\n      <td>1011033</td>\n      <td>1687630</td>\n    </tr>\n    <tr>\n      <th>4</th>\n      <td>Man</td>\n      <td>36.0</td>\n      <td>NaN</td>\n      <td>0.0</td>\n      <td>0.0</td>\n      <td>0.0</td>\n      <td>0.0</td>\n      <td>1047651</td>\n      <td>1746405</td>\n    </tr>\n  </tbody>\n</table>\n</div>"
     },
     "metadata": {},
     "execution_count": 811
    }
   ],
   "source": [
    "apr_2020.head()"
   ]
  },
  {
   "source": [
    "## 1.2. Make sure all the columns have a sensible data type (try: apr_2020.dtypes)."
   ],
   "cell_type": "markdown",
   "metadata": {}
  },
  {
   "cell_type": "code",
   "execution_count": 812,
   "metadata": {},
   "outputs": [
    {
     "output_type": "execute_result",
     "data": {
      "text/plain": [
       "nomem_encr       float64\n",
       "geslacht        category\n",
       "v1q1_v1col1      float64\n",
       "v1q5_v1col1      float64\n",
       "nohouse_encr     float64\n",
       "dtype: object"
      ]
     },
     "metadata": {},
     "execution_count": 812
    }
   ],
   "source": [
    "nov_2019.dtypes"
   ]
  },
  {
   "cell_type": "code",
   "execution_count": 813,
   "metadata": {},
   "outputs": [
    {
     "output_type": "execute_result",
     "data": {
      "text/plain": [
       "geslacht         object\n",
       "v1q1_v1col1     float64\n",
       "v1q1a_v1col1    float64\n",
       "v1q1b_v1col1    float64\n",
       "v1q1c_v1col1    float64\n",
       "v1q5_v1col1     float64\n",
       "v1q5a_v1col1    float64\n",
       "nohouse_encr      int64\n",
       "nomem_encr        int64\n",
       "dtype: object"
      ]
     },
     "metadata": {},
     "execution_count": 813
    }
   ],
   "source": [
    "apr_2020.dtypes"
   ]
  },
  {
   "cell_type": "code",
   "execution_count": 814,
   "metadata": {},
   "outputs": [
    {
     "output_type": "execute_result",
     "data": {
      "text/plain": [
       "Man      56\n",
       "Vrouw    50\n",
       "Name: geslacht, dtype: int64"
      ]
     },
     "metadata": {},
     "execution_count": 814
    }
   ],
   "source": [
    "# Count each categories in gender including NAs:\n",
    "apr_2020['geslacht'].value_counts(dropna=False)"
   ]
  },
  {
   "source": [
    "## Rename categories\n"
   ],
   "cell_type": "markdown",
   "metadata": {}
  },
  {
   "cell_type": "code",
   "execution_count": 815,
   "metadata": {},
   "outputs": [
    {
     "output_type": "execute_result",
     "data": {
      "text/plain": [
       "CategoricalDtype(categories=['Male', 'Female'], ordered=True)"
      ]
     },
     "metadata": {},
     "execution_count": 815
    }
   ],
   "source": [
    "# Convert gender column to categorical:\n",
    "apr_2020['geslacht'] = pd.Categorical(apr_2020['geslacht'], categories=['Man', 'Vrouw'])\n",
    "apr_2020['geslacht'] = apr_2020['geslacht'].cat.rename_categories({'Man': 'Male', 'Vrouw': 'Female'})\n",
    "apr_2020['geslacht'].dtypes\n",
    "\n",
    "nov_2019['geslacht'] = pd.Categorical(nov_2019['geslacht'], categories=['Man', 'Vrouw'])\n",
    "nov_2019['geslacht'] = nov_2019['geslacht'].cat.rename_categories({'Man': 'Male', 'Vrouw': 'Female'})\n",
    "nov_2019['geslacht'].dtypes"
   ]
  },
  {
   "source": [
    "apr_2020['geslacht'].value_counts(dropna=False)\n"
   ],
   "cell_type": "code",
   "metadata": {},
   "execution_count": 816,
   "outputs": [
    {
     "output_type": "execute_result",
     "data": {
      "text/plain": [
       "Male      56\n",
       "Female    50\n",
       "Name: geslacht, dtype: int64"
      ]
     },
     "metadata": {},
     "execution_count": 816
    }
   ]
  },
  {
   "cell_type": "code",
   "execution_count": 817,
   "metadata": {},
   "outputs": [
    {
     "output_type": "execute_result",
     "data": {
      "text/plain": [
       "Male      46\n",
       "Female    42\n",
       "Name: geslacht, dtype: int64"
      ]
     },
     "metadata": {},
     "execution_count": 817
    }
   ],
   "source": [
    "nov_2019['geslacht'].value_counts(dropna=False)"
   ]
  },
  {
   "source": [
    "## 1.3. Rename variables\n",
    "\n",
    "We give the Dutch and partly cryptic variable names sensible identifiers. The `replace` method on DataFrames returns a new DataFrame, so we need to assign it to `nov_2019` again if we want to continue working with it.\n",
    "\n",
    "Note that this is a very stateful transformation if you assign to the same variable; you will not be able to successfully execute the cell twice without re-loading the data above."
   ],
   "cell_type": "markdown",
   "metadata": {}
  },
  {
   "cell_type": "code",
   "execution_count": 818,
   "metadata": {},
   "outputs": [],
   "source": [
    "nov_2019 = nov_2019.rename(\n",
    "    columns={\n",
    "        \"geslacht\": \"gender\",\n",
    "        \"v1q1_v1col1\": \"total_working_hours\",\n",
    "        \"v1q5_v1col1\": \"total_childcare_hours\",\n",
    "        \"nohouse_encr\": \"household_identifier\",\n",
    "        \"nomem_encr\": \"member_identifier\"\n",
    "    }\n",
    ")\n",
    "\n",
    "apr_2020 = apr_2020.rename(\n",
    "    columns={\n",
    "        \"geslacht\": \"gender\",\n",
    "        \"nohouse_encr\": \"hh_id\",\n",
    "        \"nomem_encr\": \"ind_id\",\n",
    "        \"v1q1_v1col1\": \"working_hours_workplace\",\n",
    "        \"v1q1a_v1col1\": \"working_hours_home_nokids\",\n",
    "        \"v1q1b_v1col1\": \"working_hours_home_whilekids\",\n",
    "        \"v1q1c_v1col1\": \"working_hours_home_while_no_kids\",\n",
    "        \"v1q5_v1col1\": \"childcare_hours_res\",\n",
    "        \"v1q5a_v1col1\": \"homeschool_hours\"        \n",
    "    }\n",
    ")"
   ]
  },
  {
   "source": [
    "Again view the dataframe to see if the changes applied."
   ],
   "cell_type": "markdown",
   "metadata": {}
  },
  {
   "cell_type": "code",
   "execution_count": 819,
   "metadata": {},
   "outputs": [
    {
     "output_type": "execute_result",
     "data": {
      "text/plain": [
       "   member_identifier  gender  total_working_hours  total_childcare_hours  \\\n",
       "0          1687033.0    Male                  0.0                    2.0   \n",
       "1          1662353.0  Female                  9.0                    0.0   \n",
       "2          1631191.0    Male                 67.0                    1.0   \n",
       "3          1687630.0  Female                 17.0                    6.0   \n",
       "4          1746405.0    Male                 40.0                   12.0   \n",
       "\n",
       "   household_identifier  \n",
       "0             1049420.0  \n",
       "1             1049420.0  \n",
       "2             1011033.0  \n",
       "3             1011033.0  \n",
       "4             1047651.0  "
      ],
      "text/html": "<div>\n<style scoped>\n    .dataframe tbody tr th:only-of-type {\n        vertical-align: middle;\n    }\n\n    .dataframe tbody tr th {\n        vertical-align: top;\n    }\n\n    .dataframe thead th {\n        text-align: right;\n    }\n</style>\n<table border=\"1\" class=\"dataframe\">\n  <thead>\n    <tr style=\"text-align: right;\">\n      <th></th>\n      <th>member_identifier</th>\n      <th>gender</th>\n      <th>total_working_hours</th>\n      <th>total_childcare_hours</th>\n      <th>household_identifier</th>\n    </tr>\n  </thead>\n  <tbody>\n    <tr>\n      <th>0</th>\n      <td>1687033.0</td>\n      <td>Male</td>\n      <td>0.0</td>\n      <td>2.0</td>\n      <td>1049420.0</td>\n    </tr>\n    <tr>\n      <th>1</th>\n      <td>1662353.0</td>\n      <td>Female</td>\n      <td>9.0</td>\n      <td>0.0</td>\n      <td>1049420.0</td>\n    </tr>\n    <tr>\n      <th>2</th>\n      <td>1631191.0</td>\n      <td>Male</td>\n      <td>67.0</td>\n      <td>1.0</td>\n      <td>1011033.0</td>\n    </tr>\n    <tr>\n      <th>3</th>\n      <td>1687630.0</td>\n      <td>Female</td>\n      <td>17.0</td>\n      <td>6.0</td>\n      <td>1011033.0</td>\n    </tr>\n    <tr>\n      <th>4</th>\n      <td>1746405.0</td>\n      <td>Male</td>\n      <td>40.0</td>\n      <td>12.0</td>\n      <td>1047651.0</td>\n    </tr>\n  </tbody>\n</table>\n</div>"
     },
     "metadata": {},
     "execution_count": 819
    }
   ],
   "source": [
    "nov_2019.head()"
   ]
  },
  {
   "cell_type": "code",
   "execution_count": 820,
   "metadata": {},
   "outputs": [
    {
     "output_type": "execute_result",
     "data": {
      "text/plain": [
       "   gender  working_hours_workplace  working_hours_home_nokids  \\\n",
       "0    Male                      0.0                        NaN   \n",
       "1  Female                      3.0                        NaN   \n",
       "2    Male                     47.0                        NaN   \n",
       "3  Female                      8.0                        NaN   \n",
       "4    Male                     36.0                        NaN   \n",
       "\n",
       "   working_hours_home_whilekids  working_hours_home_while_no_kids  \\\n",
       "0                           0.0                               0.0   \n",
       "1                           0.0                               0.0   \n",
       "2                           4.0                               0.0   \n",
       "3                           0.0                               8.0   \n",
       "4                           0.0                               0.0   \n",
       "\n",
       "   childcare_hours_res  homeschool_hours    hh_id   ind_id  \n",
       "0                  0.0               0.0  1049420  1687033  \n",
       "1                  0.0               0.0  1049420  1662353  \n",
       "2                  4.0               0.0  1011033  1631191  \n",
       "3                  0.0               0.0  1011033  1687630  \n",
       "4                  0.0               0.0  1047651  1746405  "
      ],
      "text/html": "<div>\n<style scoped>\n    .dataframe tbody tr th:only-of-type {\n        vertical-align: middle;\n    }\n\n    .dataframe tbody tr th {\n        vertical-align: top;\n    }\n\n    .dataframe thead th {\n        text-align: right;\n    }\n</style>\n<table border=\"1\" class=\"dataframe\">\n  <thead>\n    <tr style=\"text-align: right;\">\n      <th></th>\n      <th>gender</th>\n      <th>working_hours_workplace</th>\n      <th>working_hours_home_nokids</th>\n      <th>working_hours_home_whilekids</th>\n      <th>working_hours_home_while_no_kids</th>\n      <th>childcare_hours_res</th>\n      <th>homeschool_hours</th>\n      <th>hh_id</th>\n      <th>ind_id</th>\n    </tr>\n  </thead>\n  <tbody>\n    <tr>\n      <th>0</th>\n      <td>Male</td>\n      <td>0.0</td>\n      <td>NaN</td>\n      <td>0.0</td>\n      <td>0.0</td>\n      <td>0.0</td>\n      <td>0.0</td>\n      <td>1049420</td>\n      <td>1687033</td>\n    </tr>\n    <tr>\n      <th>1</th>\n      <td>Female</td>\n      <td>3.0</td>\n      <td>NaN</td>\n      <td>0.0</td>\n      <td>0.0</td>\n      <td>0.0</td>\n      <td>0.0</td>\n      <td>1049420</td>\n      <td>1662353</td>\n    </tr>\n    <tr>\n      <th>2</th>\n      <td>Male</td>\n      <td>47.0</td>\n      <td>NaN</td>\n      <td>4.0</td>\n      <td>0.0</td>\n      <td>4.0</td>\n      <td>0.0</td>\n      <td>1011033</td>\n      <td>1631191</td>\n    </tr>\n    <tr>\n      <th>3</th>\n      <td>Female</td>\n      <td>8.0</td>\n      <td>NaN</td>\n      <td>0.0</td>\n      <td>8.0</td>\n      <td>0.0</td>\n      <td>0.0</td>\n      <td>1011033</td>\n      <td>1687630</td>\n    </tr>\n    <tr>\n      <th>4</th>\n      <td>Male</td>\n      <td>36.0</td>\n      <td>NaN</td>\n      <td>0.0</td>\n      <td>0.0</td>\n      <td>0.0</td>\n      <td>0.0</td>\n      <td>1047651</td>\n      <td>1746405</td>\n    </tr>\n  </tbody>\n</table>\n</div>"
     },
     "metadata": {},
     "execution_count": 820
    }
   ],
   "source": [
    "apr_2020.head()"
   ]
  },
  {
   "source": [
    "## Convert data types\n",
    "\n",
    "`nomem_encr` and `nohouse_encr` are classical identifiers. They can be used to identify a particular observation, but they do not carry any meaning beyond that.\n",
    "\n",
    "You have heard in the screencast that you should never use floating point numbers for identifiers. It is common that this happens in Stata, though (e.g., through use of `compress` or mathematical operations of integers, which do implicit type conversions unless you request an integer back).\n",
    "\n",
    "Add new columns `hh_id` and `ind_id` with sensible data types. \n"
   ],
   "cell_type": "markdown",
   "metadata": {}
  },
  {
   "cell_type": "code",
   "execution_count": 821,
   "metadata": {},
   "outputs": [],
   "source": [
    "# Converting a panda series by using astype():\n",
    "nov_2019[\"hh_id\"] = nov_2019[\"household_identifier\"].astype(int)\n",
    "nov_2019[\"ind_id\"] = nov_2019[\"member_identifier\"].astype(int)\n"
   ]
  },
  {
   "cell_type": "code",
   "execution_count": 822,
   "metadata": {},
   "outputs": [
    {
     "output_type": "execute_result",
     "data": {
      "text/plain": [
       "   member_identifier  gender  total_working_hours  total_childcare_hours  \\\n",
       "0          1687033.0    Male                  0.0                    2.0   \n",
       "1          1662353.0  Female                  9.0                    0.0   \n",
       "2          1631191.0    Male                 67.0                    1.0   \n",
       "3          1687630.0  Female                 17.0                    6.0   \n",
       "4          1746405.0    Male                 40.0                   12.0   \n",
       "\n",
       "   household_identifier    hh_id   ind_id  \n",
       "0             1049420.0  1049420  1687033  \n",
       "1             1049420.0  1049420  1662353  \n",
       "2             1011033.0  1011033  1631191  \n",
       "3             1011033.0  1011033  1687630  \n",
       "4             1047651.0  1047651  1746405  "
      ],
      "text/html": "<div>\n<style scoped>\n    .dataframe tbody tr th:only-of-type {\n        vertical-align: middle;\n    }\n\n    .dataframe tbody tr th {\n        vertical-align: top;\n    }\n\n    .dataframe thead th {\n        text-align: right;\n    }\n</style>\n<table border=\"1\" class=\"dataframe\">\n  <thead>\n    <tr style=\"text-align: right;\">\n      <th></th>\n      <th>member_identifier</th>\n      <th>gender</th>\n      <th>total_working_hours</th>\n      <th>total_childcare_hours</th>\n      <th>household_identifier</th>\n      <th>hh_id</th>\n      <th>ind_id</th>\n    </tr>\n  </thead>\n  <tbody>\n    <tr>\n      <th>0</th>\n      <td>1687033.0</td>\n      <td>Male</td>\n      <td>0.0</td>\n      <td>2.0</td>\n      <td>1049420.0</td>\n      <td>1049420</td>\n      <td>1687033</td>\n    </tr>\n    <tr>\n      <th>1</th>\n      <td>1662353.0</td>\n      <td>Female</td>\n      <td>9.0</td>\n      <td>0.0</td>\n      <td>1049420.0</td>\n      <td>1049420</td>\n      <td>1662353</td>\n    </tr>\n    <tr>\n      <th>2</th>\n      <td>1631191.0</td>\n      <td>Male</td>\n      <td>67.0</td>\n      <td>1.0</td>\n      <td>1011033.0</td>\n      <td>1011033</td>\n      <td>1631191</td>\n    </tr>\n    <tr>\n      <th>3</th>\n      <td>1687630.0</td>\n      <td>Female</td>\n      <td>17.0</td>\n      <td>6.0</td>\n      <td>1011033.0</td>\n      <td>1011033</td>\n      <td>1687630</td>\n    </tr>\n    <tr>\n      <th>4</th>\n      <td>1746405.0</td>\n      <td>Male</td>\n      <td>40.0</td>\n      <td>12.0</td>\n      <td>1047651.0</td>\n      <td>1047651</td>\n      <td>1746405</td>\n    </tr>\n  </tbody>\n</table>\n</div>"
     },
     "metadata": {},
     "execution_count": 822
    }
   ],
   "source": [
    "# Again view the dataframe\n",
    "nov_2019.head()"
   ]
  },
  {
   "cell_type": "code",
   "execution_count": 823,
   "metadata": {},
   "outputs": [
    {
     "output_type": "execute_result",
     "data": {
      "text/plain": [
       "   gender  working_hours_workplace  working_hours_home_nokids  \\\n",
       "0    Male                      0.0                        NaN   \n",
       "1  Female                      3.0                        NaN   \n",
       "2    Male                     47.0                        NaN   \n",
       "3  Female                      8.0                        NaN   \n",
       "4    Male                     36.0                        NaN   \n",
       "\n",
       "   working_hours_home_whilekids  working_hours_home_while_no_kids  \\\n",
       "0                           0.0                               0.0   \n",
       "1                           0.0                               0.0   \n",
       "2                           4.0                               0.0   \n",
       "3                           0.0                               8.0   \n",
       "4                           0.0                               0.0   \n",
       "\n",
       "   childcare_hours_res  homeschool_hours    hh_id   ind_id  \n",
       "0                  0.0               0.0  1049420  1687033  \n",
       "1                  0.0               0.0  1049420  1662353  \n",
       "2                  4.0               0.0  1011033  1631191  \n",
       "3                  0.0               0.0  1011033  1687630  \n",
       "4                  0.0               0.0  1047651  1746405  "
      ],
      "text/html": "<div>\n<style scoped>\n    .dataframe tbody tr th:only-of-type {\n        vertical-align: middle;\n    }\n\n    .dataframe tbody tr th {\n        vertical-align: top;\n    }\n\n    .dataframe thead th {\n        text-align: right;\n    }\n</style>\n<table border=\"1\" class=\"dataframe\">\n  <thead>\n    <tr style=\"text-align: right;\">\n      <th></th>\n      <th>gender</th>\n      <th>working_hours_workplace</th>\n      <th>working_hours_home_nokids</th>\n      <th>working_hours_home_whilekids</th>\n      <th>working_hours_home_while_no_kids</th>\n      <th>childcare_hours_res</th>\n      <th>homeschool_hours</th>\n      <th>hh_id</th>\n      <th>ind_id</th>\n    </tr>\n  </thead>\n  <tbody>\n    <tr>\n      <th>0</th>\n      <td>Male</td>\n      <td>0.0</td>\n      <td>NaN</td>\n      <td>0.0</td>\n      <td>0.0</td>\n      <td>0.0</td>\n      <td>0.0</td>\n      <td>1049420</td>\n      <td>1687033</td>\n    </tr>\n    <tr>\n      <th>1</th>\n      <td>Female</td>\n      <td>3.0</td>\n      <td>NaN</td>\n      <td>0.0</td>\n      <td>0.0</td>\n      <td>0.0</td>\n      <td>0.0</td>\n      <td>1049420</td>\n      <td>1662353</td>\n    </tr>\n    <tr>\n      <th>2</th>\n      <td>Male</td>\n      <td>47.0</td>\n      <td>NaN</td>\n      <td>4.0</td>\n      <td>0.0</td>\n      <td>4.0</td>\n      <td>0.0</td>\n      <td>1011033</td>\n      <td>1631191</td>\n    </tr>\n    <tr>\n      <th>3</th>\n      <td>Female</td>\n      <td>8.0</td>\n      <td>NaN</td>\n      <td>0.0</td>\n      <td>8.0</td>\n      <td>0.0</td>\n      <td>0.0</td>\n      <td>1011033</td>\n      <td>1687630</td>\n    </tr>\n    <tr>\n      <th>4</th>\n      <td>Male</td>\n      <td>36.0</td>\n      <td>NaN</td>\n      <td>0.0</td>\n      <td>0.0</td>\n      <td>0.0</td>\n      <td>0.0</td>\n      <td>1047651</td>\n      <td>1746405</td>\n    </tr>\n  </tbody>\n</table>\n</div>"
     },
     "metadata": {},
     "execution_count": 823
    }
   ],
   "source": [
    "apr_2020.head()"
   ]
  },
  {
   "source": [
    "## Select columns\n",
    "\n",
    "We do not need to keep the old identifiers anymore.\n",
    "\n",
    "You can select a subset of columns by including a list of column names in the standard square brackets used for indexing in Python.\n",
    "\n",
    "Replace the XXXX and YYYY appropriately and include all other variables that you want to keep."
   ],
   "cell_type": "markdown",
   "metadata": {}
  },
  {
   "cell_type": "code",
   "execution_count": 824,
   "metadata": {},
   "outputs": [
    {
     "output_type": "execute_result",
     "data": {
      "text/plain": [
       "array(['member_identifier', 'gender', 'total_working_hours',\n",
       "       'total_childcare_hours', 'household_identifier', 'hh_id', 'ind_id'],\n",
       "      dtype=object)"
      ]
     },
     "metadata": {},
     "execution_count": 824
    }
   ],
   "source": [
    "# Displaying columns' name:\n",
    "nov_2019.columns.values"
   ]
  },
  {
   "cell_type": "code",
   "execution_count": 825,
   "metadata": {},
   "outputs": [],
   "source": [
    "nov_2019 = nov_2019[['hh_id', 'ind_id', \"gender\", \"total_working_hours\", \"total_childcare_hours\"]]"
   ]
  },
  {
   "cell_type": "code",
   "execution_count": 826,
   "metadata": {},
   "outputs": [
    {
     "output_type": "execute_result",
     "data": {
      "text/plain": [
       "     hh_id   ind_id  gender  total_working_hours  total_childcare_hours\n",
       "0  1049420  1687033    Male                  0.0                    2.0\n",
       "1  1049420  1662353  Female                  9.0                    0.0\n",
       "2  1011033  1631191    Male                 67.0                    1.0\n",
       "3  1011033  1687630  Female                 17.0                    6.0\n",
       "4  1047651  1746405    Male                 40.0                   12.0"
      ],
      "text/html": "<div>\n<style scoped>\n    .dataframe tbody tr th:only-of-type {\n        vertical-align: middle;\n    }\n\n    .dataframe tbody tr th {\n        vertical-align: top;\n    }\n\n    .dataframe thead th {\n        text-align: right;\n    }\n</style>\n<table border=\"1\" class=\"dataframe\">\n  <thead>\n    <tr style=\"text-align: right;\">\n      <th></th>\n      <th>hh_id</th>\n      <th>ind_id</th>\n      <th>gender</th>\n      <th>total_working_hours</th>\n      <th>total_childcare_hours</th>\n    </tr>\n  </thead>\n  <tbody>\n    <tr>\n      <th>0</th>\n      <td>1049420</td>\n      <td>1687033</td>\n      <td>Male</td>\n      <td>0.0</td>\n      <td>2.0</td>\n    </tr>\n    <tr>\n      <th>1</th>\n      <td>1049420</td>\n      <td>1662353</td>\n      <td>Female</td>\n      <td>9.0</td>\n      <td>0.0</td>\n    </tr>\n    <tr>\n      <th>2</th>\n      <td>1011033</td>\n      <td>1631191</td>\n      <td>Male</td>\n      <td>67.0</td>\n      <td>1.0</td>\n    </tr>\n    <tr>\n      <th>3</th>\n      <td>1011033</td>\n      <td>1687630</td>\n      <td>Female</td>\n      <td>17.0</td>\n      <td>6.0</td>\n    </tr>\n    <tr>\n      <th>4</th>\n      <td>1047651</td>\n      <td>1746405</td>\n      <td>Male</td>\n      <td>40.0</td>\n      <td>12.0</td>\n    </tr>\n  </tbody>\n</table>\n</div>"
     },
     "metadata": {},
     "execution_count": 826
    }
   ],
   "source": [
    "nov_2019.head()"
   ]
  },
  {
   "source": [
    "## Set index\n",
    "\n",
    "The default index created by Pandas (a DataFrame always has an index) does not make much sense.\n",
    "\n",
    "Create an index based on a column / several columns that makes sense to you via replacing the XXXX by an appropriate construct."
   ],
   "cell_type": "markdown",
   "metadata": {}
  },
  {
   "cell_type": "code",
   "execution_count": 827,
   "metadata": {},
   "outputs": [],
   "source": [
    "nov_2019_with_index = nov_2019.set_index(['hh_id', 'ind_id'])\n",
    "apr_2020_with_index = apr_2020.set_index(['hh_id', 'ind_id'])"
   ]
  },
  {
   "cell_type": "code",
   "execution_count": 828,
   "metadata": {},
   "outputs": [
    {
     "output_type": "execute_result",
     "data": {
      "text/plain": [
       "                 gender  total_working_hours  total_childcare_hours\n",
       "hh_id   ind_id                                                     \n",
       "1049420 1687033    Male                  0.0                    2.0\n",
       "        1662353  Female                  9.0                    0.0\n",
       "1011033 1631191    Male                 67.0                    1.0\n",
       "        1687630  Female                 17.0                    6.0\n",
       "1047651 1746405    Male                 40.0                   12.0\n",
       "        1712561  Female                  0.0                   40.0\n",
       "1059082 1755058    Male                 32.0                    8.0\n",
       "        1703625  Female                  0.0                   40.0\n",
       "1032991 1660073    Male                 40.0                   20.0\n",
       "        1679690  Female                  0.0                    0.0"
      ],
      "text/html": "<div>\n<style scoped>\n    .dataframe tbody tr th:only-of-type {\n        vertical-align: middle;\n    }\n\n    .dataframe tbody tr th {\n        vertical-align: top;\n    }\n\n    .dataframe thead th {\n        text-align: right;\n    }\n</style>\n<table border=\"1\" class=\"dataframe\">\n  <thead>\n    <tr style=\"text-align: right;\">\n      <th></th>\n      <th></th>\n      <th>gender</th>\n      <th>total_working_hours</th>\n      <th>total_childcare_hours</th>\n    </tr>\n    <tr>\n      <th>hh_id</th>\n      <th>ind_id</th>\n      <th></th>\n      <th></th>\n      <th></th>\n    </tr>\n  </thead>\n  <tbody>\n    <tr>\n      <th rowspan=\"2\" valign=\"top\">1049420</th>\n      <th>1687033</th>\n      <td>Male</td>\n      <td>0.0</td>\n      <td>2.0</td>\n    </tr>\n    <tr>\n      <th>1662353</th>\n      <td>Female</td>\n      <td>9.0</td>\n      <td>0.0</td>\n    </tr>\n    <tr>\n      <th rowspan=\"2\" valign=\"top\">1011033</th>\n      <th>1631191</th>\n      <td>Male</td>\n      <td>67.0</td>\n      <td>1.0</td>\n    </tr>\n    <tr>\n      <th>1687630</th>\n      <td>Female</td>\n      <td>17.0</td>\n      <td>6.0</td>\n    </tr>\n    <tr>\n      <th rowspan=\"2\" valign=\"top\">1047651</th>\n      <th>1746405</th>\n      <td>Male</td>\n      <td>40.0</td>\n      <td>12.0</td>\n    </tr>\n    <tr>\n      <th>1712561</th>\n      <td>Female</td>\n      <td>0.0</td>\n      <td>40.0</td>\n    </tr>\n    <tr>\n      <th rowspan=\"2\" valign=\"top\">1059082</th>\n      <th>1755058</th>\n      <td>Male</td>\n      <td>32.0</td>\n      <td>8.0</td>\n    </tr>\n    <tr>\n      <th>1703625</th>\n      <td>Female</td>\n      <td>0.0</td>\n      <td>40.0</td>\n    </tr>\n    <tr>\n      <th rowspan=\"2\" valign=\"top\">1032991</th>\n      <th>1660073</th>\n      <td>Male</td>\n      <td>40.0</td>\n      <td>20.0</td>\n    </tr>\n    <tr>\n      <th>1679690</th>\n      <td>Female</td>\n      <td>0.0</td>\n      <td>0.0</td>\n    </tr>\n  </tbody>\n</table>\n</div>"
     },
     "metadata": {},
     "execution_count": 828
    }
   ],
   "source": [
    "nov_2019_with_index.head(10)"
   ]
  },
  {
   "cell_type": "code",
   "execution_count": 829,
   "metadata": {},
   "outputs": [
    {
     "output_type": "execute_result",
     "data": {
      "text/plain": [
       "                 gender  working_hours_workplace  working_hours_home_nokids  \\\n",
       "hh_id   ind_id                                                                \n",
       "1049420 1687033    Male                      0.0                        NaN   \n",
       "        1662353  Female                      3.0                        NaN   \n",
       "1011033 1631191    Male                     47.0                        NaN   \n",
       "        1687630  Female                      8.0                        NaN   \n",
       "1047651 1746405    Male                     36.0                        NaN   \n",
       "        1712561  Female                      0.0                        NaN   \n",
       "1059082 1703625  Female                      0.0                        NaN   \n",
       "        1755058    Male                      0.0                        NaN   \n",
       "1032311 1705264    Male                     40.0                        NaN   \n",
       "1050449 1738962    Male                      0.0                        NaN   \n",
       "\n",
       "                 working_hours_home_whilekids  \\\n",
       "hh_id   ind_id                                  \n",
       "1049420 1687033                           0.0   \n",
       "        1662353                           0.0   \n",
       "1011033 1631191                           4.0   \n",
       "        1687630                           0.0   \n",
       "1047651 1746405                           0.0   \n",
       "        1712561                           0.0   \n",
       "1059082 1703625                           1.0   \n",
       "        1755058                           0.0   \n",
       "1032311 1705264                          50.0   \n",
       "1050449 1738962                           0.0   \n",
       "\n",
       "                 working_hours_home_while_no_kids  childcare_hours_res  \\\n",
       "hh_id   ind_id                                                           \n",
       "1049420 1687033                               0.0                  0.0   \n",
       "        1662353                               0.0                  0.0   \n",
       "1011033 1631191                               0.0                  4.0   \n",
       "        1687630                               8.0                  0.0   \n",
       "1047651 1746405                               0.0                  0.0   \n",
       "        1712561                               0.0                  0.0   \n",
       "1059082 1703625                              17.0                 20.0   \n",
       "        1755058                               0.0                  5.0   \n",
       "1032311 1705264                              50.0                 10.0   \n",
       "1050449 1738962                              38.0                  0.0   \n",
       "\n",
       "                 homeschool_hours  \n",
       "hh_id   ind_id                     \n",
       "1049420 1687033               0.0  \n",
       "        1662353               0.0  \n",
       "1011033 1631191               0.0  \n",
       "        1687630               0.0  \n",
       "1047651 1746405               0.0  \n",
       "        1712561               0.0  \n",
       "1059082 1703625              20.0  \n",
       "        1755058               5.0  \n",
       "1032311 1705264               0.0  \n",
       "1050449 1738962               0.0  "
      ],
      "text/html": "<div>\n<style scoped>\n    .dataframe tbody tr th:only-of-type {\n        vertical-align: middle;\n    }\n\n    .dataframe tbody tr th {\n        vertical-align: top;\n    }\n\n    .dataframe thead th {\n        text-align: right;\n    }\n</style>\n<table border=\"1\" class=\"dataframe\">\n  <thead>\n    <tr style=\"text-align: right;\">\n      <th></th>\n      <th></th>\n      <th>gender</th>\n      <th>working_hours_workplace</th>\n      <th>working_hours_home_nokids</th>\n      <th>working_hours_home_whilekids</th>\n      <th>working_hours_home_while_no_kids</th>\n      <th>childcare_hours_res</th>\n      <th>homeschool_hours</th>\n    </tr>\n    <tr>\n      <th>hh_id</th>\n      <th>ind_id</th>\n      <th></th>\n      <th></th>\n      <th></th>\n      <th></th>\n      <th></th>\n      <th></th>\n      <th></th>\n    </tr>\n  </thead>\n  <tbody>\n    <tr>\n      <th rowspan=\"2\" valign=\"top\">1049420</th>\n      <th>1687033</th>\n      <td>Male</td>\n      <td>0.0</td>\n      <td>NaN</td>\n      <td>0.0</td>\n      <td>0.0</td>\n      <td>0.0</td>\n      <td>0.0</td>\n    </tr>\n    <tr>\n      <th>1662353</th>\n      <td>Female</td>\n      <td>3.0</td>\n      <td>NaN</td>\n      <td>0.0</td>\n      <td>0.0</td>\n      <td>0.0</td>\n      <td>0.0</td>\n    </tr>\n    <tr>\n      <th rowspan=\"2\" valign=\"top\">1011033</th>\n      <th>1631191</th>\n      <td>Male</td>\n      <td>47.0</td>\n      <td>NaN</td>\n      <td>4.0</td>\n      <td>0.0</td>\n      <td>4.0</td>\n      <td>0.0</td>\n    </tr>\n    <tr>\n      <th>1687630</th>\n      <td>Female</td>\n      <td>8.0</td>\n      <td>NaN</td>\n      <td>0.0</td>\n      <td>8.0</td>\n      <td>0.0</td>\n      <td>0.0</td>\n    </tr>\n    <tr>\n      <th rowspan=\"2\" valign=\"top\">1047651</th>\n      <th>1746405</th>\n      <td>Male</td>\n      <td>36.0</td>\n      <td>NaN</td>\n      <td>0.0</td>\n      <td>0.0</td>\n      <td>0.0</td>\n      <td>0.0</td>\n    </tr>\n    <tr>\n      <th>1712561</th>\n      <td>Female</td>\n      <td>0.0</td>\n      <td>NaN</td>\n      <td>0.0</td>\n      <td>0.0</td>\n      <td>0.0</td>\n      <td>0.0</td>\n    </tr>\n    <tr>\n      <th rowspan=\"2\" valign=\"top\">1059082</th>\n      <th>1703625</th>\n      <td>Female</td>\n      <td>0.0</td>\n      <td>NaN</td>\n      <td>1.0</td>\n      <td>17.0</td>\n      <td>20.0</td>\n      <td>20.0</td>\n    </tr>\n    <tr>\n      <th>1755058</th>\n      <td>Male</td>\n      <td>0.0</td>\n      <td>NaN</td>\n      <td>0.0</td>\n      <td>0.0</td>\n      <td>5.0</td>\n      <td>5.0</td>\n    </tr>\n    <tr>\n      <th>1032311</th>\n      <th>1705264</th>\n      <td>Male</td>\n      <td>40.0</td>\n      <td>NaN</td>\n      <td>50.0</td>\n      <td>50.0</td>\n      <td>10.0</td>\n      <td>0.0</td>\n    </tr>\n    <tr>\n      <th>1050449</th>\n      <th>1738962</th>\n      <td>Male</td>\n      <td>0.0</td>\n      <td>NaN</td>\n      <td>0.0</td>\n      <td>38.0</td>\n      <td>0.0</td>\n      <td>0.0</td>\n    </tr>\n  </tbody>\n</table>\n</div>"
     },
     "metadata": {},
     "execution_count": 829
    }
   ],
   "source": [
    "apr_2020_with_index.head(10)"
   ]
  },
  {
   "source": [
    "## Our first reduction operation\n",
    "\n",
    "Calculate the mean hours spent on different activities."
   ],
   "cell_type": "markdown",
   "metadata": {}
  },
  {
   "cell_type": "code",
   "execution_count": 830,
   "metadata": {},
   "outputs": [],
   "source": [
    "# Define an average() function (I'm surprised there's no built-in)\n",
    "def average(list):\n",
    "    \"\"\"Returns the average of a list.\n",
    "\n",
    "    Args:\n",
    "        list (interable): a list of numbers\n",
    "    \n",
    "    Returns:\n",
    "        float: the average of the list of numbers\n",
    "    \"\"\"\n",
    "    \n",
    "    out = sum(list) / len(list)\n",
    "    return out "
   ]
  },
  {
   "cell_type": "code",
   "execution_count": 831,
   "metadata": {},
   "outputs": [
    {
     "output_type": "stream",
     "name": "stdout",
     "text": [
      "Mean working hours in Nov 2019 is: 17.988636363636363\nand it should be the same as the results from the self-defined function. Indeed, here's the output: \n17.988636363636363\n"
     ]
    }
   ],
   "source": [
    "# Use the built-in one from statistics:\n",
    "print(\"Mean working hours in Nov 2019 is: \", end=\"\")\n",
    "print(mean(nov_2019['total_working_hours']))\n",
    "\n",
    "# And from the self-defined one:\n",
    "print(\"and it should be the same as the results from the self-defined function. Indeed, here's the output: \")\n",
    "print(average(nov_2019['total_working_hours']))"
   ]
  },
  {
   "source": [
    "## Our second reduction operation\n",
    "\n",
    "Calculate the mean hours spent on different activities by gender by appending the following with the appropriate method to calculate a mean."
   ],
   "cell_type": "markdown",
   "metadata": {}
  },
  {
   "cell_type": "code",
   "execution_count": 832,
   "metadata": {},
   "outputs": [
    {
     "output_type": "execute_result",
     "data": {
      "text/plain": [
       "        total_working_hours  total_childcare_hours\n",
       "gender                                            \n",
       "Male              23.434783               7.315789\n",
       "Female            12.023810              18.263158"
      ],
      "text/html": "<div>\n<style scoped>\n    .dataframe tbody tr th:only-of-type {\n        vertical-align: middle;\n    }\n\n    .dataframe tbody tr th {\n        vertical-align: top;\n    }\n\n    .dataframe thead th {\n        text-align: right;\n    }\n</style>\n<table border=\"1\" class=\"dataframe\">\n  <thead>\n    <tr style=\"text-align: right;\">\n      <th></th>\n      <th>total_working_hours</th>\n      <th>total_childcare_hours</th>\n    </tr>\n    <tr>\n      <th>gender</th>\n      <th></th>\n      <th></th>\n    </tr>\n  </thead>\n  <tbody>\n    <tr>\n      <th>Male</th>\n      <td>23.434783</td>\n      <td>7.315789</td>\n    </tr>\n    <tr>\n      <th>Female</th>\n      <td>12.023810</td>\n      <td>18.263158</td>\n    </tr>\n  </tbody>\n</table>\n</div>"
     },
     "metadata": {},
     "execution_count": 832
    }
   ],
   "source": [
    "nov_2019.groupby(\"gender\")[[\"total_working_hours\", \"total_childcare_hours\"]].mean()"
   ]
  },
  {
   "source": [
    "## 1.4. Append the 2 dataframes\n"
   ],
   "cell_type": "markdown",
   "metadata": {}
  },
  {
   "cell_type": "code",
   "execution_count": 833,
   "metadata": {},
   "outputs": [],
   "source": [
    "# Creating new columns before appending:\n",
    "apr_2020['total_working_hours'] = np.nansum([apr_2020.working_hours_home_nokids, apr_2020.working_hours_home_while_no_kids, apr_2020.working_hours_home_whilekids, apr_2020.working_hours_workplace], axis=0)\n",
    "\n",
    "apr_2020['total_childcare_hours'] = np.nansum([apr_2020.childcare_hours_res, apr_2020.working_hours_home_whilekids], axis=0)"
   ]
  },
  {
   "cell_type": "code",
   "execution_count": 834,
   "metadata": {},
   "outputs": [
    {
     "output_type": "execute_result",
     "data": {
      "text/plain": [
       "   gender  working_hours_workplace  working_hours_home_nokids  \\\n",
       "0    Male                      0.0                        NaN   \n",
       "1  Female                      3.0                        NaN   \n",
       "2    Male                     47.0                        NaN   \n",
       "3  Female                      8.0                        NaN   \n",
       "4    Male                     36.0                        NaN   \n",
       "5  Female                      0.0                        NaN   \n",
       "6  Female                      0.0                        NaN   \n",
       "7    Male                      0.0                        NaN   \n",
       "8    Male                     40.0                        NaN   \n",
       "9    Male                      0.0                        NaN   \n",
       "\n",
       "   working_hours_home_whilekids  working_hours_home_while_no_kids  \\\n",
       "0                           0.0                               0.0   \n",
       "1                           0.0                               0.0   \n",
       "2                           4.0                               0.0   \n",
       "3                           0.0                               8.0   \n",
       "4                           0.0                               0.0   \n",
       "5                           0.0                               0.0   \n",
       "6                           1.0                              17.0   \n",
       "7                           0.0                               0.0   \n",
       "8                          50.0                              50.0   \n",
       "9                           0.0                              38.0   \n",
       "\n",
       "   childcare_hours_res  homeschool_hours    hh_id   ind_id  \\\n",
       "0                  0.0               0.0  1049420  1687033   \n",
       "1                  0.0               0.0  1049420  1662353   \n",
       "2                  4.0               0.0  1011033  1631191   \n",
       "3                  0.0               0.0  1011033  1687630   \n",
       "4                  0.0               0.0  1047651  1746405   \n",
       "5                  0.0               0.0  1047651  1712561   \n",
       "6                 20.0              20.0  1059082  1703625   \n",
       "7                  5.0               5.0  1059082  1755058   \n",
       "8                 10.0               0.0  1032311  1705264   \n",
       "9                  0.0               0.0  1050449  1738962   \n",
       "\n",
       "   total_working_hours  total_childcare_hours  \n",
       "0                  0.0                    0.0  \n",
       "1                  3.0                    0.0  \n",
       "2                 51.0                    8.0  \n",
       "3                 16.0                    0.0  \n",
       "4                 36.0                    0.0  \n",
       "5                  0.0                    0.0  \n",
       "6                 18.0                   21.0  \n",
       "7                  0.0                    5.0  \n",
       "8                140.0                   60.0  \n",
       "9                 38.0                    0.0  "
      ],
      "text/html": "<div>\n<style scoped>\n    .dataframe tbody tr th:only-of-type {\n        vertical-align: middle;\n    }\n\n    .dataframe tbody tr th {\n        vertical-align: top;\n    }\n\n    .dataframe thead th {\n        text-align: right;\n    }\n</style>\n<table border=\"1\" class=\"dataframe\">\n  <thead>\n    <tr style=\"text-align: right;\">\n      <th></th>\n      <th>gender</th>\n      <th>working_hours_workplace</th>\n      <th>working_hours_home_nokids</th>\n      <th>working_hours_home_whilekids</th>\n      <th>working_hours_home_while_no_kids</th>\n      <th>childcare_hours_res</th>\n      <th>homeschool_hours</th>\n      <th>hh_id</th>\n      <th>ind_id</th>\n      <th>total_working_hours</th>\n      <th>total_childcare_hours</th>\n    </tr>\n  </thead>\n  <tbody>\n    <tr>\n      <th>0</th>\n      <td>Male</td>\n      <td>0.0</td>\n      <td>NaN</td>\n      <td>0.0</td>\n      <td>0.0</td>\n      <td>0.0</td>\n      <td>0.0</td>\n      <td>1049420</td>\n      <td>1687033</td>\n      <td>0.0</td>\n      <td>0.0</td>\n    </tr>\n    <tr>\n      <th>1</th>\n      <td>Female</td>\n      <td>3.0</td>\n      <td>NaN</td>\n      <td>0.0</td>\n      <td>0.0</td>\n      <td>0.0</td>\n      <td>0.0</td>\n      <td>1049420</td>\n      <td>1662353</td>\n      <td>3.0</td>\n      <td>0.0</td>\n    </tr>\n    <tr>\n      <th>2</th>\n      <td>Male</td>\n      <td>47.0</td>\n      <td>NaN</td>\n      <td>4.0</td>\n      <td>0.0</td>\n      <td>4.0</td>\n      <td>0.0</td>\n      <td>1011033</td>\n      <td>1631191</td>\n      <td>51.0</td>\n      <td>8.0</td>\n    </tr>\n    <tr>\n      <th>3</th>\n      <td>Female</td>\n      <td>8.0</td>\n      <td>NaN</td>\n      <td>0.0</td>\n      <td>8.0</td>\n      <td>0.0</td>\n      <td>0.0</td>\n      <td>1011033</td>\n      <td>1687630</td>\n      <td>16.0</td>\n      <td>0.0</td>\n    </tr>\n    <tr>\n      <th>4</th>\n      <td>Male</td>\n      <td>36.0</td>\n      <td>NaN</td>\n      <td>0.0</td>\n      <td>0.0</td>\n      <td>0.0</td>\n      <td>0.0</td>\n      <td>1047651</td>\n      <td>1746405</td>\n      <td>36.0</td>\n      <td>0.0</td>\n    </tr>\n    <tr>\n      <th>5</th>\n      <td>Female</td>\n      <td>0.0</td>\n      <td>NaN</td>\n      <td>0.0</td>\n      <td>0.0</td>\n      <td>0.0</td>\n      <td>0.0</td>\n      <td>1047651</td>\n      <td>1712561</td>\n      <td>0.0</td>\n      <td>0.0</td>\n    </tr>\n    <tr>\n      <th>6</th>\n      <td>Female</td>\n      <td>0.0</td>\n      <td>NaN</td>\n      <td>1.0</td>\n      <td>17.0</td>\n      <td>20.0</td>\n      <td>20.0</td>\n      <td>1059082</td>\n      <td>1703625</td>\n      <td>18.0</td>\n      <td>21.0</td>\n    </tr>\n    <tr>\n      <th>7</th>\n      <td>Male</td>\n      <td>0.0</td>\n      <td>NaN</td>\n      <td>0.0</td>\n      <td>0.0</td>\n      <td>5.0</td>\n      <td>5.0</td>\n      <td>1059082</td>\n      <td>1755058</td>\n      <td>0.0</td>\n      <td>5.0</td>\n    </tr>\n    <tr>\n      <th>8</th>\n      <td>Male</td>\n      <td>40.0</td>\n      <td>NaN</td>\n      <td>50.0</td>\n      <td>50.0</td>\n      <td>10.0</td>\n      <td>0.0</td>\n      <td>1032311</td>\n      <td>1705264</td>\n      <td>140.0</td>\n      <td>60.0</td>\n    </tr>\n    <tr>\n      <th>9</th>\n      <td>Male</td>\n      <td>0.0</td>\n      <td>NaN</td>\n      <td>0.0</td>\n      <td>38.0</td>\n      <td>0.0</td>\n      <td>0.0</td>\n      <td>1050449</td>\n      <td>1738962</td>\n      <td>38.0</td>\n      <td>0.0</td>\n    </tr>\n  </tbody>\n</table>\n</div>"
     },
     "metadata": {},
     "execution_count": 834
    }
   ],
   "source": [
    "apr_2020.head(10)"
   ]
  },
  {
   "cell_type": "code",
   "execution_count": 835,
   "metadata": {},
   "outputs": [
    {
     "output_type": "execute_result",
     "data": {
      "text/plain": [
       "     hh_id   ind_id  gender  total_working_hours  total_childcare_hours\n",
       "0  1049420  1687033    Male                  0.0                    2.0\n",
       "1  1049420  1662353  Female                  9.0                    0.0\n",
       "2  1011033  1631191    Male                 67.0                    1.0\n",
       "3  1011033  1687630  Female                 17.0                    6.0\n",
       "4  1047651  1746405    Male                 40.0                   12.0"
      ],
      "text/html": "<div>\n<style scoped>\n    .dataframe tbody tr th:only-of-type {\n        vertical-align: middle;\n    }\n\n    .dataframe tbody tr th {\n        vertical-align: top;\n    }\n\n    .dataframe thead th {\n        text-align: right;\n    }\n</style>\n<table border=\"1\" class=\"dataframe\">\n  <thead>\n    <tr style=\"text-align: right;\">\n      <th></th>\n      <th>hh_id</th>\n      <th>ind_id</th>\n      <th>gender</th>\n      <th>total_working_hours</th>\n      <th>total_childcare_hours</th>\n    </tr>\n  </thead>\n  <tbody>\n    <tr>\n      <th>0</th>\n      <td>1049420</td>\n      <td>1687033</td>\n      <td>Male</td>\n      <td>0.0</td>\n      <td>2.0</td>\n    </tr>\n    <tr>\n      <th>1</th>\n      <td>1049420</td>\n      <td>1662353</td>\n      <td>Female</td>\n      <td>9.0</td>\n      <td>0.0</td>\n    </tr>\n    <tr>\n      <th>2</th>\n      <td>1011033</td>\n      <td>1631191</td>\n      <td>Male</td>\n      <td>67.0</td>\n      <td>1.0</td>\n    </tr>\n    <tr>\n      <th>3</th>\n      <td>1011033</td>\n      <td>1687630</td>\n      <td>Female</td>\n      <td>17.0</td>\n      <td>6.0</td>\n    </tr>\n    <tr>\n      <th>4</th>\n      <td>1047651</td>\n      <td>1746405</td>\n      <td>Male</td>\n      <td>40.0</td>\n      <td>12.0</td>\n    </tr>\n  </tbody>\n</table>\n</div>"
     },
     "metadata": {},
     "execution_count": 835
    }
   ],
   "source": [
    "nov_2019.head()"
   ]
  },
  {
   "cell_type": "code",
   "execution_count": 836,
   "metadata": {},
   "outputs": [],
   "source": [
    "data_appended = apr_2020.append(nov_2019)"
   ]
  },
  {
   "cell_type": "code",
   "execution_count": 837,
   "metadata": {},
   "outputs": [
    {
     "output_type": "stream",
     "name": "stdout",
     "text": [
      "Total number of rows is: 194\nNumber of obs in Apr: 106\nNumber of obs in Apr: 88\n"
     ]
    }
   ],
   "source": [
    "# Verify that we did not miss any row:\n",
    "print(f\"Total number of rows is: {apr_2020.shape[0] + nov_2019.shape[0]}\")\n",
    "\n",
    "# Print the number of rows of apr_2020:\n",
    "print(f\"Number of obs in Apr: {apr_2020.shape[0]}\")\n",
    "\n",
    "# Print the number of rows of nov_2019:\n",
    "print(f\"Number of obs in Apr: {nov_2019.shape[0]}\")"
   ]
  },
  {
   "cell_type": "code",
   "execution_count": 838,
   "metadata": {},
   "outputs": [],
   "source": [
    "# Create a month column:\n",
    "month = np.repeat(np.array(['Apr', 'Nov']), [106, 88])"
   ]
  },
  {
   "cell_type": "code",
   "execution_count": 839,
   "metadata": {},
   "outputs": [],
   "source": [
    "# Append it to the table:\n",
    "data_appended['month'] = month"
   ]
  },
  {
   "cell_type": "code",
   "execution_count": 840,
   "metadata": {},
   "outputs": [
    {
     "output_type": "execute_result",
     "data": {
      "text/plain": [
       "   childcare_hours_res  gender    hh_id  homeschool_hours   ind_id  \\\n",
       "0                  0.0    Male  1049420               0.0  1687033   \n",
       "1                  0.0  Female  1049420               0.0  1662353   \n",
       "2                  4.0    Male  1011033               0.0  1631191   \n",
       "3                  0.0  Female  1011033               0.0  1687630   \n",
       "4                  0.0    Male  1047651               0.0  1746405   \n",
       "\n",
       "   total_childcare_hours  total_working_hours  working_hours_home_nokids  \\\n",
       "0                    0.0                  0.0                        NaN   \n",
       "1                    0.0                  3.0                        NaN   \n",
       "2                    8.0                 51.0                        NaN   \n",
       "3                    0.0                 16.0                        NaN   \n",
       "4                    0.0                 36.0                        NaN   \n",
       "\n",
       "   working_hours_home_while_no_kids  working_hours_home_whilekids  \\\n",
       "0                               0.0                           0.0   \n",
       "1                               0.0                           0.0   \n",
       "2                               0.0                           4.0   \n",
       "3                               8.0                           0.0   \n",
       "4                               0.0                           0.0   \n",
       "\n",
       "   working_hours_workplace month  \n",
       "0                      0.0   Apr  \n",
       "1                      3.0   Apr  \n",
       "2                     47.0   Apr  \n",
       "3                      8.0   Apr  \n",
       "4                     36.0   Apr  "
      ],
      "text/html": "<div>\n<style scoped>\n    .dataframe tbody tr th:only-of-type {\n        vertical-align: middle;\n    }\n\n    .dataframe tbody tr th {\n        vertical-align: top;\n    }\n\n    .dataframe thead th {\n        text-align: right;\n    }\n</style>\n<table border=\"1\" class=\"dataframe\">\n  <thead>\n    <tr style=\"text-align: right;\">\n      <th></th>\n      <th>childcare_hours_res</th>\n      <th>gender</th>\n      <th>hh_id</th>\n      <th>homeschool_hours</th>\n      <th>ind_id</th>\n      <th>total_childcare_hours</th>\n      <th>total_working_hours</th>\n      <th>working_hours_home_nokids</th>\n      <th>working_hours_home_while_no_kids</th>\n      <th>working_hours_home_whilekids</th>\n      <th>working_hours_workplace</th>\n      <th>month</th>\n    </tr>\n  </thead>\n  <tbody>\n    <tr>\n      <th>0</th>\n      <td>0.0</td>\n      <td>Male</td>\n      <td>1049420</td>\n      <td>0.0</td>\n      <td>1687033</td>\n      <td>0.0</td>\n      <td>0.0</td>\n      <td>NaN</td>\n      <td>0.0</td>\n      <td>0.0</td>\n      <td>0.0</td>\n      <td>Apr</td>\n    </tr>\n    <tr>\n      <th>1</th>\n      <td>0.0</td>\n      <td>Female</td>\n      <td>1049420</td>\n      <td>0.0</td>\n      <td>1662353</td>\n      <td>0.0</td>\n      <td>3.0</td>\n      <td>NaN</td>\n      <td>0.0</td>\n      <td>0.0</td>\n      <td>3.0</td>\n      <td>Apr</td>\n    </tr>\n    <tr>\n      <th>2</th>\n      <td>4.0</td>\n      <td>Male</td>\n      <td>1011033</td>\n      <td>0.0</td>\n      <td>1631191</td>\n      <td>8.0</td>\n      <td>51.0</td>\n      <td>NaN</td>\n      <td>0.0</td>\n      <td>4.0</td>\n      <td>47.0</td>\n      <td>Apr</td>\n    </tr>\n    <tr>\n      <th>3</th>\n      <td>0.0</td>\n      <td>Female</td>\n      <td>1011033</td>\n      <td>0.0</td>\n      <td>1687630</td>\n      <td>0.0</td>\n      <td>16.0</td>\n      <td>NaN</td>\n      <td>8.0</td>\n      <td>0.0</td>\n      <td>8.0</td>\n      <td>Apr</td>\n    </tr>\n    <tr>\n      <th>4</th>\n      <td>0.0</td>\n      <td>Male</td>\n      <td>1047651</td>\n      <td>0.0</td>\n      <td>1746405</td>\n      <td>0.0</td>\n      <td>36.0</td>\n      <td>NaN</td>\n      <td>0.0</td>\n      <td>0.0</td>\n      <td>36.0</td>\n      <td>Apr</td>\n    </tr>\n  </tbody>\n</table>\n</div>"
     },
     "metadata": {},
     "execution_count": 840
    }
   ],
   "source": [
    "data_appended.head()"
   ]
  },
  {
   "cell_type": "code",
   "execution_count": 841,
   "metadata": {},
   "outputs": [
    {
     "output_type": "execute_result",
     "data": {
      "text/plain": [
       "array(['childcare_hours_res', 'gender', 'hh_id', 'homeschool_hours',\n",
       "       'ind_id', 'total_childcare_hours', 'total_working_hours',\n",
       "       'working_hours_home_nokids', 'working_hours_home_while_no_kids',\n",
       "       'working_hours_home_whilekids', 'working_hours_workplace', 'month'],\n",
       "      dtype=object)"
      ]
     },
     "metadata": {},
     "execution_count": 841
    }
   ],
   "source": [
    "data_appended.columns.values"
   ]
  },
  {
   "cell_type": "code",
   "execution_count": 842,
   "metadata": {},
   "outputs": [],
   "source": [
    "data_appended = data_appended[['hh_id', 'ind_id', 'gender', 'month', 'total_childcare_hours', 'total_working_hours', 'working_hours_workplace', 'working_hours_home_whilekids', 'working_hours_home_while_no_kids', 'working_hours_home_nokids', 'homeschool_hours', 'childcare_hours_res']]"
   ]
  },
  {
   "cell_type": "code",
   "execution_count": 843,
   "metadata": {},
   "outputs": [
    {
     "output_type": "execute_result",
     "data": {
      "text/plain": [
       "      hh_id   ind_id  gender month  total_childcare_hours  \\\n",
       "0   1049420  1687033    Male   Apr                    0.0   \n",
       "1   1049420  1662353  Female   Apr                    0.0   \n",
       "2   1011033  1631191    Male   Apr                    8.0   \n",
       "3   1011033  1687630  Female   Apr                    0.0   \n",
       "4   1047651  1746405    Male   Apr                    0.0   \n",
       "5   1047651  1712561  Female   Apr                    0.0   \n",
       "6   1059082  1703625  Female   Apr                   21.0   \n",
       "7   1059082  1755058    Male   Apr                    5.0   \n",
       "8   1032311  1705264    Male   Apr                   60.0   \n",
       "9   1050449  1738962    Male   Apr                    0.0   \n",
       "10  1105688  1649819    Male   Apr                    0.0   \n",
       "11  1032991  1660073    Male   Apr                    0.0   \n",
       "12  1032991  1679690  Female   Apr                    0.0   \n",
       "13  1029103  1663805  Female   Apr                    0.0   \n",
       "14  1029103  1663791    Male   Apr                    0.0   \n",
       "15  1073720  1650880  Female   Apr                    0.0   \n",
       "16  1073720  1700254    Male   Apr                    0.0   \n",
       "17  1027909  1649615    Male   Apr                    0.0   \n",
       "18  1088259  1702907    Male   Apr                   40.0   \n",
       "19  1088259  1693606  Female   Apr                   15.0   \n",
       "20  1115114  1701184    Male   Apr                    0.0   \n",
       "21  1061790  1608167    Male   Apr                    0.0   \n",
       "22  1061790  1774806  Female   Apr                    0.0   \n",
       "23  1069277  1650759  Female   Apr                   28.0   \n",
       "24  1043103  1689329    Male   Apr                    0.0   \n",
       "25  1043103  1727676  Female   Apr                    0.0   \n",
       "26  1089701  1693524    Male   Apr                   56.0   \n",
       "27  1038786  1612215  Female   Apr                    0.0   \n",
       "28  1038786  1686071    Male   Apr                   45.0   \n",
       "29  1081268  1667516  Female   Apr                    0.0   \n",
       "..      ...      ...     ...   ...                    ...   \n",
       "58  1074055  1696604  Female   Nov                    NaN   \n",
       "59  1074055  1767681    Male   Nov                    NaN   \n",
       "60  1108574  1685383  Female   Nov                    NaN   \n",
       "61  1108574  1778851    Male   Nov                    NaN   \n",
       "62  1118280  1691149    Male   Nov                    NaN   \n",
       "63  1118280  1730700  Female   Nov                    NaN   \n",
       "64  1089936  1700136    Male   Nov                    1.0   \n",
       "65  1089936  1611957  Female   Nov                    5.0   \n",
       "66  1081382  1731930    Male   Nov                    0.0   \n",
       "67  1081382  1748601  Female   Nov                    6.0   \n",
       "68  1071717  1669121    Male   Nov                    0.0   \n",
       "69  1071717  1704602  Female   Nov                   20.0   \n",
       "70  1077532  1710003  Female   Nov                    NaN   \n",
       "71  1077532  1654486    Male   Nov                    NaN   \n",
       "72  1143095  1731895    Male   Nov                    NaN   \n",
       "73  1143095  1709681  Female   Nov                    NaN   \n",
       "74  1123905  1715447  Female   Nov                    NaN   \n",
       "75  1123905  1684283    Male   Nov                    NaN   \n",
       "76  1173782  1731612  Female   Nov                    NaN   \n",
       "77  1119306  1636848  Female   Nov                    NaN   \n",
       "78  1119306  1744051    Male   Nov                    NaN   \n",
       "79  1096458  1626957    Male   Nov                    0.0   \n",
       "80  1142793  1760207    Male   Nov                    NaN   \n",
       "81  1098029  1645083  Female   Nov                   25.0   \n",
       "82  1098029  1716860    Male   Nov                   33.0   \n",
       "83  1132053  1700319    Male   Nov                    NaN   \n",
       "84  1156059  1696174    Male   Nov                    NaN   \n",
       "85  1144468  1678816  Female   Nov                   25.0   \n",
       "86  1144468  1668177    Male   Nov                    4.0   \n",
       "87  1159704  1655142    Male   Nov                    NaN   \n",
       "\n",
       "    total_working_hours  working_hours_workplace  \\\n",
       "0                   0.0                      0.0   \n",
       "1                   3.0                      3.0   \n",
       "2                  51.0                     47.0   \n",
       "3                  16.0                      8.0   \n",
       "4                  36.0                     36.0   \n",
       "5                   0.0                      0.0   \n",
       "6                  18.0                      0.0   \n",
       "7                   0.0                      0.0   \n",
       "8                 140.0                     40.0   \n",
       "9                  38.0                      0.0   \n",
       "10                  0.0                      0.0   \n",
       "11                  0.0                      NaN   \n",
       "12                  0.0                      0.0   \n",
       "13                 32.0                     32.0   \n",
       "14                 28.0                     28.0   \n",
       "15                  0.0                      0.0   \n",
       "16                  0.0                      0.0   \n",
       "17                  0.0                      0.0   \n",
       "18                 20.0                      0.0   \n",
       "19                  0.0                      0.0   \n",
       "20                 45.0                      0.0   \n",
       "21                 43.0                      0.0   \n",
       "22                 16.0                      8.0   \n",
       "23                  0.0                      0.0   \n",
       "24                  8.0                      0.0   \n",
       "25                  0.0                      0.0   \n",
       "26                 36.0                      0.0   \n",
       "27                 62.0                     62.0   \n",
       "28                 56.0                     25.0   \n",
       "29                  0.0                      0.0   \n",
       "..                  ...                      ...   \n",
       "58                  0.0                      NaN   \n",
       "59                  0.0                      NaN   \n",
       "60                  0.0                      NaN   \n",
       "61                  0.0                      NaN   \n",
       "62                  0.0                      NaN   \n",
       "63                  0.0                      NaN   \n",
       "64                 40.0                      NaN   \n",
       "65                 25.0                      NaN   \n",
       "66                 50.0                      NaN   \n",
       "67                  0.0                      NaN   \n",
       "68                 51.0                      NaN   \n",
       "69                 14.0                      NaN   \n",
       "70                 34.0                      NaN   \n",
       "71                 33.0                      NaN   \n",
       "72                  0.0                      NaN   \n",
       "73                  0.0                      NaN   \n",
       "74                  0.0                      NaN   \n",
       "75                 44.0                      NaN   \n",
       "76                 40.0                      NaN   \n",
       "77                  0.0                      NaN   \n",
       "78                  0.0                      NaN   \n",
       "79                 40.0                      NaN   \n",
       "80                 55.0                      NaN   \n",
       "81                 35.0                      NaN   \n",
       "82                 45.0                      NaN   \n",
       "83                 40.0                      NaN   \n",
       "84                  0.0                      NaN   \n",
       "85                 24.0                      NaN   \n",
       "86                 36.0                      NaN   \n",
       "87                  0.0                      NaN   \n",
       "\n",
       "    working_hours_home_whilekids  working_hours_home_while_no_kids  \\\n",
       "0                            0.0                               0.0   \n",
       "1                            0.0                               0.0   \n",
       "2                            4.0                               0.0   \n",
       "3                            0.0                               8.0   \n",
       "4                            0.0                               0.0   \n",
       "5                            0.0                               0.0   \n",
       "6                            1.0                              17.0   \n",
       "7                            0.0                               0.0   \n",
       "8                           50.0                              50.0   \n",
       "9                            0.0                              38.0   \n",
       "10                           NaN                               NaN   \n",
       "11                           NaN                               NaN   \n",
       "12                           0.0                               0.0   \n",
       "13                           NaN                               NaN   \n",
       "14                           NaN                               NaN   \n",
       "15                           0.0                               0.0   \n",
       "16                           0.0                               0.0   \n",
       "17                           0.0                               0.0   \n",
       "18                          20.0                               0.0   \n",
       "19                           0.0                               0.0   \n",
       "20                           NaN                               NaN   \n",
       "21                           NaN                               NaN   \n",
       "22                           NaN                               NaN   \n",
       "23                           0.0                               0.0   \n",
       "24                           NaN                               NaN   \n",
       "25                           NaN                               NaN   \n",
       "26                          36.0                               0.0   \n",
       "27                           0.0                               0.0   \n",
       "28                          25.0                               6.0   \n",
       "29                           NaN                               NaN   \n",
       "..                           ...                               ...   \n",
       "58                           NaN                               NaN   \n",
       "59                           NaN                               NaN   \n",
       "60                           NaN                               NaN   \n",
       "61                           NaN                               NaN   \n",
       "62                           NaN                               NaN   \n",
       "63                           NaN                               NaN   \n",
       "64                           NaN                               NaN   \n",
       "65                           NaN                               NaN   \n",
       "66                           NaN                               NaN   \n",
       "67                           NaN                               NaN   \n",
       "68                           NaN                               NaN   \n",
       "69                           NaN                               NaN   \n",
       "70                           NaN                               NaN   \n",
       "71                           NaN                               NaN   \n",
       "72                           NaN                               NaN   \n",
       "73                           NaN                               NaN   \n",
       "74                           NaN                               NaN   \n",
       "75                           NaN                               NaN   \n",
       "76                           NaN                               NaN   \n",
       "77                           NaN                               NaN   \n",
       "78                           NaN                               NaN   \n",
       "79                           NaN                               NaN   \n",
       "80                           NaN                               NaN   \n",
       "81                           NaN                               NaN   \n",
       "82                           NaN                               NaN   \n",
       "83                           NaN                               NaN   \n",
       "84                           NaN                               NaN   \n",
       "85                           NaN                               NaN   \n",
       "86                           NaN                               NaN   \n",
       "87                           NaN                               NaN   \n",
       "\n",
       "    working_hours_home_nokids  homeschool_hours  childcare_hours_res  \n",
       "0                         NaN               0.0                  0.0  \n",
       "1                         NaN               0.0                  0.0  \n",
       "2                         NaN               0.0                  4.0  \n",
       "3                         NaN               0.0                  0.0  \n",
       "4                         NaN               0.0                  0.0  \n",
       "5                         NaN               0.0                  0.0  \n",
       "6                         NaN              20.0                 20.0  \n",
       "7                         NaN               5.0                  5.0  \n",
       "8                         NaN               0.0                 10.0  \n",
       "9                         NaN               0.0                  0.0  \n",
       "10                        0.0               NaN                  NaN  \n",
       "11                        NaN               NaN                  NaN  \n",
       "12                        NaN               0.0                  0.0  \n",
       "13                        0.0               NaN                  NaN  \n",
       "14                        0.0               NaN                  NaN  \n",
       "15                        NaN               0.0                  0.0  \n",
       "16                        NaN               0.0                  0.0  \n",
       "17                        NaN               0.0                  0.0  \n",
       "18                        NaN              10.0                 20.0  \n",
       "19                        NaN              15.0                 15.0  \n",
       "20                       45.0               NaN                  NaN  \n",
       "21                       43.0               NaN                  NaN  \n",
       "22                        8.0               NaN                  NaN  \n",
       "23                        NaN              25.0                 28.0  \n",
       "24                        8.0               NaN                  NaN  \n",
       "25                        0.0               NaN                  NaN  \n",
       "26                        NaN               5.0                 20.0  \n",
       "27                        NaN               2.0                  0.0  \n",
       "28                        NaN               0.0                 20.0  \n",
       "29                        0.0               NaN                  NaN  \n",
       "..                        ...               ...                  ...  \n",
       "58                        NaN               NaN                  NaN  \n",
       "59                        NaN               NaN                  NaN  \n",
       "60                        NaN               NaN                  NaN  \n",
       "61                        NaN               NaN                  NaN  \n",
       "62                        NaN               NaN                  NaN  \n",
       "63                        NaN               NaN                  NaN  \n",
       "64                        NaN               NaN                  NaN  \n",
       "65                        NaN               NaN                  NaN  \n",
       "66                        NaN               NaN                  NaN  \n",
       "67                        NaN               NaN                  NaN  \n",
       "68                        NaN               NaN                  NaN  \n",
       "69                        NaN               NaN                  NaN  \n",
       "70                        NaN               NaN                  NaN  \n",
       "71                        NaN               NaN                  NaN  \n",
       "72                        NaN               NaN                  NaN  \n",
       "73                        NaN               NaN                  NaN  \n",
       "74                        NaN               NaN                  NaN  \n",
       "75                        NaN               NaN                  NaN  \n",
       "76                        NaN               NaN                  NaN  \n",
       "77                        NaN               NaN                  NaN  \n",
       "78                        NaN               NaN                  NaN  \n",
       "79                        NaN               NaN                  NaN  \n",
       "80                        NaN               NaN                  NaN  \n",
       "81                        NaN               NaN                  NaN  \n",
       "82                        NaN               NaN                  NaN  \n",
       "83                        NaN               NaN                  NaN  \n",
       "84                        NaN               NaN                  NaN  \n",
       "85                        NaN               NaN                  NaN  \n",
       "86                        NaN               NaN                  NaN  \n",
       "87                        NaN               NaN                  NaN  \n",
       "\n",
       "[194 rows x 12 columns]"
      ],
      "text/html": "<div>\n<style scoped>\n    .dataframe tbody tr th:only-of-type {\n        vertical-align: middle;\n    }\n\n    .dataframe tbody tr th {\n        vertical-align: top;\n    }\n\n    .dataframe thead th {\n        text-align: right;\n    }\n</style>\n<table border=\"1\" class=\"dataframe\">\n  <thead>\n    <tr style=\"text-align: right;\">\n      <th></th>\n      <th>hh_id</th>\n      <th>ind_id</th>\n      <th>gender</th>\n      <th>month</th>\n      <th>total_childcare_hours</th>\n      <th>total_working_hours</th>\n      <th>working_hours_workplace</th>\n      <th>working_hours_home_whilekids</th>\n      <th>working_hours_home_while_no_kids</th>\n      <th>working_hours_home_nokids</th>\n      <th>homeschool_hours</th>\n      <th>childcare_hours_res</th>\n    </tr>\n  </thead>\n  <tbody>\n    <tr>\n      <th>0</th>\n      <td>1049420</td>\n      <td>1687033</td>\n      <td>Male</td>\n      <td>Apr</td>\n      <td>0.0</td>\n      <td>0.0</td>\n      <td>0.0</td>\n      <td>0.0</td>\n      <td>0.0</td>\n      <td>NaN</td>\n      <td>0.0</td>\n      <td>0.0</td>\n    </tr>\n    <tr>\n      <th>1</th>\n      <td>1049420</td>\n      <td>1662353</td>\n      <td>Female</td>\n      <td>Apr</td>\n      <td>0.0</td>\n      <td>3.0</td>\n      <td>3.0</td>\n      <td>0.0</td>\n      <td>0.0</td>\n      <td>NaN</td>\n      <td>0.0</td>\n      <td>0.0</td>\n    </tr>\n    <tr>\n      <th>2</th>\n      <td>1011033</td>\n      <td>1631191</td>\n      <td>Male</td>\n      <td>Apr</td>\n      <td>8.0</td>\n      <td>51.0</td>\n      <td>47.0</td>\n      <td>4.0</td>\n      <td>0.0</td>\n      <td>NaN</td>\n      <td>0.0</td>\n      <td>4.0</td>\n    </tr>\n    <tr>\n      <th>3</th>\n      <td>1011033</td>\n      <td>1687630</td>\n      <td>Female</td>\n      <td>Apr</td>\n      <td>0.0</td>\n      <td>16.0</td>\n      <td>8.0</td>\n      <td>0.0</td>\n      <td>8.0</td>\n      <td>NaN</td>\n      <td>0.0</td>\n      <td>0.0</td>\n    </tr>\n    <tr>\n      <th>4</th>\n      <td>1047651</td>\n      <td>1746405</td>\n      <td>Male</td>\n      <td>Apr</td>\n      <td>0.0</td>\n      <td>36.0</td>\n      <td>36.0</td>\n      <td>0.0</td>\n      <td>0.0</td>\n      <td>NaN</td>\n      <td>0.0</td>\n      <td>0.0</td>\n    </tr>\n    <tr>\n      <th>5</th>\n      <td>1047651</td>\n      <td>1712561</td>\n      <td>Female</td>\n      <td>Apr</td>\n      <td>0.0</td>\n      <td>0.0</td>\n      <td>0.0</td>\n      <td>0.0</td>\n      <td>0.0</td>\n      <td>NaN</td>\n      <td>0.0</td>\n      <td>0.0</td>\n    </tr>\n    <tr>\n      <th>6</th>\n      <td>1059082</td>\n      <td>1703625</td>\n      <td>Female</td>\n      <td>Apr</td>\n      <td>21.0</td>\n      <td>18.0</td>\n      <td>0.0</td>\n      <td>1.0</td>\n      <td>17.0</td>\n      <td>NaN</td>\n      <td>20.0</td>\n      <td>20.0</td>\n    </tr>\n    <tr>\n      <th>7</th>\n      <td>1059082</td>\n      <td>1755058</td>\n      <td>Male</td>\n      <td>Apr</td>\n      <td>5.0</td>\n      <td>0.0</td>\n      <td>0.0</td>\n      <td>0.0</td>\n      <td>0.0</td>\n      <td>NaN</td>\n      <td>5.0</td>\n      <td>5.0</td>\n    </tr>\n    <tr>\n      <th>8</th>\n      <td>1032311</td>\n      <td>1705264</td>\n      <td>Male</td>\n      <td>Apr</td>\n      <td>60.0</td>\n      <td>140.0</td>\n      <td>40.0</td>\n      <td>50.0</td>\n      <td>50.0</td>\n      <td>NaN</td>\n      <td>0.0</td>\n      <td>10.0</td>\n    </tr>\n    <tr>\n      <th>9</th>\n      <td>1050449</td>\n      <td>1738962</td>\n      <td>Male</td>\n      <td>Apr</td>\n      <td>0.0</td>\n      <td>38.0</td>\n      <td>0.0</td>\n      <td>0.0</td>\n      <td>38.0</td>\n      <td>NaN</td>\n      <td>0.0</td>\n      <td>0.0</td>\n    </tr>\n    <tr>\n      <th>10</th>\n      <td>1105688</td>\n      <td>1649819</td>\n      <td>Male</td>\n      <td>Apr</td>\n      <td>0.0</td>\n      <td>0.0</td>\n      <td>0.0</td>\n      <td>NaN</td>\n      <td>NaN</td>\n      <td>0.0</td>\n      <td>NaN</td>\n      <td>NaN</td>\n    </tr>\n    <tr>\n      <th>11</th>\n      <td>1032991</td>\n      <td>1660073</td>\n      <td>Male</td>\n      <td>Apr</td>\n      <td>0.0</td>\n      <td>0.0</td>\n      <td>NaN</td>\n      <td>NaN</td>\n      <td>NaN</td>\n      <td>NaN</td>\n      <td>NaN</td>\n      <td>NaN</td>\n    </tr>\n    <tr>\n      <th>12</th>\n      <td>1032991</td>\n      <td>1679690</td>\n      <td>Female</td>\n      <td>Apr</td>\n      <td>0.0</td>\n      <td>0.0</td>\n      <td>0.0</td>\n      <td>0.0</td>\n      <td>0.0</td>\n      <td>NaN</td>\n      <td>0.0</td>\n      <td>0.0</td>\n    </tr>\n    <tr>\n      <th>13</th>\n      <td>1029103</td>\n      <td>1663805</td>\n      <td>Female</td>\n      <td>Apr</td>\n      <td>0.0</td>\n      <td>32.0</td>\n      <td>32.0</td>\n      <td>NaN</td>\n      <td>NaN</td>\n      <td>0.0</td>\n      <td>NaN</td>\n      <td>NaN</td>\n    </tr>\n    <tr>\n      <th>14</th>\n      <td>1029103</td>\n      <td>1663791</td>\n      <td>Male</td>\n      <td>Apr</td>\n      <td>0.0</td>\n      <td>28.0</td>\n      <td>28.0</td>\n      <td>NaN</td>\n      <td>NaN</td>\n      <td>0.0</td>\n      <td>NaN</td>\n      <td>NaN</td>\n    </tr>\n    <tr>\n      <th>15</th>\n      <td>1073720</td>\n      <td>1650880</td>\n      <td>Female</td>\n      <td>Apr</td>\n      <td>0.0</td>\n      <td>0.0</td>\n      <td>0.0</td>\n      <td>0.0</td>\n      <td>0.0</td>\n      <td>NaN</td>\n      <td>0.0</td>\n      <td>0.0</td>\n    </tr>\n    <tr>\n      <th>16</th>\n      <td>1073720</td>\n      <td>1700254</td>\n      <td>Male</td>\n      <td>Apr</td>\n      <td>0.0</td>\n      <td>0.0</td>\n      <td>0.0</td>\n      <td>0.0</td>\n      <td>0.0</td>\n      <td>NaN</td>\n      <td>0.0</td>\n      <td>0.0</td>\n    </tr>\n    <tr>\n      <th>17</th>\n      <td>1027909</td>\n      <td>1649615</td>\n      <td>Male</td>\n      <td>Apr</td>\n      <td>0.0</td>\n      <td>0.0</td>\n      <td>0.0</td>\n      <td>0.0</td>\n      <td>0.0</td>\n      <td>NaN</td>\n      <td>0.0</td>\n      <td>0.0</td>\n    </tr>\n    <tr>\n      <th>18</th>\n      <td>1088259</td>\n      <td>1702907</td>\n      <td>Male</td>\n      <td>Apr</td>\n      <td>40.0</td>\n      <td>20.0</td>\n      <td>0.0</td>\n      <td>20.0</td>\n      <td>0.0</td>\n      <td>NaN</td>\n      <td>10.0</td>\n      <td>20.0</td>\n    </tr>\n    <tr>\n      <th>19</th>\n      <td>1088259</td>\n      <td>1693606</td>\n      <td>Female</td>\n      <td>Apr</td>\n      <td>15.0</td>\n      <td>0.0</td>\n      <td>0.0</td>\n      <td>0.0</td>\n      <td>0.0</td>\n      <td>NaN</td>\n      <td>15.0</td>\n      <td>15.0</td>\n    </tr>\n    <tr>\n      <th>20</th>\n      <td>1115114</td>\n      <td>1701184</td>\n      <td>Male</td>\n      <td>Apr</td>\n      <td>0.0</td>\n      <td>45.0</td>\n      <td>0.0</td>\n      <td>NaN</td>\n      <td>NaN</td>\n      <td>45.0</td>\n      <td>NaN</td>\n      <td>NaN</td>\n    </tr>\n    <tr>\n      <th>21</th>\n      <td>1061790</td>\n      <td>1608167</td>\n      <td>Male</td>\n      <td>Apr</td>\n      <td>0.0</td>\n      <td>43.0</td>\n      <td>0.0</td>\n      <td>NaN</td>\n      <td>NaN</td>\n      <td>43.0</td>\n      <td>NaN</td>\n      <td>NaN</td>\n    </tr>\n    <tr>\n      <th>22</th>\n      <td>1061790</td>\n      <td>1774806</td>\n      <td>Female</td>\n      <td>Apr</td>\n      <td>0.0</td>\n      <td>16.0</td>\n      <td>8.0</td>\n      <td>NaN</td>\n      <td>NaN</td>\n      <td>8.0</td>\n      <td>NaN</td>\n      <td>NaN</td>\n    </tr>\n    <tr>\n      <th>23</th>\n      <td>1069277</td>\n      <td>1650759</td>\n      <td>Female</td>\n      <td>Apr</td>\n      <td>28.0</td>\n      <td>0.0</td>\n      <td>0.0</td>\n      <td>0.0</td>\n      <td>0.0</td>\n      <td>NaN</td>\n      <td>25.0</td>\n      <td>28.0</td>\n    </tr>\n    <tr>\n      <th>24</th>\n      <td>1043103</td>\n      <td>1689329</td>\n      <td>Male</td>\n      <td>Apr</td>\n      <td>0.0</td>\n      <td>8.0</td>\n      <td>0.0</td>\n      <td>NaN</td>\n      <td>NaN</td>\n      <td>8.0</td>\n      <td>NaN</td>\n      <td>NaN</td>\n    </tr>\n    <tr>\n      <th>25</th>\n      <td>1043103</td>\n      <td>1727676</td>\n      <td>Female</td>\n      <td>Apr</td>\n      <td>0.0</td>\n      <td>0.0</td>\n      <td>0.0</td>\n      <td>NaN</td>\n      <td>NaN</td>\n      <td>0.0</td>\n      <td>NaN</td>\n      <td>NaN</td>\n    </tr>\n    <tr>\n      <th>26</th>\n      <td>1089701</td>\n      <td>1693524</td>\n      <td>Male</td>\n      <td>Apr</td>\n      <td>56.0</td>\n      <td>36.0</td>\n      <td>0.0</td>\n      <td>36.0</td>\n      <td>0.0</td>\n      <td>NaN</td>\n      <td>5.0</td>\n      <td>20.0</td>\n    </tr>\n    <tr>\n      <th>27</th>\n      <td>1038786</td>\n      <td>1612215</td>\n      <td>Female</td>\n      <td>Apr</td>\n      <td>0.0</td>\n      <td>62.0</td>\n      <td>62.0</td>\n      <td>0.0</td>\n      <td>0.0</td>\n      <td>NaN</td>\n      <td>2.0</td>\n      <td>0.0</td>\n    </tr>\n    <tr>\n      <th>28</th>\n      <td>1038786</td>\n      <td>1686071</td>\n      <td>Male</td>\n      <td>Apr</td>\n      <td>45.0</td>\n      <td>56.0</td>\n      <td>25.0</td>\n      <td>25.0</td>\n      <td>6.0</td>\n      <td>NaN</td>\n      <td>0.0</td>\n      <td>20.0</td>\n    </tr>\n    <tr>\n      <th>29</th>\n      <td>1081268</td>\n      <td>1667516</td>\n      <td>Female</td>\n      <td>Apr</td>\n      <td>0.0</td>\n      <td>0.0</td>\n      <td>0.0</td>\n      <td>NaN</td>\n      <td>NaN</td>\n      <td>0.0</td>\n      <td>NaN</td>\n      <td>NaN</td>\n    </tr>\n    <tr>\n      <th>...</th>\n      <td>...</td>\n      <td>...</td>\n      <td>...</td>\n      <td>...</td>\n      <td>...</td>\n      <td>...</td>\n      <td>...</td>\n      <td>...</td>\n      <td>...</td>\n      <td>...</td>\n      <td>...</td>\n      <td>...</td>\n    </tr>\n    <tr>\n      <th>58</th>\n      <td>1074055</td>\n      <td>1696604</td>\n      <td>Female</td>\n      <td>Nov</td>\n      <td>NaN</td>\n      <td>0.0</td>\n      <td>NaN</td>\n      <td>NaN</td>\n      <td>NaN</td>\n      <td>NaN</td>\n      <td>NaN</td>\n      <td>NaN</td>\n    </tr>\n    <tr>\n      <th>59</th>\n      <td>1074055</td>\n      <td>1767681</td>\n      <td>Male</td>\n      <td>Nov</td>\n      <td>NaN</td>\n      <td>0.0</td>\n      <td>NaN</td>\n      <td>NaN</td>\n      <td>NaN</td>\n      <td>NaN</td>\n      <td>NaN</td>\n      <td>NaN</td>\n    </tr>\n    <tr>\n      <th>60</th>\n      <td>1108574</td>\n      <td>1685383</td>\n      <td>Female</td>\n      <td>Nov</td>\n      <td>NaN</td>\n      <td>0.0</td>\n      <td>NaN</td>\n      <td>NaN</td>\n      <td>NaN</td>\n      <td>NaN</td>\n      <td>NaN</td>\n      <td>NaN</td>\n    </tr>\n    <tr>\n      <th>61</th>\n      <td>1108574</td>\n      <td>1778851</td>\n      <td>Male</td>\n      <td>Nov</td>\n      <td>NaN</td>\n      <td>0.0</td>\n      <td>NaN</td>\n      <td>NaN</td>\n      <td>NaN</td>\n      <td>NaN</td>\n      <td>NaN</td>\n      <td>NaN</td>\n    </tr>\n    <tr>\n      <th>62</th>\n      <td>1118280</td>\n      <td>1691149</td>\n      <td>Male</td>\n      <td>Nov</td>\n      <td>NaN</td>\n      <td>0.0</td>\n      <td>NaN</td>\n      <td>NaN</td>\n      <td>NaN</td>\n      <td>NaN</td>\n      <td>NaN</td>\n      <td>NaN</td>\n    </tr>\n    <tr>\n      <th>63</th>\n      <td>1118280</td>\n      <td>1730700</td>\n      <td>Female</td>\n      <td>Nov</td>\n      <td>NaN</td>\n      <td>0.0</td>\n      <td>NaN</td>\n      <td>NaN</td>\n      <td>NaN</td>\n      <td>NaN</td>\n      <td>NaN</td>\n      <td>NaN</td>\n    </tr>\n    <tr>\n      <th>64</th>\n      <td>1089936</td>\n      <td>1700136</td>\n      <td>Male</td>\n      <td>Nov</td>\n      <td>1.0</td>\n      <td>40.0</td>\n      <td>NaN</td>\n      <td>NaN</td>\n      <td>NaN</td>\n      <td>NaN</td>\n      <td>NaN</td>\n      <td>NaN</td>\n    </tr>\n    <tr>\n      <th>65</th>\n      <td>1089936</td>\n      <td>1611957</td>\n      <td>Female</td>\n      <td>Nov</td>\n      <td>5.0</td>\n      <td>25.0</td>\n      <td>NaN</td>\n      <td>NaN</td>\n      <td>NaN</td>\n      <td>NaN</td>\n      <td>NaN</td>\n      <td>NaN</td>\n    </tr>\n    <tr>\n      <th>66</th>\n      <td>1081382</td>\n      <td>1731930</td>\n      <td>Male</td>\n      <td>Nov</td>\n      <td>0.0</td>\n      <td>50.0</td>\n      <td>NaN</td>\n      <td>NaN</td>\n      <td>NaN</td>\n      <td>NaN</td>\n      <td>NaN</td>\n      <td>NaN</td>\n    </tr>\n    <tr>\n      <th>67</th>\n      <td>1081382</td>\n      <td>1748601</td>\n      <td>Female</td>\n      <td>Nov</td>\n      <td>6.0</td>\n      <td>0.0</td>\n      <td>NaN</td>\n      <td>NaN</td>\n      <td>NaN</td>\n      <td>NaN</td>\n      <td>NaN</td>\n      <td>NaN</td>\n    </tr>\n    <tr>\n      <th>68</th>\n      <td>1071717</td>\n      <td>1669121</td>\n      <td>Male</td>\n      <td>Nov</td>\n      <td>0.0</td>\n      <td>51.0</td>\n      <td>NaN</td>\n      <td>NaN</td>\n      <td>NaN</td>\n      <td>NaN</td>\n      <td>NaN</td>\n      <td>NaN</td>\n    </tr>\n    <tr>\n      <th>69</th>\n      <td>1071717</td>\n      <td>1704602</td>\n      <td>Female</td>\n      <td>Nov</td>\n      <td>20.0</td>\n      <td>14.0</td>\n      <td>NaN</td>\n      <td>NaN</td>\n      <td>NaN</td>\n      <td>NaN</td>\n      <td>NaN</td>\n      <td>NaN</td>\n    </tr>\n    <tr>\n      <th>70</th>\n      <td>1077532</td>\n      <td>1710003</td>\n      <td>Female</td>\n      <td>Nov</td>\n      <td>NaN</td>\n      <td>34.0</td>\n      <td>NaN</td>\n      <td>NaN</td>\n      <td>NaN</td>\n      <td>NaN</td>\n      <td>NaN</td>\n      <td>NaN</td>\n    </tr>\n    <tr>\n      <th>71</th>\n      <td>1077532</td>\n      <td>1654486</td>\n      <td>Male</td>\n      <td>Nov</td>\n      <td>NaN</td>\n      <td>33.0</td>\n      <td>NaN</td>\n      <td>NaN</td>\n      <td>NaN</td>\n      <td>NaN</td>\n      <td>NaN</td>\n      <td>NaN</td>\n    </tr>\n    <tr>\n      <th>72</th>\n      <td>1143095</td>\n      <td>1731895</td>\n      <td>Male</td>\n      <td>Nov</td>\n      <td>NaN</td>\n      <td>0.0</td>\n      <td>NaN</td>\n      <td>NaN</td>\n      <td>NaN</td>\n      <td>NaN</td>\n      <td>NaN</td>\n      <td>NaN</td>\n    </tr>\n    <tr>\n      <th>73</th>\n      <td>1143095</td>\n      <td>1709681</td>\n      <td>Female</td>\n      <td>Nov</td>\n      <td>NaN</td>\n      <td>0.0</td>\n      <td>NaN</td>\n      <td>NaN</td>\n      <td>NaN</td>\n      <td>NaN</td>\n      <td>NaN</td>\n      <td>NaN</td>\n    </tr>\n    <tr>\n      <th>74</th>\n      <td>1123905</td>\n      <td>1715447</td>\n      <td>Female</td>\n      <td>Nov</td>\n      <td>NaN</td>\n      <td>0.0</td>\n      <td>NaN</td>\n      <td>NaN</td>\n      <td>NaN</td>\n      <td>NaN</td>\n      <td>NaN</td>\n      <td>NaN</td>\n    </tr>\n    <tr>\n      <th>75</th>\n      <td>1123905</td>\n      <td>1684283</td>\n      <td>Male</td>\n      <td>Nov</td>\n      <td>NaN</td>\n      <td>44.0</td>\n      <td>NaN</td>\n      <td>NaN</td>\n      <td>NaN</td>\n      <td>NaN</td>\n      <td>NaN</td>\n      <td>NaN</td>\n    </tr>\n    <tr>\n      <th>76</th>\n      <td>1173782</td>\n      <td>1731612</td>\n      <td>Female</td>\n      <td>Nov</td>\n      <td>NaN</td>\n      <td>40.0</td>\n      <td>NaN</td>\n      <td>NaN</td>\n      <td>NaN</td>\n      <td>NaN</td>\n      <td>NaN</td>\n      <td>NaN</td>\n    </tr>\n    <tr>\n      <th>77</th>\n      <td>1119306</td>\n      <td>1636848</td>\n      <td>Female</td>\n      <td>Nov</td>\n      <td>NaN</td>\n      <td>0.0</td>\n      <td>NaN</td>\n      <td>NaN</td>\n      <td>NaN</td>\n      <td>NaN</td>\n      <td>NaN</td>\n      <td>NaN</td>\n    </tr>\n    <tr>\n      <th>78</th>\n      <td>1119306</td>\n      <td>1744051</td>\n      <td>Male</td>\n      <td>Nov</td>\n      <td>NaN</td>\n      <td>0.0</td>\n      <td>NaN</td>\n      <td>NaN</td>\n      <td>NaN</td>\n      <td>NaN</td>\n      <td>NaN</td>\n      <td>NaN</td>\n    </tr>\n    <tr>\n      <th>79</th>\n      <td>1096458</td>\n      <td>1626957</td>\n      <td>Male</td>\n      <td>Nov</td>\n      <td>0.0</td>\n      <td>40.0</td>\n      <td>NaN</td>\n      <td>NaN</td>\n      <td>NaN</td>\n      <td>NaN</td>\n      <td>NaN</td>\n      <td>NaN</td>\n    </tr>\n    <tr>\n      <th>80</th>\n      <td>1142793</td>\n      <td>1760207</td>\n      <td>Male</td>\n      <td>Nov</td>\n      <td>NaN</td>\n      <td>55.0</td>\n      <td>NaN</td>\n      <td>NaN</td>\n      <td>NaN</td>\n      <td>NaN</td>\n      <td>NaN</td>\n      <td>NaN</td>\n    </tr>\n    <tr>\n      <th>81</th>\n      <td>1098029</td>\n      <td>1645083</td>\n      <td>Female</td>\n      <td>Nov</td>\n      <td>25.0</td>\n      <td>35.0</td>\n      <td>NaN</td>\n      <td>NaN</td>\n      <td>NaN</td>\n      <td>NaN</td>\n      <td>NaN</td>\n      <td>NaN</td>\n    </tr>\n    <tr>\n      <th>82</th>\n      <td>1098029</td>\n      <td>1716860</td>\n      <td>Male</td>\n      <td>Nov</td>\n      <td>33.0</td>\n      <td>45.0</td>\n      <td>NaN</td>\n      <td>NaN</td>\n      <td>NaN</td>\n      <td>NaN</td>\n      <td>NaN</td>\n      <td>NaN</td>\n    </tr>\n    <tr>\n      <th>83</th>\n      <td>1132053</td>\n      <td>1700319</td>\n      <td>Male</td>\n      <td>Nov</td>\n      <td>NaN</td>\n      <td>40.0</td>\n      <td>NaN</td>\n      <td>NaN</td>\n      <td>NaN</td>\n      <td>NaN</td>\n      <td>NaN</td>\n      <td>NaN</td>\n    </tr>\n    <tr>\n      <th>84</th>\n      <td>1156059</td>\n      <td>1696174</td>\n      <td>Male</td>\n      <td>Nov</td>\n      <td>NaN</td>\n      <td>0.0</td>\n      <td>NaN</td>\n      <td>NaN</td>\n      <td>NaN</td>\n      <td>NaN</td>\n      <td>NaN</td>\n      <td>NaN</td>\n    </tr>\n    <tr>\n      <th>85</th>\n      <td>1144468</td>\n      <td>1678816</td>\n      <td>Female</td>\n      <td>Nov</td>\n      <td>25.0</td>\n      <td>24.0</td>\n      <td>NaN</td>\n      <td>NaN</td>\n      <td>NaN</td>\n      <td>NaN</td>\n      <td>NaN</td>\n      <td>NaN</td>\n    </tr>\n    <tr>\n      <th>86</th>\n      <td>1144468</td>\n      <td>1668177</td>\n      <td>Male</td>\n      <td>Nov</td>\n      <td>4.0</td>\n      <td>36.0</td>\n      <td>NaN</td>\n      <td>NaN</td>\n      <td>NaN</td>\n      <td>NaN</td>\n      <td>NaN</td>\n      <td>NaN</td>\n    </tr>\n    <tr>\n      <th>87</th>\n      <td>1159704</td>\n      <td>1655142</td>\n      <td>Male</td>\n      <td>Nov</td>\n      <td>NaN</td>\n      <td>0.0</td>\n      <td>NaN</td>\n      <td>NaN</td>\n      <td>NaN</td>\n      <td>NaN</td>\n      <td>NaN</td>\n      <td>NaN</td>\n    </tr>\n  </tbody>\n</table>\n<p>194 rows × 12 columns</p>\n</div>"
     },
     "metadata": {},
     "execution_count": 843
    }
   ],
   "source": [
    "data_appended"
   ]
  },
  {
   "source": [
    "## 1.5. Make the data respect the three requirements we set out in the screencast\n",
    "1. Values do not have internal structure: $\\checkmark$\n",
    "2. Tables do not contain redundant information: remove gender from the table\n",
    "3. Variable names to not have any structure: $\\checkmark$"
   ],
   "cell_type": "markdown",
   "metadata": {}
  },
  {
   "cell_type": "code",
   "execution_count": 844,
   "metadata": {},
   "outputs": [],
   "source": [
    "# Deop the gender column:\n",
    "data_appended_normal = data_appended.drop(\"gender\", axis=1)\n",
    "\n",
    "# Create a table for gender:\n",
    "data_appended_unique = data_appended.drop_duplicates(subset=['hh_id', 'ind_id'])\n",
    "time_invariants = data_appended_unique.loc[: ,['hh_id', 'ind_id', 'gender']]\n"
   ]
  },
  {
   "cell_type": "code",
   "execution_count": 845,
   "metadata": {},
   "outputs": [
    {
     "output_type": "execute_result",
     "data": {
      "text/plain": [
       "     hh_id   ind_id month  total_childcare_hours  total_working_hours  \\\n",
       "0  1049420  1687033   Apr                    0.0                  0.0   \n",
       "1  1049420  1662353   Apr                    0.0                  3.0   \n",
       "2  1011033  1631191   Apr                    8.0                 51.0   \n",
       "3  1011033  1687630   Apr                    0.0                 16.0   \n",
       "4  1047651  1746405   Apr                    0.0                 36.0   \n",
       "\n",
       "   working_hours_workplace  working_hours_home_whilekids  \\\n",
       "0                      0.0                           0.0   \n",
       "1                      3.0                           0.0   \n",
       "2                     47.0                           4.0   \n",
       "3                      8.0                           0.0   \n",
       "4                     36.0                           0.0   \n",
       "\n",
       "   working_hours_home_while_no_kids  working_hours_home_nokids  \\\n",
       "0                               0.0                        NaN   \n",
       "1                               0.0                        NaN   \n",
       "2                               0.0                        NaN   \n",
       "3                               8.0                        NaN   \n",
       "4                               0.0                        NaN   \n",
       "\n",
       "   homeschool_hours  childcare_hours_res  \n",
       "0               0.0                  0.0  \n",
       "1               0.0                  0.0  \n",
       "2               0.0                  4.0  \n",
       "3               0.0                  0.0  \n",
       "4               0.0                  0.0  "
      ],
      "text/html": "<div>\n<style scoped>\n    .dataframe tbody tr th:only-of-type {\n        vertical-align: middle;\n    }\n\n    .dataframe tbody tr th {\n        vertical-align: top;\n    }\n\n    .dataframe thead th {\n        text-align: right;\n    }\n</style>\n<table border=\"1\" class=\"dataframe\">\n  <thead>\n    <tr style=\"text-align: right;\">\n      <th></th>\n      <th>hh_id</th>\n      <th>ind_id</th>\n      <th>month</th>\n      <th>total_childcare_hours</th>\n      <th>total_working_hours</th>\n      <th>working_hours_workplace</th>\n      <th>working_hours_home_whilekids</th>\n      <th>working_hours_home_while_no_kids</th>\n      <th>working_hours_home_nokids</th>\n      <th>homeschool_hours</th>\n      <th>childcare_hours_res</th>\n    </tr>\n  </thead>\n  <tbody>\n    <tr>\n      <th>0</th>\n      <td>1049420</td>\n      <td>1687033</td>\n      <td>Apr</td>\n      <td>0.0</td>\n      <td>0.0</td>\n      <td>0.0</td>\n      <td>0.0</td>\n      <td>0.0</td>\n      <td>NaN</td>\n      <td>0.0</td>\n      <td>0.0</td>\n    </tr>\n    <tr>\n      <th>1</th>\n      <td>1049420</td>\n      <td>1662353</td>\n      <td>Apr</td>\n      <td>0.0</td>\n      <td>3.0</td>\n      <td>3.0</td>\n      <td>0.0</td>\n      <td>0.0</td>\n      <td>NaN</td>\n      <td>0.0</td>\n      <td>0.0</td>\n    </tr>\n    <tr>\n      <th>2</th>\n      <td>1011033</td>\n      <td>1631191</td>\n      <td>Apr</td>\n      <td>8.0</td>\n      <td>51.0</td>\n      <td>47.0</td>\n      <td>4.0</td>\n      <td>0.0</td>\n      <td>NaN</td>\n      <td>0.0</td>\n      <td>4.0</td>\n    </tr>\n    <tr>\n      <th>3</th>\n      <td>1011033</td>\n      <td>1687630</td>\n      <td>Apr</td>\n      <td>0.0</td>\n      <td>16.0</td>\n      <td>8.0</td>\n      <td>0.0</td>\n      <td>8.0</td>\n      <td>NaN</td>\n      <td>0.0</td>\n      <td>0.0</td>\n    </tr>\n    <tr>\n      <th>4</th>\n      <td>1047651</td>\n      <td>1746405</td>\n      <td>Apr</td>\n      <td>0.0</td>\n      <td>36.0</td>\n      <td>36.0</td>\n      <td>0.0</td>\n      <td>0.0</td>\n      <td>NaN</td>\n      <td>0.0</td>\n      <td>0.0</td>\n    </tr>\n  </tbody>\n</table>\n</div>"
     },
     "metadata": {},
     "execution_count": 845
    }
   ],
   "source": [
    "data_appended_normal.head()"
   ]
  },
  {
   "cell_type": "code",
   "execution_count": 846,
   "metadata": {},
   "outputs": [
    {
     "output_type": "execute_result",
     "data": {
      "text/plain": [
       "       hh_id   ind_id  gender month  total_childcare_hours  \\\n",
       "0    1049420  1687033    Male   Apr                    0.0   \n",
       "1    1049420  1662353  Female   Apr                    0.0   \n",
       "2    1011033  1631191    Male   Apr                    8.0   \n",
       "3    1011033  1687630  Female   Apr                    0.0   \n",
       "4    1047651  1746405    Male   Apr                    0.0   \n",
       "5    1047651  1712561  Female   Apr                    0.0   \n",
       "6    1059082  1703625  Female   Apr                   21.0   \n",
       "7    1059082  1755058    Male   Apr                    5.0   \n",
       "8    1032311  1705264    Male   Apr                   60.0   \n",
       "9    1050449  1738962    Male   Apr                    0.0   \n",
       "10   1105688  1649819    Male   Apr                    0.0   \n",
       "11   1032991  1660073    Male   Apr                    0.0   \n",
       "12   1032991  1679690  Female   Apr                    0.0   \n",
       "13   1029103  1663805  Female   Apr                    0.0   \n",
       "14   1029103  1663791    Male   Apr                    0.0   \n",
       "15   1073720  1650880  Female   Apr                    0.0   \n",
       "16   1073720  1700254    Male   Apr                    0.0   \n",
       "17   1027909  1649615    Male   Apr                    0.0   \n",
       "18   1088259  1702907    Male   Apr                   40.0   \n",
       "19   1088259  1693606  Female   Apr                   15.0   \n",
       "20   1115114  1701184    Male   Apr                    0.0   \n",
       "21   1061790  1608167    Male   Apr                    0.0   \n",
       "22   1061790  1774806  Female   Apr                    0.0   \n",
       "23   1069277  1650759  Female   Apr                   28.0   \n",
       "24   1043103  1689329    Male   Apr                    0.0   \n",
       "25   1043103  1727676  Female   Apr                    0.0   \n",
       "26   1089701  1693524    Male   Apr                   56.0   \n",
       "27   1038786  1612215  Female   Apr                    0.0   \n",
       "28   1038786  1686071    Male   Apr                   45.0   \n",
       "29   1081268  1667516  Female   Apr                    0.0   \n",
       "..       ...      ...     ...   ...                    ...   \n",
       "83   1087098  1689467  Female   Apr                    0.0   \n",
       "84   1164056  1692111  Female   Apr                    0.0   \n",
       "85   1123905  1684283    Male   Apr                    0.0   \n",
       "86   1123905  1715447  Female   Apr                    0.0   \n",
       "87   1173782  1731612  Female   Apr                    0.0   \n",
       "88   1173782  1715265    Male   Apr                    0.0   \n",
       "89   1119306  1636848  Female   Apr                    0.0   \n",
       "90   1119306  1744051    Male   Apr                    0.0   \n",
       "91   1096458  1626957    Male   Apr                    0.0   \n",
       "92   1096458  1711263  Female   Apr                    0.0   \n",
       "93   1142793  1674579  Female   Apr                    0.0   \n",
       "94   1142793  1760207    Male   Apr                   19.0   \n",
       "95   1106411  1775256    Male   Apr                    0.0   \n",
       "96   1098029  1645083  Female   Apr                    0.0   \n",
       "97   1098029  1716860    Male   Apr                    0.0   \n",
       "98   1132053  1663869  Female   Apr                    0.0   \n",
       "99   1101643  1685260    Male   Apr                    0.0   \n",
       "100  1156059  1658569  Female   Apr                    0.0   \n",
       "101  1156059  1696174    Male   Apr                    0.0   \n",
       "102  1144468  1678816  Female   Apr                   15.0   \n",
       "103  1144468  1668177    Male   Apr                   18.0   \n",
       "104  1159704  1655142    Male   Apr                    0.0   \n",
       "105  1159704  1743847  Female   Apr                    0.0   \n",
       "15   1027909  1724325  Female   Nov                    0.0   \n",
       "20   1069277  1623955    Male   Nov                   15.0   \n",
       "32   1040627  1740401    Male   Nov                    NaN   \n",
       "37   1133562  1693277  Female   Nov                    NaN   \n",
       "40   1084395  1767692    Male   Nov                    0.0   \n",
       "60   1108574  1685383  Female   Nov                    NaN   \n",
       "83   1132053  1700319    Male   Nov                    NaN   \n",
       "\n",
       "     total_working_hours  working_hours_workplace  \\\n",
       "0                    0.0                      0.0   \n",
       "1                    3.0                      3.0   \n",
       "2                   51.0                     47.0   \n",
       "3                   16.0                      8.0   \n",
       "4                   36.0                     36.0   \n",
       "5                    0.0                      0.0   \n",
       "6                   18.0                      0.0   \n",
       "7                    0.0                      0.0   \n",
       "8                  140.0                     40.0   \n",
       "9                   38.0                      0.0   \n",
       "10                   0.0                      0.0   \n",
       "11                   0.0                      NaN   \n",
       "12                   0.0                      0.0   \n",
       "13                  32.0                     32.0   \n",
       "14                  28.0                     28.0   \n",
       "15                   0.0                      0.0   \n",
       "16                   0.0                      0.0   \n",
       "17                   0.0                      0.0   \n",
       "18                  20.0                      0.0   \n",
       "19                   0.0                      0.0   \n",
       "20                  45.0                      0.0   \n",
       "21                  43.0                      0.0   \n",
       "22                  16.0                      8.0   \n",
       "23                   0.0                      0.0   \n",
       "24                   8.0                      0.0   \n",
       "25                   0.0                      0.0   \n",
       "26                  36.0                      0.0   \n",
       "27                  62.0                     62.0   \n",
       "28                  56.0                     25.0   \n",
       "29                   0.0                      0.0   \n",
       "..                   ...                      ...   \n",
       "83                   0.0                      0.0   \n",
       "84                  10.0                     10.0   \n",
       "85                  40.0                     40.0   \n",
       "86                   0.0                      0.0   \n",
       "87                  32.0                      0.0   \n",
       "88                  40.0                     40.0   \n",
       "89                   0.0                      0.0   \n",
       "90                   0.0                      0.0   \n",
       "91                  40.0                      0.0   \n",
       "92                   0.0                      0.0   \n",
       "93                  32.0                      0.0   \n",
       "94                  40.0                     24.0   \n",
       "95                  40.0                      0.0   \n",
       "96                   0.0                      NaN   \n",
       "97                   0.0                      NaN   \n",
       "98                   0.0                      0.0   \n",
       "99                   0.0                      0.0   \n",
       "100                  0.0                      0.0   \n",
       "101                  0.0                      0.0   \n",
       "102                 16.0                     16.0   \n",
       "103                 32.0                      0.0   \n",
       "104                  0.0                      0.0   \n",
       "105                  0.0                      0.0   \n",
       "15                  20.0                      NaN   \n",
       "20                  40.0                      NaN   \n",
       "32                   0.0                      NaN   \n",
       "37                   0.0                      NaN   \n",
       "40                  40.0                      NaN   \n",
       "60                   0.0                      NaN   \n",
       "83                  40.0                      NaN   \n",
       "\n",
       "     working_hours_home_whilekids  working_hours_home_while_no_kids  \\\n",
       "0                             0.0                               0.0   \n",
       "1                             0.0                               0.0   \n",
       "2                             4.0                               0.0   \n",
       "3                             0.0                               8.0   \n",
       "4                             0.0                               0.0   \n",
       "5                             0.0                               0.0   \n",
       "6                             1.0                              17.0   \n",
       "7                             0.0                               0.0   \n",
       "8                            50.0                              50.0   \n",
       "9                             0.0                              38.0   \n",
       "10                            NaN                               NaN   \n",
       "11                            NaN                               NaN   \n",
       "12                            0.0                               0.0   \n",
       "13                            NaN                               NaN   \n",
       "14                            NaN                               NaN   \n",
       "15                            0.0                               0.0   \n",
       "16                            0.0                               0.0   \n",
       "17                            0.0                               0.0   \n",
       "18                           20.0                               0.0   \n",
       "19                            0.0                               0.0   \n",
       "20                            NaN                               NaN   \n",
       "21                            NaN                               NaN   \n",
       "22                            NaN                               NaN   \n",
       "23                            0.0                               0.0   \n",
       "24                            NaN                               NaN   \n",
       "25                            NaN                               NaN   \n",
       "26                           36.0                               0.0   \n",
       "27                            0.0                               0.0   \n",
       "28                           25.0                               6.0   \n",
       "29                            NaN                               NaN   \n",
       "..                            ...                               ...   \n",
       "83                            NaN                               NaN   \n",
       "84                            NaN                               NaN   \n",
       "85                            NaN                               NaN   \n",
       "86                            NaN                               NaN   \n",
       "87                            NaN                               NaN   \n",
       "88                            NaN                               NaN   \n",
       "89                            NaN                               NaN   \n",
       "90                            NaN                               NaN   \n",
       "91                            0.0                              40.0   \n",
       "92                            0.0                               0.0   \n",
       "93                            NaN                               NaN   \n",
       "94                           16.0                               0.0   \n",
       "95                            NaN                               NaN   \n",
       "96                            NaN                               NaN   \n",
       "97                            NaN                               NaN   \n",
       "98                            NaN                               NaN   \n",
       "99                            NaN                               NaN   \n",
       "100                           NaN                               NaN   \n",
       "101                           NaN                               NaN   \n",
       "102                           0.0                               0.0   \n",
       "103                           8.0                              24.0   \n",
       "104                           NaN                               NaN   \n",
       "105                           NaN                               NaN   \n",
       "15                            NaN                               NaN   \n",
       "20                            NaN                               NaN   \n",
       "32                            NaN                               NaN   \n",
       "37                            NaN                               NaN   \n",
       "40                            NaN                               NaN   \n",
       "60                            NaN                               NaN   \n",
       "83                            NaN                               NaN   \n",
       "\n",
       "     working_hours_home_nokids  homeschool_hours  childcare_hours_res  \n",
       "0                          NaN               0.0                  0.0  \n",
       "1                          NaN               0.0                  0.0  \n",
       "2                          NaN               0.0                  4.0  \n",
       "3                          NaN               0.0                  0.0  \n",
       "4                          NaN               0.0                  0.0  \n",
       "5                          NaN               0.0                  0.0  \n",
       "6                          NaN              20.0                 20.0  \n",
       "7                          NaN               5.0                  5.0  \n",
       "8                          NaN               0.0                 10.0  \n",
       "9                          NaN               0.0                  0.0  \n",
       "10                         0.0               NaN                  NaN  \n",
       "11                         NaN               NaN                  NaN  \n",
       "12                         NaN               0.0                  0.0  \n",
       "13                         0.0               NaN                  NaN  \n",
       "14                         0.0               NaN                  NaN  \n",
       "15                         NaN               0.0                  0.0  \n",
       "16                         NaN               0.0                  0.0  \n",
       "17                         NaN               0.0                  0.0  \n",
       "18                         NaN              10.0                 20.0  \n",
       "19                         NaN              15.0                 15.0  \n",
       "20                        45.0               NaN                  NaN  \n",
       "21                        43.0               NaN                  NaN  \n",
       "22                         8.0               NaN                  NaN  \n",
       "23                         NaN              25.0                 28.0  \n",
       "24                         8.0               NaN                  NaN  \n",
       "25                         0.0               NaN                  NaN  \n",
       "26                         NaN               5.0                 20.0  \n",
       "27                         NaN               2.0                  0.0  \n",
       "28                         NaN               0.0                 20.0  \n",
       "29                         0.0               NaN                  NaN  \n",
       "..                         ...               ...                  ...  \n",
       "83                         0.0               NaN                  NaN  \n",
       "84                         0.0               NaN                  NaN  \n",
       "85                         0.0               NaN                  NaN  \n",
       "86                         0.0               NaN                  NaN  \n",
       "87                        32.0               NaN                  NaN  \n",
       "88                         0.0               NaN                  NaN  \n",
       "89                         0.0               NaN                  NaN  \n",
       "90                         0.0               NaN                  NaN  \n",
       "91                         NaN               0.0                  0.0  \n",
       "92                         NaN               0.0                  0.0  \n",
       "93                        32.0               NaN                  NaN  \n",
       "94                         NaN               1.0                  3.0  \n",
       "95                        40.0               NaN                  NaN  \n",
       "96                         NaN               NaN                  NaN  \n",
       "97                         NaN               NaN                  NaN  \n",
       "98                         0.0               NaN                  NaN  \n",
       "99                         0.0               NaN                  NaN  \n",
       "100                        0.0               NaN                  NaN  \n",
       "101                        0.0               NaN                  NaN  \n",
       "102                        NaN              20.0                 15.0  \n",
       "103                        NaN              10.0                 10.0  \n",
       "104                        0.0               NaN                  NaN  \n",
       "105                        0.0               NaN                  NaN  \n",
       "15                         NaN               NaN                  NaN  \n",
       "20                         NaN               NaN                  NaN  \n",
       "32                         NaN               NaN                  NaN  \n",
       "37                         NaN               NaN                  NaN  \n",
       "40                         NaN               NaN                  NaN  \n",
       "60                         NaN               NaN                  NaN  \n",
       "83                         NaN               NaN                  NaN  \n",
       "\n",
       "[113 rows x 12 columns]"
      ],
      "text/html": "<div>\n<style scoped>\n    .dataframe tbody tr th:only-of-type {\n        vertical-align: middle;\n    }\n\n    .dataframe tbody tr th {\n        vertical-align: top;\n    }\n\n    .dataframe thead th {\n        text-align: right;\n    }\n</style>\n<table border=\"1\" class=\"dataframe\">\n  <thead>\n    <tr style=\"text-align: right;\">\n      <th></th>\n      <th>hh_id</th>\n      <th>ind_id</th>\n      <th>gender</th>\n      <th>month</th>\n      <th>total_childcare_hours</th>\n      <th>total_working_hours</th>\n      <th>working_hours_workplace</th>\n      <th>working_hours_home_whilekids</th>\n      <th>working_hours_home_while_no_kids</th>\n      <th>working_hours_home_nokids</th>\n      <th>homeschool_hours</th>\n      <th>childcare_hours_res</th>\n    </tr>\n  </thead>\n  <tbody>\n    <tr>\n      <th>0</th>\n      <td>1049420</td>\n      <td>1687033</td>\n      <td>Male</td>\n      <td>Apr</td>\n      <td>0.0</td>\n      <td>0.0</td>\n      <td>0.0</td>\n      <td>0.0</td>\n      <td>0.0</td>\n      <td>NaN</td>\n      <td>0.0</td>\n      <td>0.0</td>\n    </tr>\n    <tr>\n      <th>1</th>\n      <td>1049420</td>\n      <td>1662353</td>\n      <td>Female</td>\n      <td>Apr</td>\n      <td>0.0</td>\n      <td>3.0</td>\n      <td>3.0</td>\n      <td>0.0</td>\n      <td>0.0</td>\n      <td>NaN</td>\n      <td>0.0</td>\n      <td>0.0</td>\n    </tr>\n    <tr>\n      <th>2</th>\n      <td>1011033</td>\n      <td>1631191</td>\n      <td>Male</td>\n      <td>Apr</td>\n      <td>8.0</td>\n      <td>51.0</td>\n      <td>47.0</td>\n      <td>4.0</td>\n      <td>0.0</td>\n      <td>NaN</td>\n      <td>0.0</td>\n      <td>4.0</td>\n    </tr>\n    <tr>\n      <th>3</th>\n      <td>1011033</td>\n      <td>1687630</td>\n      <td>Female</td>\n      <td>Apr</td>\n      <td>0.0</td>\n      <td>16.0</td>\n      <td>8.0</td>\n      <td>0.0</td>\n      <td>8.0</td>\n      <td>NaN</td>\n      <td>0.0</td>\n      <td>0.0</td>\n    </tr>\n    <tr>\n      <th>4</th>\n      <td>1047651</td>\n      <td>1746405</td>\n      <td>Male</td>\n      <td>Apr</td>\n      <td>0.0</td>\n      <td>36.0</td>\n      <td>36.0</td>\n      <td>0.0</td>\n      <td>0.0</td>\n      <td>NaN</td>\n      <td>0.0</td>\n      <td>0.0</td>\n    </tr>\n    <tr>\n      <th>5</th>\n      <td>1047651</td>\n      <td>1712561</td>\n      <td>Female</td>\n      <td>Apr</td>\n      <td>0.0</td>\n      <td>0.0</td>\n      <td>0.0</td>\n      <td>0.0</td>\n      <td>0.0</td>\n      <td>NaN</td>\n      <td>0.0</td>\n      <td>0.0</td>\n    </tr>\n    <tr>\n      <th>6</th>\n      <td>1059082</td>\n      <td>1703625</td>\n      <td>Female</td>\n      <td>Apr</td>\n      <td>21.0</td>\n      <td>18.0</td>\n      <td>0.0</td>\n      <td>1.0</td>\n      <td>17.0</td>\n      <td>NaN</td>\n      <td>20.0</td>\n      <td>20.0</td>\n    </tr>\n    <tr>\n      <th>7</th>\n      <td>1059082</td>\n      <td>1755058</td>\n      <td>Male</td>\n      <td>Apr</td>\n      <td>5.0</td>\n      <td>0.0</td>\n      <td>0.0</td>\n      <td>0.0</td>\n      <td>0.0</td>\n      <td>NaN</td>\n      <td>5.0</td>\n      <td>5.0</td>\n    </tr>\n    <tr>\n      <th>8</th>\n      <td>1032311</td>\n      <td>1705264</td>\n      <td>Male</td>\n      <td>Apr</td>\n      <td>60.0</td>\n      <td>140.0</td>\n      <td>40.0</td>\n      <td>50.0</td>\n      <td>50.0</td>\n      <td>NaN</td>\n      <td>0.0</td>\n      <td>10.0</td>\n    </tr>\n    <tr>\n      <th>9</th>\n      <td>1050449</td>\n      <td>1738962</td>\n      <td>Male</td>\n      <td>Apr</td>\n      <td>0.0</td>\n      <td>38.0</td>\n      <td>0.0</td>\n      <td>0.0</td>\n      <td>38.0</td>\n      <td>NaN</td>\n      <td>0.0</td>\n      <td>0.0</td>\n    </tr>\n    <tr>\n      <th>10</th>\n      <td>1105688</td>\n      <td>1649819</td>\n      <td>Male</td>\n      <td>Apr</td>\n      <td>0.0</td>\n      <td>0.0</td>\n      <td>0.0</td>\n      <td>NaN</td>\n      <td>NaN</td>\n      <td>0.0</td>\n      <td>NaN</td>\n      <td>NaN</td>\n    </tr>\n    <tr>\n      <th>11</th>\n      <td>1032991</td>\n      <td>1660073</td>\n      <td>Male</td>\n      <td>Apr</td>\n      <td>0.0</td>\n      <td>0.0</td>\n      <td>NaN</td>\n      <td>NaN</td>\n      <td>NaN</td>\n      <td>NaN</td>\n      <td>NaN</td>\n      <td>NaN</td>\n    </tr>\n    <tr>\n      <th>12</th>\n      <td>1032991</td>\n      <td>1679690</td>\n      <td>Female</td>\n      <td>Apr</td>\n      <td>0.0</td>\n      <td>0.0</td>\n      <td>0.0</td>\n      <td>0.0</td>\n      <td>0.0</td>\n      <td>NaN</td>\n      <td>0.0</td>\n      <td>0.0</td>\n    </tr>\n    <tr>\n      <th>13</th>\n      <td>1029103</td>\n      <td>1663805</td>\n      <td>Female</td>\n      <td>Apr</td>\n      <td>0.0</td>\n      <td>32.0</td>\n      <td>32.0</td>\n      <td>NaN</td>\n      <td>NaN</td>\n      <td>0.0</td>\n      <td>NaN</td>\n      <td>NaN</td>\n    </tr>\n    <tr>\n      <th>14</th>\n      <td>1029103</td>\n      <td>1663791</td>\n      <td>Male</td>\n      <td>Apr</td>\n      <td>0.0</td>\n      <td>28.0</td>\n      <td>28.0</td>\n      <td>NaN</td>\n      <td>NaN</td>\n      <td>0.0</td>\n      <td>NaN</td>\n      <td>NaN</td>\n    </tr>\n    <tr>\n      <th>15</th>\n      <td>1073720</td>\n      <td>1650880</td>\n      <td>Female</td>\n      <td>Apr</td>\n      <td>0.0</td>\n      <td>0.0</td>\n      <td>0.0</td>\n      <td>0.0</td>\n      <td>0.0</td>\n      <td>NaN</td>\n      <td>0.0</td>\n      <td>0.0</td>\n    </tr>\n    <tr>\n      <th>16</th>\n      <td>1073720</td>\n      <td>1700254</td>\n      <td>Male</td>\n      <td>Apr</td>\n      <td>0.0</td>\n      <td>0.0</td>\n      <td>0.0</td>\n      <td>0.0</td>\n      <td>0.0</td>\n      <td>NaN</td>\n      <td>0.0</td>\n      <td>0.0</td>\n    </tr>\n    <tr>\n      <th>17</th>\n      <td>1027909</td>\n      <td>1649615</td>\n      <td>Male</td>\n      <td>Apr</td>\n      <td>0.0</td>\n      <td>0.0</td>\n      <td>0.0</td>\n      <td>0.0</td>\n      <td>0.0</td>\n      <td>NaN</td>\n      <td>0.0</td>\n      <td>0.0</td>\n    </tr>\n    <tr>\n      <th>18</th>\n      <td>1088259</td>\n      <td>1702907</td>\n      <td>Male</td>\n      <td>Apr</td>\n      <td>40.0</td>\n      <td>20.0</td>\n      <td>0.0</td>\n      <td>20.0</td>\n      <td>0.0</td>\n      <td>NaN</td>\n      <td>10.0</td>\n      <td>20.0</td>\n    </tr>\n    <tr>\n      <th>19</th>\n      <td>1088259</td>\n      <td>1693606</td>\n      <td>Female</td>\n      <td>Apr</td>\n      <td>15.0</td>\n      <td>0.0</td>\n      <td>0.0</td>\n      <td>0.0</td>\n      <td>0.0</td>\n      <td>NaN</td>\n      <td>15.0</td>\n      <td>15.0</td>\n    </tr>\n    <tr>\n      <th>20</th>\n      <td>1115114</td>\n      <td>1701184</td>\n      <td>Male</td>\n      <td>Apr</td>\n      <td>0.0</td>\n      <td>45.0</td>\n      <td>0.0</td>\n      <td>NaN</td>\n      <td>NaN</td>\n      <td>45.0</td>\n      <td>NaN</td>\n      <td>NaN</td>\n    </tr>\n    <tr>\n      <th>21</th>\n      <td>1061790</td>\n      <td>1608167</td>\n      <td>Male</td>\n      <td>Apr</td>\n      <td>0.0</td>\n      <td>43.0</td>\n      <td>0.0</td>\n      <td>NaN</td>\n      <td>NaN</td>\n      <td>43.0</td>\n      <td>NaN</td>\n      <td>NaN</td>\n    </tr>\n    <tr>\n      <th>22</th>\n      <td>1061790</td>\n      <td>1774806</td>\n      <td>Female</td>\n      <td>Apr</td>\n      <td>0.0</td>\n      <td>16.0</td>\n      <td>8.0</td>\n      <td>NaN</td>\n      <td>NaN</td>\n      <td>8.0</td>\n      <td>NaN</td>\n      <td>NaN</td>\n    </tr>\n    <tr>\n      <th>23</th>\n      <td>1069277</td>\n      <td>1650759</td>\n      <td>Female</td>\n      <td>Apr</td>\n      <td>28.0</td>\n      <td>0.0</td>\n      <td>0.0</td>\n      <td>0.0</td>\n      <td>0.0</td>\n      <td>NaN</td>\n      <td>25.0</td>\n      <td>28.0</td>\n    </tr>\n    <tr>\n      <th>24</th>\n      <td>1043103</td>\n      <td>1689329</td>\n      <td>Male</td>\n      <td>Apr</td>\n      <td>0.0</td>\n      <td>8.0</td>\n      <td>0.0</td>\n      <td>NaN</td>\n      <td>NaN</td>\n      <td>8.0</td>\n      <td>NaN</td>\n      <td>NaN</td>\n    </tr>\n    <tr>\n      <th>25</th>\n      <td>1043103</td>\n      <td>1727676</td>\n      <td>Female</td>\n      <td>Apr</td>\n      <td>0.0</td>\n      <td>0.0</td>\n      <td>0.0</td>\n      <td>NaN</td>\n      <td>NaN</td>\n      <td>0.0</td>\n      <td>NaN</td>\n      <td>NaN</td>\n    </tr>\n    <tr>\n      <th>26</th>\n      <td>1089701</td>\n      <td>1693524</td>\n      <td>Male</td>\n      <td>Apr</td>\n      <td>56.0</td>\n      <td>36.0</td>\n      <td>0.0</td>\n      <td>36.0</td>\n      <td>0.0</td>\n      <td>NaN</td>\n      <td>5.0</td>\n      <td>20.0</td>\n    </tr>\n    <tr>\n      <th>27</th>\n      <td>1038786</td>\n      <td>1612215</td>\n      <td>Female</td>\n      <td>Apr</td>\n      <td>0.0</td>\n      <td>62.0</td>\n      <td>62.0</td>\n      <td>0.0</td>\n      <td>0.0</td>\n      <td>NaN</td>\n      <td>2.0</td>\n      <td>0.0</td>\n    </tr>\n    <tr>\n      <th>28</th>\n      <td>1038786</td>\n      <td>1686071</td>\n      <td>Male</td>\n      <td>Apr</td>\n      <td>45.0</td>\n      <td>56.0</td>\n      <td>25.0</td>\n      <td>25.0</td>\n      <td>6.0</td>\n      <td>NaN</td>\n      <td>0.0</td>\n      <td>20.0</td>\n    </tr>\n    <tr>\n      <th>29</th>\n      <td>1081268</td>\n      <td>1667516</td>\n      <td>Female</td>\n      <td>Apr</td>\n      <td>0.0</td>\n      <td>0.0</td>\n      <td>0.0</td>\n      <td>NaN</td>\n      <td>NaN</td>\n      <td>0.0</td>\n      <td>NaN</td>\n      <td>NaN</td>\n    </tr>\n    <tr>\n      <th>...</th>\n      <td>...</td>\n      <td>...</td>\n      <td>...</td>\n      <td>...</td>\n      <td>...</td>\n      <td>...</td>\n      <td>...</td>\n      <td>...</td>\n      <td>...</td>\n      <td>...</td>\n      <td>...</td>\n      <td>...</td>\n    </tr>\n    <tr>\n      <th>83</th>\n      <td>1087098</td>\n      <td>1689467</td>\n      <td>Female</td>\n      <td>Apr</td>\n      <td>0.0</td>\n      <td>0.0</td>\n      <td>0.0</td>\n      <td>NaN</td>\n      <td>NaN</td>\n      <td>0.0</td>\n      <td>NaN</td>\n      <td>NaN</td>\n    </tr>\n    <tr>\n      <th>84</th>\n      <td>1164056</td>\n      <td>1692111</td>\n      <td>Female</td>\n      <td>Apr</td>\n      <td>0.0</td>\n      <td>10.0</td>\n      <td>10.0</td>\n      <td>NaN</td>\n      <td>NaN</td>\n      <td>0.0</td>\n      <td>NaN</td>\n      <td>NaN</td>\n    </tr>\n    <tr>\n      <th>85</th>\n      <td>1123905</td>\n      <td>1684283</td>\n      <td>Male</td>\n      <td>Apr</td>\n      <td>0.0</td>\n      <td>40.0</td>\n      <td>40.0</td>\n      <td>NaN</td>\n      <td>NaN</td>\n      <td>0.0</td>\n      <td>NaN</td>\n      <td>NaN</td>\n    </tr>\n    <tr>\n      <th>86</th>\n      <td>1123905</td>\n      <td>1715447</td>\n      <td>Female</td>\n      <td>Apr</td>\n      <td>0.0</td>\n      <td>0.0</td>\n      <td>0.0</td>\n      <td>NaN</td>\n      <td>NaN</td>\n      <td>0.0</td>\n      <td>NaN</td>\n      <td>NaN</td>\n    </tr>\n    <tr>\n      <th>87</th>\n      <td>1173782</td>\n      <td>1731612</td>\n      <td>Female</td>\n      <td>Apr</td>\n      <td>0.0</td>\n      <td>32.0</td>\n      <td>0.0</td>\n      <td>NaN</td>\n      <td>NaN</td>\n      <td>32.0</td>\n      <td>NaN</td>\n      <td>NaN</td>\n    </tr>\n    <tr>\n      <th>88</th>\n      <td>1173782</td>\n      <td>1715265</td>\n      <td>Male</td>\n      <td>Apr</td>\n      <td>0.0</td>\n      <td>40.0</td>\n      <td>40.0</td>\n      <td>NaN</td>\n      <td>NaN</td>\n      <td>0.0</td>\n      <td>NaN</td>\n      <td>NaN</td>\n    </tr>\n    <tr>\n      <th>89</th>\n      <td>1119306</td>\n      <td>1636848</td>\n      <td>Female</td>\n      <td>Apr</td>\n      <td>0.0</td>\n      <td>0.0</td>\n      <td>0.0</td>\n      <td>NaN</td>\n      <td>NaN</td>\n      <td>0.0</td>\n      <td>NaN</td>\n      <td>NaN</td>\n    </tr>\n    <tr>\n      <th>90</th>\n      <td>1119306</td>\n      <td>1744051</td>\n      <td>Male</td>\n      <td>Apr</td>\n      <td>0.0</td>\n      <td>0.0</td>\n      <td>0.0</td>\n      <td>NaN</td>\n      <td>NaN</td>\n      <td>0.0</td>\n      <td>NaN</td>\n      <td>NaN</td>\n    </tr>\n    <tr>\n      <th>91</th>\n      <td>1096458</td>\n      <td>1626957</td>\n      <td>Male</td>\n      <td>Apr</td>\n      <td>0.0</td>\n      <td>40.0</td>\n      <td>0.0</td>\n      <td>0.0</td>\n      <td>40.0</td>\n      <td>NaN</td>\n      <td>0.0</td>\n      <td>0.0</td>\n    </tr>\n    <tr>\n      <th>92</th>\n      <td>1096458</td>\n      <td>1711263</td>\n      <td>Female</td>\n      <td>Apr</td>\n      <td>0.0</td>\n      <td>0.0</td>\n      <td>0.0</td>\n      <td>0.0</td>\n      <td>0.0</td>\n      <td>NaN</td>\n      <td>0.0</td>\n      <td>0.0</td>\n    </tr>\n    <tr>\n      <th>93</th>\n      <td>1142793</td>\n      <td>1674579</td>\n      <td>Female</td>\n      <td>Apr</td>\n      <td>0.0</td>\n      <td>32.0</td>\n      <td>0.0</td>\n      <td>NaN</td>\n      <td>NaN</td>\n      <td>32.0</td>\n      <td>NaN</td>\n      <td>NaN</td>\n    </tr>\n    <tr>\n      <th>94</th>\n      <td>1142793</td>\n      <td>1760207</td>\n      <td>Male</td>\n      <td>Apr</td>\n      <td>19.0</td>\n      <td>40.0</td>\n      <td>24.0</td>\n      <td>16.0</td>\n      <td>0.0</td>\n      <td>NaN</td>\n      <td>1.0</td>\n      <td>3.0</td>\n    </tr>\n    <tr>\n      <th>95</th>\n      <td>1106411</td>\n      <td>1775256</td>\n      <td>Male</td>\n      <td>Apr</td>\n      <td>0.0</td>\n      <td>40.0</td>\n      <td>0.0</td>\n      <td>NaN</td>\n      <td>NaN</td>\n      <td>40.0</td>\n      <td>NaN</td>\n      <td>NaN</td>\n    </tr>\n    <tr>\n      <th>96</th>\n      <td>1098029</td>\n      <td>1645083</td>\n      <td>Female</td>\n      <td>Apr</td>\n      <td>0.0</td>\n      <td>0.0</td>\n      <td>NaN</td>\n      <td>NaN</td>\n      <td>NaN</td>\n      <td>NaN</td>\n      <td>NaN</td>\n      <td>NaN</td>\n    </tr>\n    <tr>\n      <th>97</th>\n      <td>1098029</td>\n      <td>1716860</td>\n      <td>Male</td>\n      <td>Apr</td>\n      <td>0.0</td>\n      <td>0.0</td>\n      <td>NaN</td>\n      <td>NaN</td>\n      <td>NaN</td>\n      <td>NaN</td>\n      <td>NaN</td>\n      <td>NaN</td>\n    </tr>\n    <tr>\n      <th>98</th>\n      <td>1132053</td>\n      <td>1663869</td>\n      <td>Female</td>\n      <td>Apr</td>\n      <td>0.0</td>\n      <td>0.0</td>\n      <td>0.0</td>\n      <td>NaN</td>\n      <td>NaN</td>\n      <td>0.0</td>\n      <td>NaN</td>\n      <td>NaN</td>\n    </tr>\n    <tr>\n      <th>99</th>\n      <td>1101643</td>\n      <td>1685260</td>\n      <td>Male</td>\n      <td>Apr</td>\n      <td>0.0</td>\n      <td>0.0</td>\n      <td>0.0</td>\n      <td>NaN</td>\n      <td>NaN</td>\n      <td>0.0</td>\n      <td>NaN</td>\n      <td>NaN</td>\n    </tr>\n    <tr>\n      <th>100</th>\n      <td>1156059</td>\n      <td>1658569</td>\n      <td>Female</td>\n      <td>Apr</td>\n      <td>0.0</td>\n      <td>0.0</td>\n      <td>0.0</td>\n      <td>NaN</td>\n      <td>NaN</td>\n      <td>0.0</td>\n      <td>NaN</td>\n      <td>NaN</td>\n    </tr>\n    <tr>\n      <th>101</th>\n      <td>1156059</td>\n      <td>1696174</td>\n      <td>Male</td>\n      <td>Apr</td>\n      <td>0.0</td>\n      <td>0.0</td>\n      <td>0.0</td>\n      <td>NaN</td>\n      <td>NaN</td>\n      <td>0.0</td>\n      <td>NaN</td>\n      <td>NaN</td>\n    </tr>\n    <tr>\n      <th>102</th>\n      <td>1144468</td>\n      <td>1678816</td>\n      <td>Female</td>\n      <td>Apr</td>\n      <td>15.0</td>\n      <td>16.0</td>\n      <td>16.0</td>\n      <td>0.0</td>\n      <td>0.0</td>\n      <td>NaN</td>\n      <td>20.0</td>\n      <td>15.0</td>\n    </tr>\n    <tr>\n      <th>103</th>\n      <td>1144468</td>\n      <td>1668177</td>\n      <td>Male</td>\n      <td>Apr</td>\n      <td>18.0</td>\n      <td>32.0</td>\n      <td>0.0</td>\n      <td>8.0</td>\n      <td>24.0</td>\n      <td>NaN</td>\n      <td>10.0</td>\n      <td>10.0</td>\n    </tr>\n    <tr>\n      <th>104</th>\n      <td>1159704</td>\n      <td>1655142</td>\n      <td>Male</td>\n      <td>Apr</td>\n      <td>0.0</td>\n      <td>0.0</td>\n      <td>0.0</td>\n      <td>NaN</td>\n      <td>NaN</td>\n      <td>0.0</td>\n      <td>NaN</td>\n      <td>NaN</td>\n    </tr>\n    <tr>\n      <th>105</th>\n      <td>1159704</td>\n      <td>1743847</td>\n      <td>Female</td>\n      <td>Apr</td>\n      <td>0.0</td>\n      <td>0.0</td>\n      <td>0.0</td>\n      <td>NaN</td>\n      <td>NaN</td>\n      <td>0.0</td>\n      <td>NaN</td>\n      <td>NaN</td>\n    </tr>\n    <tr>\n      <th>15</th>\n      <td>1027909</td>\n      <td>1724325</td>\n      <td>Female</td>\n      <td>Nov</td>\n      <td>0.0</td>\n      <td>20.0</td>\n      <td>NaN</td>\n      <td>NaN</td>\n      <td>NaN</td>\n      <td>NaN</td>\n      <td>NaN</td>\n      <td>NaN</td>\n    </tr>\n    <tr>\n      <th>20</th>\n      <td>1069277</td>\n      <td>1623955</td>\n      <td>Male</td>\n      <td>Nov</td>\n      <td>15.0</td>\n      <td>40.0</td>\n      <td>NaN</td>\n      <td>NaN</td>\n      <td>NaN</td>\n      <td>NaN</td>\n      <td>NaN</td>\n      <td>NaN</td>\n    </tr>\n    <tr>\n      <th>32</th>\n      <td>1040627</td>\n      <td>1740401</td>\n      <td>Male</td>\n      <td>Nov</td>\n      <td>NaN</td>\n      <td>0.0</td>\n      <td>NaN</td>\n      <td>NaN</td>\n      <td>NaN</td>\n      <td>NaN</td>\n      <td>NaN</td>\n      <td>NaN</td>\n    </tr>\n    <tr>\n      <th>37</th>\n      <td>1133562</td>\n      <td>1693277</td>\n      <td>Female</td>\n      <td>Nov</td>\n      <td>NaN</td>\n      <td>0.0</td>\n      <td>NaN</td>\n      <td>NaN</td>\n      <td>NaN</td>\n      <td>NaN</td>\n      <td>NaN</td>\n      <td>NaN</td>\n    </tr>\n    <tr>\n      <th>40</th>\n      <td>1084395</td>\n      <td>1767692</td>\n      <td>Male</td>\n      <td>Nov</td>\n      <td>0.0</td>\n      <td>40.0</td>\n      <td>NaN</td>\n      <td>NaN</td>\n      <td>NaN</td>\n      <td>NaN</td>\n      <td>NaN</td>\n      <td>NaN</td>\n    </tr>\n    <tr>\n      <th>60</th>\n      <td>1108574</td>\n      <td>1685383</td>\n      <td>Female</td>\n      <td>Nov</td>\n      <td>NaN</td>\n      <td>0.0</td>\n      <td>NaN</td>\n      <td>NaN</td>\n      <td>NaN</td>\n      <td>NaN</td>\n      <td>NaN</td>\n      <td>NaN</td>\n    </tr>\n    <tr>\n      <th>83</th>\n      <td>1132053</td>\n      <td>1700319</td>\n      <td>Male</td>\n      <td>Nov</td>\n      <td>NaN</td>\n      <td>40.0</td>\n      <td>NaN</td>\n      <td>NaN</td>\n      <td>NaN</td>\n      <td>NaN</td>\n      <td>NaN</td>\n      <td>NaN</td>\n    </tr>\n  </tbody>\n</table>\n<p>113 rows × 12 columns</p>\n</div>"
     },
     "metadata": {},
     "execution_count": 846
    }
   ],
   "source": [
    "data_appended_unique"
   ]
  },
  {
   "cell_type": "code",
   "execution_count": 847,
   "metadata": {},
   "outputs": [
    {
     "output_type": "execute_result",
     "data": {
      "text/plain": [
       "       hh_id   ind_id  gender\n",
       "0    1049420  1687033    Male\n",
       "1    1049420  1662353  Female\n",
       "2    1011033  1631191    Male\n",
       "3    1011033  1687630  Female\n",
       "4    1047651  1746405    Male\n",
       "5    1047651  1712561  Female\n",
       "6    1059082  1703625  Female\n",
       "7    1059082  1755058    Male\n",
       "8    1032311  1705264    Male\n",
       "9    1050449  1738962    Male\n",
       "10   1105688  1649819    Male\n",
       "11   1032991  1660073    Male\n",
       "12   1032991  1679690  Female\n",
       "13   1029103  1663805  Female\n",
       "14   1029103  1663791    Male\n",
       "15   1073720  1650880  Female\n",
       "16   1073720  1700254    Male\n",
       "17   1027909  1649615    Male\n",
       "18   1088259  1702907    Male\n",
       "19   1088259  1693606  Female\n",
       "20   1115114  1701184    Male\n",
       "21   1061790  1608167    Male\n",
       "22   1061790  1774806  Female\n",
       "23   1069277  1650759  Female\n",
       "24   1043103  1689329    Male\n",
       "25   1043103  1727676  Female\n",
       "26   1089701  1693524    Male\n",
       "27   1038786  1612215  Female\n",
       "28   1038786  1686071    Male\n",
       "29   1081268  1667516  Female\n",
       "..       ...      ...     ...\n",
       "83   1087098  1689467  Female\n",
       "84   1164056  1692111  Female\n",
       "85   1123905  1684283    Male\n",
       "86   1123905  1715447  Female\n",
       "87   1173782  1731612  Female\n",
       "88   1173782  1715265    Male\n",
       "89   1119306  1636848  Female\n",
       "90   1119306  1744051    Male\n",
       "91   1096458  1626957    Male\n",
       "92   1096458  1711263  Female\n",
       "93   1142793  1674579  Female\n",
       "94   1142793  1760207    Male\n",
       "95   1106411  1775256    Male\n",
       "96   1098029  1645083  Female\n",
       "97   1098029  1716860    Male\n",
       "98   1132053  1663869  Female\n",
       "99   1101643  1685260    Male\n",
       "100  1156059  1658569  Female\n",
       "101  1156059  1696174    Male\n",
       "102  1144468  1678816  Female\n",
       "103  1144468  1668177    Male\n",
       "104  1159704  1655142    Male\n",
       "105  1159704  1743847  Female\n",
       "15   1027909  1724325  Female\n",
       "20   1069277  1623955    Male\n",
       "32   1040627  1740401    Male\n",
       "37   1133562  1693277  Female\n",
       "40   1084395  1767692    Male\n",
       "60   1108574  1685383  Female\n",
       "83   1132053  1700319    Male\n",
       "\n",
       "[113 rows x 3 columns]"
      ],
      "text/html": "<div>\n<style scoped>\n    .dataframe tbody tr th:only-of-type {\n        vertical-align: middle;\n    }\n\n    .dataframe tbody tr th {\n        vertical-align: top;\n    }\n\n    .dataframe thead th {\n        text-align: right;\n    }\n</style>\n<table border=\"1\" class=\"dataframe\">\n  <thead>\n    <tr style=\"text-align: right;\">\n      <th></th>\n      <th>hh_id</th>\n      <th>ind_id</th>\n      <th>gender</th>\n    </tr>\n  </thead>\n  <tbody>\n    <tr>\n      <th>0</th>\n      <td>1049420</td>\n      <td>1687033</td>\n      <td>Male</td>\n    </tr>\n    <tr>\n      <th>1</th>\n      <td>1049420</td>\n      <td>1662353</td>\n      <td>Female</td>\n    </tr>\n    <tr>\n      <th>2</th>\n      <td>1011033</td>\n      <td>1631191</td>\n      <td>Male</td>\n    </tr>\n    <tr>\n      <th>3</th>\n      <td>1011033</td>\n      <td>1687630</td>\n      <td>Female</td>\n    </tr>\n    <tr>\n      <th>4</th>\n      <td>1047651</td>\n      <td>1746405</td>\n      <td>Male</td>\n    </tr>\n    <tr>\n      <th>5</th>\n      <td>1047651</td>\n      <td>1712561</td>\n      <td>Female</td>\n    </tr>\n    <tr>\n      <th>6</th>\n      <td>1059082</td>\n      <td>1703625</td>\n      <td>Female</td>\n    </tr>\n    <tr>\n      <th>7</th>\n      <td>1059082</td>\n      <td>1755058</td>\n      <td>Male</td>\n    </tr>\n    <tr>\n      <th>8</th>\n      <td>1032311</td>\n      <td>1705264</td>\n      <td>Male</td>\n    </tr>\n    <tr>\n      <th>9</th>\n      <td>1050449</td>\n      <td>1738962</td>\n      <td>Male</td>\n    </tr>\n    <tr>\n      <th>10</th>\n      <td>1105688</td>\n      <td>1649819</td>\n      <td>Male</td>\n    </tr>\n    <tr>\n      <th>11</th>\n      <td>1032991</td>\n      <td>1660073</td>\n      <td>Male</td>\n    </tr>\n    <tr>\n      <th>12</th>\n      <td>1032991</td>\n      <td>1679690</td>\n      <td>Female</td>\n    </tr>\n    <tr>\n      <th>13</th>\n      <td>1029103</td>\n      <td>1663805</td>\n      <td>Female</td>\n    </tr>\n    <tr>\n      <th>14</th>\n      <td>1029103</td>\n      <td>1663791</td>\n      <td>Male</td>\n    </tr>\n    <tr>\n      <th>15</th>\n      <td>1073720</td>\n      <td>1650880</td>\n      <td>Female</td>\n    </tr>\n    <tr>\n      <th>16</th>\n      <td>1073720</td>\n      <td>1700254</td>\n      <td>Male</td>\n    </tr>\n    <tr>\n      <th>17</th>\n      <td>1027909</td>\n      <td>1649615</td>\n      <td>Male</td>\n    </tr>\n    <tr>\n      <th>18</th>\n      <td>1088259</td>\n      <td>1702907</td>\n      <td>Male</td>\n    </tr>\n    <tr>\n      <th>19</th>\n      <td>1088259</td>\n      <td>1693606</td>\n      <td>Female</td>\n    </tr>\n    <tr>\n      <th>20</th>\n      <td>1115114</td>\n      <td>1701184</td>\n      <td>Male</td>\n    </tr>\n    <tr>\n      <th>21</th>\n      <td>1061790</td>\n      <td>1608167</td>\n      <td>Male</td>\n    </tr>\n    <tr>\n      <th>22</th>\n      <td>1061790</td>\n      <td>1774806</td>\n      <td>Female</td>\n    </tr>\n    <tr>\n      <th>23</th>\n      <td>1069277</td>\n      <td>1650759</td>\n      <td>Female</td>\n    </tr>\n    <tr>\n      <th>24</th>\n      <td>1043103</td>\n      <td>1689329</td>\n      <td>Male</td>\n    </tr>\n    <tr>\n      <th>25</th>\n      <td>1043103</td>\n      <td>1727676</td>\n      <td>Female</td>\n    </tr>\n    <tr>\n      <th>26</th>\n      <td>1089701</td>\n      <td>1693524</td>\n      <td>Male</td>\n    </tr>\n    <tr>\n      <th>27</th>\n      <td>1038786</td>\n      <td>1612215</td>\n      <td>Female</td>\n    </tr>\n    <tr>\n      <th>28</th>\n      <td>1038786</td>\n      <td>1686071</td>\n      <td>Male</td>\n    </tr>\n    <tr>\n      <th>29</th>\n      <td>1081268</td>\n      <td>1667516</td>\n      <td>Female</td>\n    </tr>\n    <tr>\n      <th>...</th>\n      <td>...</td>\n      <td>...</td>\n      <td>...</td>\n    </tr>\n    <tr>\n      <th>83</th>\n      <td>1087098</td>\n      <td>1689467</td>\n      <td>Female</td>\n    </tr>\n    <tr>\n      <th>84</th>\n      <td>1164056</td>\n      <td>1692111</td>\n      <td>Female</td>\n    </tr>\n    <tr>\n      <th>85</th>\n      <td>1123905</td>\n      <td>1684283</td>\n      <td>Male</td>\n    </tr>\n    <tr>\n      <th>86</th>\n      <td>1123905</td>\n      <td>1715447</td>\n      <td>Female</td>\n    </tr>\n    <tr>\n      <th>87</th>\n      <td>1173782</td>\n      <td>1731612</td>\n      <td>Female</td>\n    </tr>\n    <tr>\n      <th>88</th>\n      <td>1173782</td>\n      <td>1715265</td>\n      <td>Male</td>\n    </tr>\n    <tr>\n      <th>89</th>\n      <td>1119306</td>\n      <td>1636848</td>\n      <td>Female</td>\n    </tr>\n    <tr>\n      <th>90</th>\n      <td>1119306</td>\n      <td>1744051</td>\n      <td>Male</td>\n    </tr>\n    <tr>\n      <th>91</th>\n      <td>1096458</td>\n      <td>1626957</td>\n      <td>Male</td>\n    </tr>\n    <tr>\n      <th>92</th>\n      <td>1096458</td>\n      <td>1711263</td>\n      <td>Female</td>\n    </tr>\n    <tr>\n      <th>93</th>\n      <td>1142793</td>\n      <td>1674579</td>\n      <td>Female</td>\n    </tr>\n    <tr>\n      <th>94</th>\n      <td>1142793</td>\n      <td>1760207</td>\n      <td>Male</td>\n    </tr>\n    <tr>\n      <th>95</th>\n      <td>1106411</td>\n      <td>1775256</td>\n      <td>Male</td>\n    </tr>\n    <tr>\n      <th>96</th>\n      <td>1098029</td>\n      <td>1645083</td>\n      <td>Female</td>\n    </tr>\n    <tr>\n      <th>97</th>\n      <td>1098029</td>\n      <td>1716860</td>\n      <td>Male</td>\n    </tr>\n    <tr>\n      <th>98</th>\n      <td>1132053</td>\n      <td>1663869</td>\n      <td>Female</td>\n    </tr>\n    <tr>\n      <th>99</th>\n      <td>1101643</td>\n      <td>1685260</td>\n      <td>Male</td>\n    </tr>\n    <tr>\n      <th>100</th>\n      <td>1156059</td>\n      <td>1658569</td>\n      <td>Female</td>\n    </tr>\n    <tr>\n      <th>101</th>\n      <td>1156059</td>\n      <td>1696174</td>\n      <td>Male</td>\n    </tr>\n    <tr>\n      <th>102</th>\n      <td>1144468</td>\n      <td>1678816</td>\n      <td>Female</td>\n    </tr>\n    <tr>\n      <th>103</th>\n      <td>1144468</td>\n      <td>1668177</td>\n      <td>Male</td>\n    </tr>\n    <tr>\n      <th>104</th>\n      <td>1159704</td>\n      <td>1655142</td>\n      <td>Male</td>\n    </tr>\n    <tr>\n      <th>105</th>\n      <td>1159704</td>\n      <td>1743847</td>\n      <td>Female</td>\n    </tr>\n    <tr>\n      <th>15</th>\n      <td>1027909</td>\n      <td>1724325</td>\n      <td>Female</td>\n    </tr>\n    <tr>\n      <th>20</th>\n      <td>1069277</td>\n      <td>1623955</td>\n      <td>Male</td>\n    </tr>\n    <tr>\n      <th>32</th>\n      <td>1040627</td>\n      <td>1740401</td>\n      <td>Male</td>\n    </tr>\n    <tr>\n      <th>37</th>\n      <td>1133562</td>\n      <td>1693277</td>\n      <td>Female</td>\n    </tr>\n    <tr>\n      <th>40</th>\n      <td>1084395</td>\n      <td>1767692</td>\n      <td>Male</td>\n    </tr>\n    <tr>\n      <th>60</th>\n      <td>1108574</td>\n      <td>1685383</td>\n      <td>Female</td>\n    </tr>\n    <tr>\n      <th>83</th>\n      <td>1132053</td>\n      <td>1700319</td>\n      <td>Male</td>\n    </tr>\n  </tbody>\n</table>\n<p>113 rows × 3 columns</p>\n</div>"
     },
     "metadata": {},
     "execution_count": 847
    }
   ],
   "source": [
    "time_invariants"
   ]
  },
  {
   "source": [
    "### For curiosity, I checked if there's any typo in hh_id, ind_id or gender. The logic is if 2 of the columns are the same (e.g. same household and same individual), the last one should be the same."
   ],
   "cell_type": "markdown",
   "metadata": {}
  },
  {
   "cell_type": "code",
   "execution_count": 848,
   "metadata": {},
   "outputs": [],
   "source": [
    "# Check if gender is really time invariant (no typo):\n",
    "def check_time_invariant(df1, df2):\n",
    "    # For gender\n",
    "    out_gender = int()\n",
    "    for i in range(len(df1['gender'])):\n",
    "        for j in range(len(df2['gender'])):\n",
    "            if df1['hh_id'][i] == df2['hh_id'][j]:\n",
    "                if df1['ind_id'][i] == df2['ind_id'][j]:\n",
    "                    if df1['gender'][i] == df2['gender'][j]:\n",
    "                        out_gender = out_gender\n",
    "                    else: \n",
    "                        out_gender += 1\n",
    "    \n",
    "    # For individual id:\n",
    "    out_ind_id = int()\n",
    "    for i in range(len(df1['gender'])):\n",
    "        for j in range(len(df2['gender'])):\n",
    "            if df1['hh_id'][i] == df2['hh_id'][j]:\n",
    "                if df1['gender'][i] == df2['gender'][j]:\n",
    "                    if df1['ind_id'][i] == df2['ind_id'][j]:\n",
    "                        out_ind_id = out_ind_id\n",
    "                    else: \n",
    "                        out_ind_id += 1\n",
    "\n",
    "    # For household id:\n",
    "    out_hh_id = int()\n",
    "    for i in range(len(df1['gender'])):\n",
    "        for j in range(len(df2['gender'])):\n",
    "            if df1['ind_id'][i] == df2['ind_id'][j]:\n",
    "                if df1['gender'][i] == df2['gender'][j]:\n",
    "                    if df1['hh_id'][i] == df2['hh_id'][j]:\n",
    "                        out_hh_id = out_hh_id\n",
    "                    else: \n",
    "                        out_hh_id += 1\n",
    "    \n",
    "    # Print out the results:\n",
    "    dict = {\n",
    "        \"columns\": (\"gender\", \"hh_id\", \"ind_id\"),\n",
    "        \"outputs\": (out_gender, out_hh_id, out_ind_id)\n",
    "        }\n",
    "    \n",
    "    for k in range(len(dict['outputs'])):\n",
    "        if dict['outputs'][k] == 0:\n",
    "            print(f\"Congratuations! There's no typo in the {dict['columns'][k]} column.\")   \n",
    "        else:\n",
    "            print(f\"There is/ are {dict['outputs'][k]} typo(s) in the {dict['columns'][k]} column.\")           \n"
   ]
  },
  {
   "cell_type": "code",
   "execution_count": 849,
   "metadata": {},
   "outputs": [
    {
     "output_type": "stream",
     "name": "stdout",
     "text": [
      "Congratuations! There's no typo in the gender column.\nCongratuations! There's no typo in the hh_id column.\nCongratuations! There's no typo in the ind_id column.\n"
     ]
    }
   ],
   "source": [
    "check_time_invariant(nov_2019, apr_2020)"
   ]
  },
  {
   "source": [
    "And there I have it. There's no inconsistency in those 3 columns. I feel like I did something very stupid and would be grateful if someone knows a better way to check this."
   ],
   "cell_type": "markdown",
   "metadata": {}
  },
  {
   "source": [
    "We can slice the data some more: for example first by time (back to the 2 datasets before)"
   ],
   "cell_type": "markdown",
   "metadata": {}
  },
  {
   "cell_type": "code",
   "execution_count": 850,
   "metadata": {},
   "outputs": [],
   "source": [
    "data_apr = data_appended_normal[data_appended.month == \"Apr\"]"
   ]
  },
  {
   "cell_type": "code",
   "execution_count": 851,
   "metadata": {},
   "outputs": [],
   "source": [
    "data_nov = data_appended_normal[data_appended.month == \"Nov\"]"
   ]
  },
  {
   "cell_type": "code",
   "execution_count": 852,
   "metadata": {},
   "outputs": [],
   "source": [
    "#data_nov\n",
    "#data_apr"
   ]
  },
  {
   "source": [
    "If we sum up the hours per household we have household data.\n"
   ],
   "cell_type": "markdown",
   "metadata": {}
  },
  {
   "cell_type": "code",
   "execution_count": 853,
   "metadata": {},
   "outputs": [],
   "source": [
    "data_apr_household = data_apr.groupby('hh_id').sum().drop('ind_id', axis=1)\n",
    "\n",
    "# Household data for November is a little more complicated since we only need a few columns:\n",
    "data_nov_household = data_nov.groupby('hh_id').sum().drop('ind_id', axis=1)\n",
    "data_nov_household.columns = data_nov_household.columns.astype(str)\n",
    "data_nov_household = data_nov_household.loc[:, 'total_childcare_hours':'total_working_hours']\n",
    "\n"
   ]
  },
  {
   "cell_type": "code",
   "execution_count": 854,
   "metadata": {},
   "outputs": [
    {
     "output_type": "execute_result",
     "data": {
      "text/plain": [
       "         total_childcare_hours  total_working_hours\n",
       "hh_id                                              \n",
       "1011033                    7.0                 84.0\n",
       "1027909                    0.0                 20.0\n",
       "1029103                    0.0                 58.0\n",
       "1032991                   20.0                 40.0\n",
       "1038786                    0.0                116.0\n",
       "1040627                    0.0                  0.0\n",
       "1043103                    0.0                 16.0\n",
       "1047651                   52.0                 40.0\n",
       "1049420                    2.0                  9.0\n",
       "1059082                   48.0                 32.0\n",
       "1061790                    0.0                 54.0\n",
       "1065386                    0.0                 72.0\n",
       "1068935                    0.0                 32.0\n",
       "1069277                   70.0                 40.0\n",
       "1071717                   20.0                 65.0\n",
       "1073720                   10.0                 72.0\n",
       "1074055                    0.0                  0.0\n",
       "1074381                    0.0                  7.0\n",
       "1076278                    0.0                  0.0\n",
       "1077532                    0.0                 67.0\n",
       "1081268                    0.0                  0.0\n",
       "1081382                    6.0                 50.0\n",
       "1083141                   75.0                  0.0\n",
       "1084395                    0.0                 68.0\n",
       "1088259                   17.0                 50.0\n",
       "1089936                    6.0                 65.0\n",
       "1094544                    0.0                  0.0\n",
       "1096458                    0.0                 40.0\n",
       "1098029                   58.0                 80.0\n",
       "1098168                    0.0                  0.0\n",
       "1102887                    0.0                 30.0\n",
       "1108574                    0.0                  0.0\n",
       "1110506                    0.0                 57.0\n",
       "1112539                   66.0                 80.0\n",
       "1114848                    0.0                  0.0\n",
       "1118280                    0.0                  0.0\n",
       "1119306                    0.0                  0.0\n",
       "1123905                    0.0                 44.0\n",
       "1125056                    0.0                  0.0\n",
       "1125793                    0.0                  0.0\n",
       "1128343                    0.0                  0.0\n",
       "1132053                    0.0                 40.0\n",
       "1133562                    0.0                  0.0\n",
       "1142793                    0.0                 55.0\n",
       "1143095                    0.0                  0.0\n",
       "1144468                   29.0                 60.0\n",
       "1156059                    0.0                  0.0\n",
       "1159704                    0.0                  0.0\n",
       "1173782                    0.0                 40.0"
      ],
      "text/html": "<div>\n<style scoped>\n    .dataframe tbody tr th:only-of-type {\n        vertical-align: middle;\n    }\n\n    .dataframe tbody tr th {\n        vertical-align: top;\n    }\n\n    .dataframe thead th {\n        text-align: right;\n    }\n</style>\n<table border=\"1\" class=\"dataframe\">\n  <thead>\n    <tr style=\"text-align: right;\">\n      <th></th>\n      <th>total_childcare_hours</th>\n      <th>total_working_hours</th>\n    </tr>\n    <tr>\n      <th>hh_id</th>\n      <th></th>\n      <th></th>\n    </tr>\n  </thead>\n  <tbody>\n    <tr>\n      <th>1011033</th>\n      <td>7.0</td>\n      <td>84.0</td>\n    </tr>\n    <tr>\n      <th>1027909</th>\n      <td>0.0</td>\n      <td>20.0</td>\n    </tr>\n    <tr>\n      <th>1029103</th>\n      <td>0.0</td>\n      <td>58.0</td>\n    </tr>\n    <tr>\n      <th>1032991</th>\n      <td>20.0</td>\n      <td>40.0</td>\n    </tr>\n    <tr>\n      <th>1038786</th>\n      <td>0.0</td>\n      <td>116.0</td>\n    </tr>\n    <tr>\n      <th>1040627</th>\n      <td>0.0</td>\n      <td>0.0</td>\n    </tr>\n    <tr>\n      <th>1043103</th>\n      <td>0.0</td>\n      <td>16.0</td>\n    </tr>\n    <tr>\n      <th>1047651</th>\n      <td>52.0</td>\n      <td>40.0</td>\n    </tr>\n    <tr>\n      <th>1049420</th>\n      <td>2.0</td>\n      <td>9.0</td>\n    </tr>\n    <tr>\n      <th>1059082</th>\n      <td>48.0</td>\n      <td>32.0</td>\n    </tr>\n    <tr>\n      <th>1061790</th>\n      <td>0.0</td>\n      <td>54.0</td>\n    </tr>\n    <tr>\n      <th>1065386</th>\n      <td>0.0</td>\n      <td>72.0</td>\n    </tr>\n    <tr>\n      <th>1068935</th>\n      <td>0.0</td>\n      <td>32.0</td>\n    </tr>\n    <tr>\n      <th>1069277</th>\n      <td>70.0</td>\n      <td>40.0</td>\n    </tr>\n    <tr>\n      <th>1071717</th>\n      <td>20.0</td>\n      <td>65.0</td>\n    </tr>\n    <tr>\n      <th>1073720</th>\n      <td>10.0</td>\n      <td>72.0</td>\n    </tr>\n    <tr>\n      <th>1074055</th>\n      <td>0.0</td>\n      <td>0.0</td>\n    </tr>\n    <tr>\n      <th>1074381</th>\n      <td>0.0</td>\n      <td>7.0</td>\n    </tr>\n    <tr>\n      <th>1076278</th>\n      <td>0.0</td>\n      <td>0.0</td>\n    </tr>\n    <tr>\n      <th>1077532</th>\n      <td>0.0</td>\n      <td>67.0</td>\n    </tr>\n    <tr>\n      <th>1081268</th>\n      <td>0.0</td>\n      <td>0.0</td>\n    </tr>\n    <tr>\n      <th>1081382</th>\n      <td>6.0</td>\n      <td>50.0</td>\n    </tr>\n    <tr>\n      <th>1083141</th>\n      <td>75.0</td>\n      <td>0.0</td>\n    </tr>\n    <tr>\n      <th>1084395</th>\n      <td>0.0</td>\n      <td>68.0</td>\n    </tr>\n    <tr>\n      <th>1088259</th>\n      <td>17.0</td>\n      <td>50.0</td>\n    </tr>\n    <tr>\n      <th>1089936</th>\n      <td>6.0</td>\n      <td>65.0</td>\n    </tr>\n    <tr>\n      <th>1094544</th>\n      <td>0.0</td>\n      <td>0.0</td>\n    </tr>\n    <tr>\n      <th>1096458</th>\n      <td>0.0</td>\n      <td>40.0</td>\n    </tr>\n    <tr>\n      <th>1098029</th>\n      <td>58.0</td>\n      <td>80.0</td>\n    </tr>\n    <tr>\n      <th>1098168</th>\n      <td>0.0</td>\n      <td>0.0</td>\n    </tr>\n    <tr>\n      <th>1102887</th>\n      <td>0.0</td>\n      <td>30.0</td>\n    </tr>\n    <tr>\n      <th>1108574</th>\n      <td>0.0</td>\n      <td>0.0</td>\n    </tr>\n    <tr>\n      <th>1110506</th>\n      <td>0.0</td>\n      <td>57.0</td>\n    </tr>\n    <tr>\n      <th>1112539</th>\n      <td>66.0</td>\n      <td>80.0</td>\n    </tr>\n    <tr>\n      <th>1114848</th>\n      <td>0.0</td>\n      <td>0.0</td>\n    </tr>\n    <tr>\n      <th>1118280</th>\n      <td>0.0</td>\n      <td>0.0</td>\n    </tr>\n    <tr>\n      <th>1119306</th>\n      <td>0.0</td>\n      <td>0.0</td>\n    </tr>\n    <tr>\n      <th>1123905</th>\n      <td>0.0</td>\n      <td>44.0</td>\n    </tr>\n    <tr>\n      <th>1125056</th>\n      <td>0.0</td>\n      <td>0.0</td>\n    </tr>\n    <tr>\n      <th>1125793</th>\n      <td>0.0</td>\n      <td>0.0</td>\n    </tr>\n    <tr>\n      <th>1128343</th>\n      <td>0.0</td>\n      <td>0.0</td>\n    </tr>\n    <tr>\n      <th>1132053</th>\n      <td>0.0</td>\n      <td>40.0</td>\n    </tr>\n    <tr>\n      <th>1133562</th>\n      <td>0.0</td>\n      <td>0.0</td>\n    </tr>\n    <tr>\n      <th>1142793</th>\n      <td>0.0</td>\n      <td>55.0</td>\n    </tr>\n    <tr>\n      <th>1143095</th>\n      <td>0.0</td>\n      <td>0.0</td>\n    </tr>\n    <tr>\n      <th>1144468</th>\n      <td>29.0</td>\n      <td>60.0</td>\n    </tr>\n    <tr>\n      <th>1156059</th>\n      <td>0.0</td>\n      <td>0.0</td>\n    </tr>\n    <tr>\n      <th>1159704</th>\n      <td>0.0</td>\n      <td>0.0</td>\n    </tr>\n    <tr>\n      <th>1173782</th>\n      <td>0.0</td>\n      <td>40.0</td>\n    </tr>\n  </tbody>\n</table>\n</div>"
     },
     "metadata": {},
     "execution_count": 854
    }
   ],
   "source": [
    "\n",
    "data_nov_household"
   ]
  },
  {
   "source": [
    "From the time-sliced data if we want individual data we can simply drop the hh_id column"
   ],
   "cell_type": "markdown",
   "metadata": {}
  },
  {
   "cell_type": "code",
   "execution_count": 855,
   "metadata": {},
   "outputs": [],
   "source": [
    "data_apr_ind = data_apr.drop(['hh_id','month'], axis=1)"
   ]
  },
  {
   "cell_type": "code",
   "execution_count": 856,
   "metadata": {},
   "outputs": [],
   "source": [
    "data_nov_ind = data_nov.drop(['hh_id', 'month'], axis=1)\n",
    "data_nov_ind.columns = data_nov_ind.columns.astype(str)\n",
    "data_nov_ind = data_nov_ind.loc[:, 'ind_id':'total_working_hours']"
   ]
  },
  {
   "cell_type": "code",
   "execution_count": 857,
   "metadata": {},
   "outputs": [],
   "source": [
    "#data_apr_ind\n",
    "#data_nov_ind"
   ]
  },
  {
   "source": [
    "## 1.6. Give the dataframes sensible indexes\n"
   ],
   "cell_type": "markdown",
   "metadata": {}
  },
  {
   "cell_type": "code",
   "execution_count": 858,
   "metadata": {},
   "outputs": [],
   "source": [
    "# Define a set_index_self function:\n",
    "def set_index_self(df, columns):\n",
    "    \"\"\"Returns the dataframe with index.\n",
    "\n",
    "    Args:\n",
    "        df (dataframe): a panda dataframe\n",
    "        columns (list): a list of column names (str)\n",
    "    \n",
    "    Returns:\n",
    "        dataframe: the dataframe with index\n",
    "    \"\"\"\n",
    "\n",
    "    return df.set_index(keys=columns)\n",
    "\n",
    "# Time invariants:\n",
    "time_invariants_with_index = set_index_self(time_invariants, ['hh_id', 'ind_id'])\n",
    "#time_invariants_with_index"
   ]
  },
  {
   "cell_type": "code",
   "execution_count": 859,
   "metadata": {},
   "outputs": [],
   "source": [
    "data_appended_normal_with_index = set_index_self(data_appended_normal, ['hh_id', 'ind_id', 'month'])\n",
    "#data_appended_normal_with_index"
   ]
  },
  {
   "source": [
    "I think the result is the same with 'month' as index or not. What do you think?"
   ],
   "cell_type": "markdown",
   "metadata": {}
  },
  {
   "cell_type": "code",
   "execution_count": 860,
   "metadata": {},
   "outputs": [],
   "source": [
    "data_apr_with_index = set_index_self(data_apr, ['hh_id', 'ind_id'])\n",
    "data_nov_with_index = set_index_self(data_nov, ['hh_id', 'ind_id'])\n"
   ]
  },
  {
   "cell_type": "code",
   "execution_count": 861,
   "metadata": {},
   "outputs": [],
   "source": [
    "#data_appended_normal_with_index\n",
    "#data_nov_with_index"
   ]
  },
  {
   "source": [
    "data_nov_household and data_apr_household is automatically indexed correctly by python"
   ],
   "cell_type": "markdown",
   "metadata": {}
  },
  {
   "cell_type": "code",
   "execution_count": 862,
   "metadata": {},
   "outputs": [],
   "source": [
    "data_apr_ind_with_index = set_index_self(data_apr_ind, 'ind_id')\n",
    "data_nov_ind_with_index = set_index_self(data_nov_ind, 'ind_id')\n"
   ]
  },
  {
   "cell_type": "code",
   "execution_count": 863,
   "metadata": {},
   "outputs": [
    {
     "output_type": "execute_result",
     "data": {
      "text/plain": [
       "         total_childcare_hours  total_working_hours\n",
       "ind_id                                             \n",
       "1687033                    2.0                  0.0\n",
       "1662353                    0.0                  9.0\n",
       "1631191                    1.0                 67.0\n",
       "1687630                    6.0                 17.0\n",
       "1746405                   12.0                 40.0"
      ],
      "text/html": "<div>\n<style scoped>\n    .dataframe tbody tr th:only-of-type {\n        vertical-align: middle;\n    }\n\n    .dataframe tbody tr th {\n        vertical-align: top;\n    }\n\n    .dataframe thead th {\n        text-align: right;\n    }\n</style>\n<table border=\"1\" class=\"dataframe\">\n  <thead>\n    <tr style=\"text-align: right;\">\n      <th></th>\n      <th>total_childcare_hours</th>\n      <th>total_working_hours</th>\n    </tr>\n    <tr>\n      <th>ind_id</th>\n      <th></th>\n      <th></th>\n    </tr>\n  </thead>\n  <tbody>\n    <tr>\n      <th>1687033</th>\n      <td>2.0</td>\n      <td>0.0</td>\n    </tr>\n    <tr>\n      <th>1662353</th>\n      <td>0.0</td>\n      <td>9.0</td>\n    </tr>\n    <tr>\n      <th>1631191</th>\n      <td>1.0</td>\n      <td>67.0</td>\n    </tr>\n    <tr>\n      <th>1687630</th>\n      <td>6.0</td>\n      <td>17.0</td>\n    </tr>\n    <tr>\n      <th>1746405</th>\n      <td>12.0</td>\n      <td>40.0</td>\n    </tr>\n  </tbody>\n</table>\n</div>"
     },
     "metadata": {},
     "execution_count": 863
    }
   ],
   "source": [
    "#data_apr_ind_with_index\n",
    "data_nov_ind_with_index.head()"
   ]
  },
  {
   "source": [
    "## 2. Calculate the average of total working hours in each month."
   ],
   "cell_type": "markdown",
   "metadata": {}
  },
  {
   "cell_type": "code",
   "execution_count": 864,
   "metadata": {},
   "outputs": [
    {
     "output_type": "stream",
     "name": "stdout",
     "text": [
      "Mean working hours in Nov 2019 is: 17.988636363636363\nMean working hours in Apr 2020 is: 13.273584905660377\n"
     ]
    }
   ],
   "source": [
    "# Use the built-in one from statistics:\n",
    "print(\"Mean working hours in Nov 2019 is: \", end=\"\")\n",
    "print(mean(nov_2019['total_working_hours']))\n",
    "\n",
    "# Use the built-in one from statistics:\n",
    "print(\"Mean working hours in Apr 2020 is: \", end=\"\")\n",
    "print(mean(apr_2020['total_working_hours']))"
   ]
  },
  {
   "cell_type": "code",
   "execution_count": null,
   "metadata": {},
   "outputs": [],
   "source": []
  }
 ],
 "metadata": {
  "kernelspec": {
   "display_name": "Python 3",
   "language": "python",
   "name": "python3"
  },
  "language_info": {
   "codemirror_mode": {
    "name": "ipython",
    "version": 3
   },
   "file_extension": ".py",
   "mimetype": "text/x-python",
   "name": "python",
   "nbconvert_exporter": "python",
   "pygments_lexer": "ipython3",
   "version": "3.7.1-final"
  }
 },
 "nbformat": 4,
 "nbformat_minor": 4
}
