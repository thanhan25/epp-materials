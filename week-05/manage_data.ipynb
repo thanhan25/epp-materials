{
 "cells": [
  {
   "source": [
    "# Preparation for class in week 5\n",
    "\n",
    "\n",
    "Our example is inspired by the Dutch LISS data, in particular the waves on Time Use and consumption in November 2019 and in April 2020. \n",
    "\n",
    "In particular, the data contain the following variables, alphabetically sorted:\n",
    "\n",
    "| Variable     | Content                                                           |\n",
    "|:-------------|:------------------------------------------------------------      |\n",
    "| geslacht     | Gender (Man: Male, Vrouw: Female)                                 |\n",
    "| nohouse_encr | Household identifier                                              |\n",
    "| nomem_encr   | Member identifier                                                 |\n",
    "| v1q1_v1col1  | Working hours (Nov) / Working hours at workplace (Apr)            |\n",
    "| v1q1a_v1col1 | Working hours in home office, no kids in HH (Apr)                 |\n",
    "| v1q1b_v1col1 | Working hours in home office while responsible for kids (Apr)     |\n",
    "| v1q1c_v1col1 | Working hours in home office while not responsible for kids (Apr) |\n",
    "| v1q5_v1col1  | Childcare hours (all in Nov, residual in Apr)                     |\n",
    "| v1q5a_v1col1 | Homeschooling hours (Apr)                                         |\n",
    "\n",
    "\n",
    "In this exercise, we will only work with the November data.\n",
    "\n",
    "We start by importing Pandas"
   ],
   "cell_type": "markdown",
   "metadata": {}
  },
  {
   "cell_type": "code",
   "execution_count": 53,
   "metadata": {},
   "outputs": [],
   "source": [
    "import pandas as pd\n",
    "import numpy as np\n",
    "from functools import reduce\n",
    "from statistics import mean"
   ]
  },
  {
   "cell_type": "markdown",
   "metadata": {},
   "source": [
    "## Read in the data\n",
    "\n",
    "The November data is stored in Stata format. Replace the `XXXXX` in the next cell by the appropriate Pandas function."
   ]
  },
  {
   "cell_type": "code",
   "execution_count": 54,
   "metadata": {},
   "outputs": [],
   "source": [
    "nov_2019 = pd.read_stata(\"time_use_2019-11.dta\", convert_categoricals=True)\n",
    "apr_2020 = pd.read_csv(\"time_use_2020-04.csv\")"
   ]
  },
  {
   "source": [
    "## Browse the data\n",
    "\n",
    "You can browse through the data by just typing the name of a DataFrame as the last thing in a cell.\n",
    "\n",
    "This will yield a nice html-formatted output. Use this to find out the difference between setting `convert_categoricals` to `True` or `False` in the call above. In case you know some Stata: Can you explain what is happening? Else don't worry about the reasons behind what is going on.\n"
   ],
   "cell_type": "markdown",
   "metadata": {}
  },
  {
   "source": [
    "When convert_categoricals=True then the gender column displays Man and Vroww. When False it displays 1 and 0.\n",
    "I do not know the reason but it seems self-explanatory."
   ],
   "cell_type": "markdown",
   "metadata": {}
  },
  {
   "cell_type": "code",
   "execution_count": 55,
   "metadata": {},
   "outputs": [
    {
     "output_type": "execute_result",
     "data": {
      "text/plain": [
       "   nomem_encr geslacht  v1q1_v1col1  v1q5_v1col1  nohouse_encr\n",
       "0   1687033.0      Man          0.0          2.0     1049420.0\n",
       "1   1662353.0    Vrouw          9.0          0.0     1049420.0\n",
       "2   1631191.0      Man         67.0          1.0     1011033.0\n",
       "3   1687630.0    Vrouw         17.0          6.0     1011033.0\n",
       "4   1746405.0      Man         40.0         12.0     1047651.0"
      ],
      "text/html": "<div>\n<style scoped>\n    .dataframe tbody tr th:only-of-type {\n        vertical-align: middle;\n    }\n\n    .dataframe tbody tr th {\n        vertical-align: top;\n    }\n\n    .dataframe thead th {\n        text-align: right;\n    }\n</style>\n<table border=\"1\" class=\"dataframe\">\n  <thead>\n    <tr style=\"text-align: right;\">\n      <th></th>\n      <th>nomem_encr</th>\n      <th>geslacht</th>\n      <th>v1q1_v1col1</th>\n      <th>v1q5_v1col1</th>\n      <th>nohouse_encr</th>\n    </tr>\n  </thead>\n  <tbody>\n    <tr>\n      <th>0</th>\n      <td>1687033.0</td>\n      <td>Man</td>\n      <td>0.0</td>\n      <td>2.0</td>\n      <td>1049420.0</td>\n    </tr>\n    <tr>\n      <th>1</th>\n      <td>1662353.0</td>\n      <td>Vrouw</td>\n      <td>9.0</td>\n      <td>0.0</td>\n      <td>1049420.0</td>\n    </tr>\n    <tr>\n      <th>2</th>\n      <td>1631191.0</td>\n      <td>Man</td>\n      <td>67.0</td>\n      <td>1.0</td>\n      <td>1011033.0</td>\n    </tr>\n    <tr>\n      <th>3</th>\n      <td>1687630.0</td>\n      <td>Vrouw</td>\n      <td>17.0</td>\n      <td>6.0</td>\n      <td>1011033.0</td>\n    </tr>\n    <tr>\n      <th>4</th>\n      <td>1746405.0</td>\n      <td>Man</td>\n      <td>40.0</td>\n      <td>12.0</td>\n      <td>1047651.0</td>\n    </tr>\n  </tbody>\n</table>\n</div>"
     },
     "metadata": {},
     "execution_count": 55
    }
   ],
   "source": [
    "nov_2019.head()"
   ]
  },
  {
   "cell_type": "code",
   "execution_count": 56,
   "metadata": {},
   "outputs": [
    {
     "output_type": "execute_result",
     "data": {
      "text/plain": [
       "  geslacht  v1q1_v1col1  v1q1a_v1col1  v1q1b_v1col1  v1q1c_v1col1  \\\n",
       "0      Man          0.0           NaN           0.0           0.0   \n",
       "1    Vrouw          3.0           NaN           0.0           0.0   \n",
       "2      Man         47.0           NaN           4.0           0.0   \n",
       "3    Vrouw          8.0           NaN           0.0           8.0   \n",
       "4      Man         36.0           NaN           0.0           0.0   \n",
       "\n",
       "   v1q5_v1col1  v1q5a_v1col1  nohouse_encr  nomem_encr  \n",
       "0          0.0           0.0       1049420     1687033  \n",
       "1          0.0           0.0       1049420     1662353  \n",
       "2          4.0           0.0       1011033     1631191  \n",
       "3          0.0           0.0       1011033     1687630  \n",
       "4          0.0           0.0       1047651     1746405  "
      ],
      "text/html": "<div>\n<style scoped>\n    .dataframe tbody tr th:only-of-type {\n        vertical-align: middle;\n    }\n\n    .dataframe tbody tr th {\n        vertical-align: top;\n    }\n\n    .dataframe thead th {\n        text-align: right;\n    }\n</style>\n<table border=\"1\" class=\"dataframe\">\n  <thead>\n    <tr style=\"text-align: right;\">\n      <th></th>\n      <th>geslacht</th>\n      <th>v1q1_v1col1</th>\n      <th>v1q1a_v1col1</th>\n      <th>v1q1b_v1col1</th>\n      <th>v1q1c_v1col1</th>\n      <th>v1q5_v1col1</th>\n      <th>v1q5a_v1col1</th>\n      <th>nohouse_encr</th>\n      <th>nomem_encr</th>\n    </tr>\n  </thead>\n  <tbody>\n    <tr>\n      <th>0</th>\n      <td>Man</td>\n      <td>0.0</td>\n      <td>NaN</td>\n      <td>0.0</td>\n      <td>0.0</td>\n      <td>0.0</td>\n      <td>0.0</td>\n      <td>1049420</td>\n      <td>1687033</td>\n    </tr>\n    <tr>\n      <th>1</th>\n      <td>Vrouw</td>\n      <td>3.0</td>\n      <td>NaN</td>\n      <td>0.0</td>\n      <td>0.0</td>\n      <td>0.0</td>\n      <td>0.0</td>\n      <td>1049420</td>\n      <td>1662353</td>\n    </tr>\n    <tr>\n      <th>2</th>\n      <td>Man</td>\n      <td>47.0</td>\n      <td>NaN</td>\n      <td>4.0</td>\n      <td>0.0</td>\n      <td>4.0</td>\n      <td>0.0</td>\n      <td>1011033</td>\n      <td>1631191</td>\n    </tr>\n    <tr>\n      <th>3</th>\n      <td>Vrouw</td>\n      <td>8.0</td>\n      <td>NaN</td>\n      <td>0.0</td>\n      <td>8.0</td>\n      <td>0.0</td>\n      <td>0.0</td>\n      <td>1011033</td>\n      <td>1687630</td>\n    </tr>\n    <tr>\n      <th>4</th>\n      <td>Man</td>\n      <td>36.0</td>\n      <td>NaN</td>\n      <td>0.0</td>\n      <td>0.0</td>\n      <td>0.0</td>\n      <td>0.0</td>\n      <td>1047651</td>\n      <td>1746405</td>\n    </tr>\n  </tbody>\n</table>\n</div>"
     },
     "metadata": {},
     "execution_count": 56
    }
   ],
   "source": [
    "apr_2020.head()"
   ]
  },
  {
   "source": [
    "### Make sure all the columns have a sensible data type (try: apr_2020.dtypes)."
   ],
   "cell_type": "markdown",
   "metadata": {}
  },
  {
   "cell_type": "code",
   "execution_count": 57,
   "metadata": {},
   "outputs": [
    {
     "output_type": "execute_result",
     "data": {
      "text/plain": [
       "nomem_encr       float64\n",
       "geslacht        category\n",
       "v1q1_v1col1      float64\n",
       "v1q5_v1col1      float64\n",
       "nohouse_encr     float64\n",
       "dtype: object"
      ]
     },
     "metadata": {},
     "execution_count": 57
    }
   ],
   "source": [
    "nov_2019.dtypes"
   ]
  },
  {
   "cell_type": "code",
   "execution_count": 58,
   "metadata": {},
   "outputs": [
    {
     "output_type": "execute_result",
     "data": {
      "text/plain": [
       "geslacht         object\n",
       "v1q1_v1col1     float64\n",
       "v1q1a_v1col1    float64\n",
       "v1q1b_v1col1    float64\n",
       "v1q1c_v1col1    float64\n",
       "v1q5_v1col1     float64\n",
       "v1q5a_v1col1    float64\n",
       "nohouse_encr      int64\n",
       "nomem_encr        int64\n",
       "dtype: object"
      ]
     },
     "metadata": {},
     "execution_count": 58
    }
   ],
   "source": [
    "apr_2020.dtypes"
   ]
  },
  {
   "cell_type": "code",
   "execution_count": 59,
   "metadata": {},
   "outputs": [
    {
     "output_type": "execute_result",
     "data": {
      "text/plain": [
       "Man      56\n",
       "Vrouw    50\n",
       "Name: geslacht, dtype: int64"
      ]
     },
     "metadata": {},
     "execution_count": 59
    }
   ],
   "source": [
    "# Count each categories in gender including NAs:\n",
    "apr_2020['geslacht'].value_counts(dropna=False)"
   ]
  },
  {
   "cell_type": "code",
   "execution_count": 62,
   "metadata": {},
   "outputs": [
    {
     "output_type": "execute_result",
     "data": {
      "text/plain": [
       "CategoricalDtype(categories=['Male', 'Female'], ordered=True)"
      ]
     },
     "metadata": {},
     "execution_count": 62
    }
   ],
   "source": [
    "# Convert gender column to categorical:\n",
    "apr_2020['geslacht'] = pd.Categorical(apr_2020['geslacht'], categories=['Man', 'Vrouw'])\n",
    "apr_2020['geslacht'] = apr_2020['geslacht'].cat.rename_categories({'Man': 'Male', 'Vrouw': 'Female'})\n",
    "apr_2020['geslacht'].dtypes\n",
    "\n",
    "nov_2019['geslacht'] = pd.Categorical(nov_2019['geslacht'], categories=['Man', 'Vrouw'])\n",
    "nov_2019['geslacht'] = nov_2019['geslacht'].cat.rename_categories({'Man': 'Male', 'Vrouw': 'Female'})\n",
    "nov_2019['geslacht'].dtypes"
   ]
  },
  {
   "source": [
    "apr_2020['geslacht'].value_counts(dropna=False)\n"
   ],
   "cell_type": "code",
   "metadata": {},
   "execution_count": 63,
   "outputs": [
    {
     "output_type": "execute_result",
     "data": {
      "text/plain": [
       "Male      56\n",
       "Female    50\n",
       "Name: geslacht, dtype: int64"
      ]
     },
     "metadata": {},
     "execution_count": 63
    }
   ]
  },
  {
   "cell_type": "code",
   "execution_count": 64,
   "metadata": {},
   "outputs": [
    {
     "output_type": "execute_result",
     "data": {
      "text/plain": [
       "Male      46\n",
       "Female    42\n",
       "Name: geslacht, dtype: int64"
      ]
     },
     "metadata": {},
     "execution_count": 64
    }
   ],
   "source": [
    "nov_2019['geslacht'].value_counts(dropna=False)"
   ]
  },
  {
   "source": [
    "## Rename variables\n",
    "\n",
    "We give the Dutch and partly cryptic variable names sensible identifiers. The `replace` method on DataFrames returns a new DataFrame, so we need to assign it to `nov_2019` again if we want to continue working with it.\n",
    "\n",
    "Note that this is a very stateful transformation if you assign to the same variable; you will not be able to successfully execute the cell twice without re-loading the data above."
   ],
   "cell_type": "markdown",
   "metadata": {}
  },
  {
   "cell_type": "code",
   "execution_count": 5,
   "metadata": {},
   "outputs": [],
   "source": [
    "nov_2019 = nov_2019.rename(\n",
    "    columns={\n",
    "        \"geslacht\": \"gender\",\n",
    "        \"v1q1_v1col1\": \"working_hours\",\n",
    "        \"v1q5_v1col1\": \"childcare_hours\",\n",
    "        \"nohouse_encr\": \"household_identifier\",\n",
    "        \"nomem_encr\": \"member_identifier\"\n",
    "    }\n",
    ")\n",
    "\n",
    "apr_2020 = apr_2020.rename(\n",
    "    columns={\n",
    "        \"geslacht\": \"gender\",\n",
    "        \"nohouse_encr\": \"hh_id\",\n",
    "        \"nomem_encr\": \"ind_id\",\n",
    "        \"v1q1_v1col1\": \"working_hours_workplace\",\n",
    "        \"v1q1a_v1col1\": \"working_hours_home_nokids\",\n",
    "        \"v1q1b_v1col1\": \"working_hours_home_whilekids\",\n",
    "        \"v1q1c_v1col1\": \"working_hours_home_while_no_kids\",\n",
    "        \"v1q5_v1col1\": \"childcare_hours_res\",\n",
    "        \"v1q5a_v1col1\": \"homeschool_hours\"        \n",
    "    }\n",
    ")"
   ]
  },
  {
   "source": [
    "Again view the dataframe to see if the changes applied."
   ],
   "cell_type": "markdown",
   "metadata": {}
  },
  {
   "cell_type": "code",
   "execution_count": 6,
   "metadata": {},
   "outputs": [
    {
     "output_type": "execute_result",
     "data": {
      "text/plain": [
       "   member_identifier gender  working_hours  childcare_hours  \\\n",
       "0          1687033.0    Man            0.0              2.0   \n",
       "1          1662353.0  Vrouw            9.0              0.0   \n",
       "2          1631191.0    Man           67.0              1.0   \n",
       "3          1687630.0  Vrouw           17.0              6.0   \n",
       "4          1746405.0    Man           40.0             12.0   \n",
       "\n",
       "   household_identifier  \n",
       "0             1049420.0  \n",
       "1             1049420.0  \n",
       "2             1011033.0  \n",
       "3             1011033.0  \n",
       "4             1047651.0  "
      ],
      "text/html": "<div>\n<style scoped>\n    .dataframe tbody tr th:only-of-type {\n        vertical-align: middle;\n    }\n\n    .dataframe tbody tr th {\n        vertical-align: top;\n    }\n\n    .dataframe thead th {\n        text-align: right;\n    }\n</style>\n<table border=\"1\" class=\"dataframe\">\n  <thead>\n    <tr style=\"text-align: right;\">\n      <th></th>\n      <th>member_identifier</th>\n      <th>gender</th>\n      <th>working_hours</th>\n      <th>childcare_hours</th>\n      <th>household_identifier</th>\n    </tr>\n  </thead>\n  <tbody>\n    <tr>\n      <th>0</th>\n      <td>1687033.0</td>\n      <td>Man</td>\n      <td>0.0</td>\n      <td>2.0</td>\n      <td>1049420.0</td>\n    </tr>\n    <tr>\n      <th>1</th>\n      <td>1662353.0</td>\n      <td>Vrouw</td>\n      <td>9.0</td>\n      <td>0.0</td>\n      <td>1049420.0</td>\n    </tr>\n    <tr>\n      <th>2</th>\n      <td>1631191.0</td>\n      <td>Man</td>\n      <td>67.0</td>\n      <td>1.0</td>\n      <td>1011033.0</td>\n    </tr>\n    <tr>\n      <th>3</th>\n      <td>1687630.0</td>\n      <td>Vrouw</td>\n      <td>17.0</td>\n      <td>6.0</td>\n      <td>1011033.0</td>\n    </tr>\n    <tr>\n      <th>4</th>\n      <td>1746405.0</td>\n      <td>Man</td>\n      <td>40.0</td>\n      <td>12.0</td>\n      <td>1047651.0</td>\n    </tr>\n  </tbody>\n</table>\n</div>"
     },
     "metadata": {},
     "execution_count": 6
    }
   ],
   "source": [
    "nov_2019.head()"
   ]
  },
  {
   "cell_type": "code",
   "execution_count": 9,
   "metadata": {},
   "outputs": [
    {
     "output_type": "execute_result",
     "data": {
      "text/plain": [
       "  gender  working_hours_workplace  working_hours_home_nokids  \\\n",
       "0    Man                      0.0                        NaN   \n",
       "1  Vrouw                      3.0                        NaN   \n",
       "2    Man                     47.0                        NaN   \n",
       "3  Vrouw                      8.0                        NaN   \n",
       "4    Man                     36.0                        NaN   \n",
       "\n",
       "   working_hours_home_whilekids  working_hours_home_while_no_kids  \\\n",
       "0                           0.0                               0.0   \n",
       "1                           0.0                               0.0   \n",
       "2                           4.0                               0.0   \n",
       "3                           0.0                               8.0   \n",
       "4                           0.0                               0.0   \n",
       "\n",
       "   childcare_hours_res  homeschool_hours    hh_id   ind_id  \n",
       "0                  0.0               0.0  1049420  1687033  \n",
       "1                  0.0               0.0  1049420  1662353  \n",
       "2                  4.0               0.0  1011033  1631191  \n",
       "3                  0.0               0.0  1011033  1687630  \n",
       "4                  0.0               0.0  1047651  1746405  "
      ],
      "text/html": "<div>\n<style scoped>\n    .dataframe tbody tr th:only-of-type {\n        vertical-align: middle;\n    }\n\n    .dataframe tbody tr th {\n        vertical-align: top;\n    }\n\n    .dataframe thead th {\n        text-align: right;\n    }\n</style>\n<table border=\"1\" class=\"dataframe\">\n  <thead>\n    <tr style=\"text-align: right;\">\n      <th></th>\n      <th>gender</th>\n      <th>working_hours_workplace</th>\n      <th>working_hours_home_nokids</th>\n      <th>working_hours_home_whilekids</th>\n      <th>working_hours_home_while_no_kids</th>\n      <th>childcare_hours_res</th>\n      <th>homeschool_hours</th>\n      <th>hh_id</th>\n      <th>ind_id</th>\n    </tr>\n  </thead>\n  <tbody>\n    <tr>\n      <th>0</th>\n      <td>Man</td>\n      <td>0.0</td>\n      <td>NaN</td>\n      <td>0.0</td>\n      <td>0.0</td>\n      <td>0.0</td>\n      <td>0.0</td>\n      <td>1049420</td>\n      <td>1687033</td>\n    </tr>\n    <tr>\n      <th>1</th>\n      <td>Vrouw</td>\n      <td>3.0</td>\n      <td>NaN</td>\n      <td>0.0</td>\n      <td>0.0</td>\n      <td>0.0</td>\n      <td>0.0</td>\n      <td>1049420</td>\n      <td>1662353</td>\n    </tr>\n    <tr>\n      <th>2</th>\n      <td>Man</td>\n      <td>47.0</td>\n      <td>NaN</td>\n      <td>4.0</td>\n      <td>0.0</td>\n      <td>4.0</td>\n      <td>0.0</td>\n      <td>1011033</td>\n      <td>1631191</td>\n    </tr>\n    <tr>\n      <th>3</th>\n      <td>Vrouw</td>\n      <td>8.0</td>\n      <td>NaN</td>\n      <td>0.0</td>\n      <td>8.0</td>\n      <td>0.0</td>\n      <td>0.0</td>\n      <td>1011033</td>\n      <td>1687630</td>\n    </tr>\n    <tr>\n      <th>4</th>\n      <td>Man</td>\n      <td>36.0</td>\n      <td>NaN</td>\n      <td>0.0</td>\n      <td>0.0</td>\n      <td>0.0</td>\n      <td>0.0</td>\n      <td>1047651</td>\n      <td>1746405</td>\n    </tr>\n  </tbody>\n</table>\n</div>"
     },
     "metadata": {},
     "execution_count": 9
    }
   ],
   "source": [
    "apr_2020.head()"
   ]
  },
  {
   "source": [
    "## Convert data types\n",
    "\n",
    "`nomem_encr` and `nohouse_encr` are classical identifiers. They can be used to identify a particular observation, but they do not carry any meaning beyond that.\n",
    "\n",
    "You have heard in the screencast that you should never use floating point numbers for identifiers. It is common that this happens in Stata, though (e.g., through use of `compress` or mathematical operations of integers, which do implicit type conversions unless you request an integer back).\n",
    "\n",
    "Add new columns `hh_id` and `ind_id` with sensible data types. \n"
   ],
   "cell_type": "markdown",
   "metadata": {}
  },
  {
   "cell_type": "code",
   "execution_count": 10,
   "metadata": {},
   "outputs": [],
   "source": [
    "# Converting a panda series by using astype():\n",
    "nov_2019[\"hh_id\"] = nov_2019[\"household_identifier\"].astype(int)\n",
    "nov_2019[\"ind_id\"] = nov_2019[\"member_identifier\"].astype(int)"
   ]
  },
  {
   "cell_type": "code",
   "execution_count": 11,
   "metadata": {},
   "outputs": [
    {
     "output_type": "execute_result",
     "data": {
      "text/plain": [
       "   member_identifier gender  working_hours  childcare_hours  \\\n",
       "0          1687033.0    Man            0.0              2.0   \n",
       "1          1662353.0  Vrouw            9.0              0.0   \n",
       "2          1631191.0    Man           67.0              1.0   \n",
       "3          1687630.0  Vrouw           17.0              6.0   \n",
       "4          1746405.0    Man           40.0             12.0   \n",
       "\n",
       "   household_identifier    hh_id   ind_id  \n",
       "0             1049420.0  1049420  1687033  \n",
       "1             1049420.0  1049420  1662353  \n",
       "2             1011033.0  1011033  1631191  \n",
       "3             1011033.0  1011033  1687630  \n",
       "4             1047651.0  1047651  1746405  "
      ],
      "text/html": "<div>\n<style scoped>\n    .dataframe tbody tr th:only-of-type {\n        vertical-align: middle;\n    }\n\n    .dataframe tbody tr th {\n        vertical-align: top;\n    }\n\n    .dataframe thead th {\n        text-align: right;\n    }\n</style>\n<table border=\"1\" class=\"dataframe\">\n  <thead>\n    <tr style=\"text-align: right;\">\n      <th></th>\n      <th>member_identifier</th>\n      <th>gender</th>\n      <th>working_hours</th>\n      <th>childcare_hours</th>\n      <th>household_identifier</th>\n      <th>hh_id</th>\n      <th>ind_id</th>\n    </tr>\n  </thead>\n  <tbody>\n    <tr>\n      <th>0</th>\n      <td>1687033.0</td>\n      <td>Man</td>\n      <td>0.0</td>\n      <td>2.0</td>\n      <td>1049420.0</td>\n      <td>1049420</td>\n      <td>1687033</td>\n    </tr>\n    <tr>\n      <th>1</th>\n      <td>1662353.0</td>\n      <td>Vrouw</td>\n      <td>9.0</td>\n      <td>0.0</td>\n      <td>1049420.0</td>\n      <td>1049420</td>\n      <td>1662353</td>\n    </tr>\n    <tr>\n      <th>2</th>\n      <td>1631191.0</td>\n      <td>Man</td>\n      <td>67.0</td>\n      <td>1.0</td>\n      <td>1011033.0</td>\n      <td>1011033</td>\n      <td>1631191</td>\n    </tr>\n    <tr>\n      <th>3</th>\n      <td>1687630.0</td>\n      <td>Vrouw</td>\n      <td>17.0</td>\n      <td>6.0</td>\n      <td>1011033.0</td>\n      <td>1011033</td>\n      <td>1687630</td>\n    </tr>\n    <tr>\n      <th>4</th>\n      <td>1746405.0</td>\n      <td>Man</td>\n      <td>40.0</td>\n      <td>12.0</td>\n      <td>1047651.0</td>\n      <td>1047651</td>\n      <td>1746405</td>\n    </tr>\n  </tbody>\n</table>\n</div>"
     },
     "metadata": {},
     "execution_count": 11
    }
   ],
   "source": [
    "# Again view the dataframe\n",
    "nov_2019.head()"
   ]
  },
  {
   "cell_type": "code",
   "execution_count": 13,
   "metadata": {},
   "outputs": [
    {
     "output_type": "execute_result",
     "data": {
      "text/plain": [
       "  gender  working_hours_workplace  working_hours_home_nokids  \\\n",
       "0    Man                      0.0                        NaN   \n",
       "1  Vrouw                      3.0                        NaN   \n",
       "2    Man                     47.0                        NaN   \n",
       "3  Vrouw                      8.0                        NaN   \n",
       "4    Man                     36.0                        NaN   \n",
       "\n",
       "   working_hours_home_whilekids  working_hours_home_while_no_kids  \\\n",
       "0                           0.0                               0.0   \n",
       "1                           0.0                               0.0   \n",
       "2                           4.0                               0.0   \n",
       "3                           0.0                               8.0   \n",
       "4                           0.0                               0.0   \n",
       "\n",
       "   childcare_hours_res  homeschool_hours    hh_id   ind_id  \n",
       "0                  0.0               0.0  1049420  1687033  \n",
       "1                  0.0               0.0  1049420  1662353  \n",
       "2                  4.0               0.0  1011033  1631191  \n",
       "3                  0.0               0.0  1011033  1687630  \n",
       "4                  0.0               0.0  1047651  1746405  "
      ],
      "text/html": "<div>\n<style scoped>\n    .dataframe tbody tr th:only-of-type {\n        vertical-align: middle;\n    }\n\n    .dataframe tbody tr th {\n        vertical-align: top;\n    }\n\n    .dataframe thead th {\n        text-align: right;\n    }\n</style>\n<table border=\"1\" class=\"dataframe\">\n  <thead>\n    <tr style=\"text-align: right;\">\n      <th></th>\n      <th>gender</th>\n      <th>working_hours_workplace</th>\n      <th>working_hours_home_nokids</th>\n      <th>working_hours_home_whilekids</th>\n      <th>working_hours_home_while_no_kids</th>\n      <th>childcare_hours_res</th>\n      <th>homeschool_hours</th>\n      <th>hh_id</th>\n      <th>ind_id</th>\n    </tr>\n  </thead>\n  <tbody>\n    <tr>\n      <th>0</th>\n      <td>Man</td>\n      <td>0.0</td>\n      <td>NaN</td>\n      <td>0.0</td>\n      <td>0.0</td>\n      <td>0.0</td>\n      <td>0.0</td>\n      <td>1049420</td>\n      <td>1687033</td>\n    </tr>\n    <tr>\n      <th>1</th>\n      <td>Vrouw</td>\n      <td>3.0</td>\n      <td>NaN</td>\n      <td>0.0</td>\n      <td>0.0</td>\n      <td>0.0</td>\n      <td>0.0</td>\n      <td>1049420</td>\n      <td>1662353</td>\n    </tr>\n    <tr>\n      <th>2</th>\n      <td>Man</td>\n      <td>47.0</td>\n      <td>NaN</td>\n      <td>4.0</td>\n      <td>0.0</td>\n      <td>4.0</td>\n      <td>0.0</td>\n      <td>1011033</td>\n      <td>1631191</td>\n    </tr>\n    <tr>\n      <th>3</th>\n      <td>Vrouw</td>\n      <td>8.0</td>\n      <td>NaN</td>\n      <td>0.0</td>\n      <td>8.0</td>\n      <td>0.0</td>\n      <td>0.0</td>\n      <td>1011033</td>\n      <td>1687630</td>\n    </tr>\n    <tr>\n      <th>4</th>\n      <td>Man</td>\n      <td>36.0</td>\n      <td>NaN</td>\n      <td>0.0</td>\n      <td>0.0</td>\n      <td>0.0</td>\n      <td>0.0</td>\n      <td>1047651</td>\n      <td>1746405</td>\n    </tr>\n  </tbody>\n</table>\n</div>"
     },
     "metadata": {},
     "execution_count": 13
    }
   ],
   "source": [
    "apr_2020.head()"
   ]
  },
  {
   "source": [
    "## Select columns\n",
    "\n",
    "We do not need to keep the old identifiers anymore.\n",
    "\n",
    "You can select a subset of columns by including a list of column names in the standard square brackets used for indexing in Python.\n",
    "\n",
    "Replace the XXXX and YYYY appropriately and include all other variables that you want to keep."
   ],
   "cell_type": "markdown",
   "metadata": {}
  },
  {
   "cell_type": "code",
   "execution_count": 14,
   "metadata": {},
   "outputs": [
    {
     "output_type": "execute_result",
     "data": {
      "text/plain": [
       "array(['member_identifier', 'gender', 'working_hours', 'childcare_hours',\n",
       "       'household_identifier', 'hh_id', 'ind_id'], dtype=object)"
      ]
     },
     "metadata": {},
     "execution_count": 14
    }
   ],
   "source": [
    "# Displaying columns' name:\n",
    "nov_2019.columns.values"
   ]
  },
  {
   "cell_type": "code",
   "execution_count": 15,
   "metadata": {},
   "outputs": [],
   "source": [
    "nov_2019 = nov_2019[['hh_id', 'ind_id', \"gender\", \"working_hours\", \"childcare_hours\"]]"
   ]
  },
  {
   "cell_type": "code",
   "execution_count": 16,
   "metadata": {},
   "outputs": [
    {
     "output_type": "execute_result",
     "data": {
      "text/plain": [
       "     hh_id   ind_id gender  working_hours  childcare_hours\n",
       "0  1049420  1687033    Man            0.0              2.0\n",
       "1  1049420  1662353  Vrouw            9.0              0.0\n",
       "2  1011033  1631191    Man           67.0              1.0\n",
       "3  1011033  1687630  Vrouw           17.0              6.0\n",
       "4  1047651  1746405    Man           40.0             12.0"
      ],
      "text/html": "<div>\n<style scoped>\n    .dataframe tbody tr th:only-of-type {\n        vertical-align: middle;\n    }\n\n    .dataframe tbody tr th {\n        vertical-align: top;\n    }\n\n    .dataframe thead th {\n        text-align: right;\n    }\n</style>\n<table border=\"1\" class=\"dataframe\">\n  <thead>\n    <tr style=\"text-align: right;\">\n      <th></th>\n      <th>hh_id</th>\n      <th>ind_id</th>\n      <th>gender</th>\n      <th>working_hours</th>\n      <th>childcare_hours</th>\n    </tr>\n  </thead>\n  <tbody>\n    <tr>\n      <th>0</th>\n      <td>1049420</td>\n      <td>1687033</td>\n      <td>Man</td>\n      <td>0.0</td>\n      <td>2.0</td>\n    </tr>\n    <tr>\n      <th>1</th>\n      <td>1049420</td>\n      <td>1662353</td>\n      <td>Vrouw</td>\n      <td>9.0</td>\n      <td>0.0</td>\n    </tr>\n    <tr>\n      <th>2</th>\n      <td>1011033</td>\n      <td>1631191</td>\n      <td>Man</td>\n      <td>67.0</td>\n      <td>1.0</td>\n    </tr>\n    <tr>\n      <th>3</th>\n      <td>1011033</td>\n      <td>1687630</td>\n      <td>Vrouw</td>\n      <td>17.0</td>\n      <td>6.0</td>\n    </tr>\n    <tr>\n      <th>4</th>\n      <td>1047651</td>\n      <td>1746405</td>\n      <td>Man</td>\n      <td>40.0</td>\n      <td>12.0</td>\n    </tr>\n  </tbody>\n</table>\n</div>"
     },
     "metadata": {},
     "execution_count": 16
    }
   ],
   "source": [
    "nov_2019.head()"
   ]
  },
  {
   "source": [
    "## Set index\n",
    "\n",
    "The default index created by Pandas (a DataFrame always has an index) does not make much sense.\n",
    "\n",
    "Create an index based on a column / several columns that makes sense to you via replacing the XXXX by an appropriate construct."
   ],
   "cell_type": "markdown",
   "metadata": {}
  },
  {
   "cell_type": "code",
   "execution_count": 19,
   "metadata": {},
   "outputs": [],
   "source": [
    "nov_2019_with_index = nov_2019.set_index(['hh_id', 'ind_id'])\n",
    "apr_2020_with_index = apr_2020.set_index(['hh_id', 'ind_id'])"
   ]
  },
  {
   "cell_type": "code",
   "execution_count": 20,
   "metadata": {},
   "outputs": [
    {
     "output_type": "execute_result",
     "data": {
      "text/plain": [
       "                gender  working_hours  childcare_hours\n",
       "hh_id   ind_id                                        \n",
       "1049420 1687033    Man            0.0              2.0\n",
       "        1662353  Vrouw            9.0              0.0\n",
       "1011033 1631191    Man           67.0              1.0\n",
       "        1687630  Vrouw           17.0              6.0\n",
       "1047651 1746405    Man           40.0             12.0\n",
       "        1712561  Vrouw            0.0             40.0\n",
       "1059082 1755058    Man           32.0              8.0\n",
       "        1703625  Vrouw            0.0             40.0\n",
       "1032991 1660073    Man           40.0             20.0\n",
       "        1679690  Vrouw            0.0              0.0"
      ],
      "text/html": "<div>\n<style scoped>\n    .dataframe tbody tr th:only-of-type {\n        vertical-align: middle;\n    }\n\n    .dataframe tbody tr th {\n        vertical-align: top;\n    }\n\n    .dataframe thead th {\n        text-align: right;\n    }\n</style>\n<table border=\"1\" class=\"dataframe\">\n  <thead>\n    <tr style=\"text-align: right;\">\n      <th></th>\n      <th></th>\n      <th>gender</th>\n      <th>working_hours</th>\n      <th>childcare_hours</th>\n    </tr>\n    <tr>\n      <th>hh_id</th>\n      <th>ind_id</th>\n      <th></th>\n      <th></th>\n      <th></th>\n    </tr>\n  </thead>\n  <tbody>\n    <tr>\n      <th rowspan=\"2\" valign=\"top\">1049420</th>\n      <th>1687033</th>\n      <td>Man</td>\n      <td>0.0</td>\n      <td>2.0</td>\n    </tr>\n    <tr>\n      <th>1662353</th>\n      <td>Vrouw</td>\n      <td>9.0</td>\n      <td>0.0</td>\n    </tr>\n    <tr>\n      <th rowspan=\"2\" valign=\"top\">1011033</th>\n      <th>1631191</th>\n      <td>Man</td>\n      <td>67.0</td>\n      <td>1.0</td>\n    </tr>\n    <tr>\n      <th>1687630</th>\n      <td>Vrouw</td>\n      <td>17.0</td>\n      <td>6.0</td>\n    </tr>\n    <tr>\n      <th rowspan=\"2\" valign=\"top\">1047651</th>\n      <th>1746405</th>\n      <td>Man</td>\n      <td>40.0</td>\n      <td>12.0</td>\n    </tr>\n    <tr>\n      <th>1712561</th>\n      <td>Vrouw</td>\n      <td>0.0</td>\n      <td>40.0</td>\n    </tr>\n    <tr>\n      <th rowspan=\"2\" valign=\"top\">1059082</th>\n      <th>1755058</th>\n      <td>Man</td>\n      <td>32.0</td>\n      <td>8.0</td>\n    </tr>\n    <tr>\n      <th>1703625</th>\n      <td>Vrouw</td>\n      <td>0.0</td>\n      <td>40.0</td>\n    </tr>\n    <tr>\n      <th rowspan=\"2\" valign=\"top\">1032991</th>\n      <th>1660073</th>\n      <td>Man</td>\n      <td>40.0</td>\n      <td>20.0</td>\n    </tr>\n    <tr>\n      <th>1679690</th>\n      <td>Vrouw</td>\n      <td>0.0</td>\n      <td>0.0</td>\n    </tr>\n  </tbody>\n</table>\n</div>"
     },
     "metadata": {},
     "execution_count": 20
    }
   ],
   "source": [
    "nov_2019_with_index.head(10)"
   ]
  },
  {
   "cell_type": "code",
   "execution_count": 22,
   "metadata": {},
   "outputs": [
    {
     "output_type": "execute_result",
     "data": {
      "text/plain": [
       "                gender  working_hours_workplace  working_hours_home_nokids  \\\n",
       "hh_id   ind_id                                                               \n",
       "1049420 1687033    Man                      0.0                        NaN   \n",
       "        1662353  Vrouw                      3.0                        NaN   \n",
       "1011033 1631191    Man                     47.0                        NaN   \n",
       "        1687630  Vrouw                      8.0                        NaN   \n",
       "1047651 1746405    Man                     36.0                        NaN   \n",
       "        1712561  Vrouw                      0.0                        NaN   \n",
       "1059082 1703625  Vrouw                      0.0                        NaN   \n",
       "        1755058    Man                      0.0                        NaN   \n",
       "1032311 1705264    Man                     40.0                        NaN   \n",
       "1050449 1738962    Man                      0.0                        NaN   \n",
       "\n",
       "                 working_hours_home_whilekids  \\\n",
       "hh_id   ind_id                                  \n",
       "1049420 1687033                           0.0   \n",
       "        1662353                           0.0   \n",
       "1011033 1631191                           4.0   \n",
       "        1687630                           0.0   \n",
       "1047651 1746405                           0.0   \n",
       "        1712561                           0.0   \n",
       "1059082 1703625                           1.0   \n",
       "        1755058                           0.0   \n",
       "1032311 1705264                          50.0   \n",
       "1050449 1738962                           0.0   \n",
       "\n",
       "                 working_hours_home_while_no_kids  childcare_hours_res  \\\n",
       "hh_id   ind_id                                                           \n",
       "1049420 1687033                               0.0                  0.0   \n",
       "        1662353                               0.0                  0.0   \n",
       "1011033 1631191                               0.0                  4.0   \n",
       "        1687630                               8.0                  0.0   \n",
       "1047651 1746405                               0.0                  0.0   \n",
       "        1712561                               0.0                  0.0   \n",
       "1059082 1703625                              17.0                 20.0   \n",
       "        1755058                               0.0                  5.0   \n",
       "1032311 1705264                              50.0                 10.0   \n",
       "1050449 1738962                              38.0                  0.0   \n",
       "\n",
       "                 homeschool_hours  \n",
       "hh_id   ind_id                     \n",
       "1049420 1687033               0.0  \n",
       "        1662353               0.0  \n",
       "1011033 1631191               0.0  \n",
       "        1687630               0.0  \n",
       "1047651 1746405               0.0  \n",
       "        1712561               0.0  \n",
       "1059082 1703625              20.0  \n",
       "        1755058               5.0  \n",
       "1032311 1705264               0.0  \n",
       "1050449 1738962               0.0  "
      ],
      "text/html": "<div>\n<style scoped>\n    .dataframe tbody tr th:only-of-type {\n        vertical-align: middle;\n    }\n\n    .dataframe tbody tr th {\n        vertical-align: top;\n    }\n\n    .dataframe thead th {\n        text-align: right;\n    }\n</style>\n<table border=\"1\" class=\"dataframe\">\n  <thead>\n    <tr style=\"text-align: right;\">\n      <th></th>\n      <th></th>\n      <th>gender</th>\n      <th>working_hours_workplace</th>\n      <th>working_hours_home_nokids</th>\n      <th>working_hours_home_whilekids</th>\n      <th>working_hours_home_while_no_kids</th>\n      <th>childcare_hours_res</th>\n      <th>homeschool_hours</th>\n    </tr>\n    <tr>\n      <th>hh_id</th>\n      <th>ind_id</th>\n      <th></th>\n      <th></th>\n      <th></th>\n      <th></th>\n      <th></th>\n      <th></th>\n      <th></th>\n    </tr>\n  </thead>\n  <tbody>\n    <tr>\n      <th rowspan=\"2\" valign=\"top\">1049420</th>\n      <th>1687033</th>\n      <td>Man</td>\n      <td>0.0</td>\n      <td>NaN</td>\n      <td>0.0</td>\n      <td>0.0</td>\n      <td>0.0</td>\n      <td>0.0</td>\n    </tr>\n    <tr>\n      <th>1662353</th>\n      <td>Vrouw</td>\n      <td>3.0</td>\n      <td>NaN</td>\n      <td>0.0</td>\n      <td>0.0</td>\n      <td>0.0</td>\n      <td>0.0</td>\n    </tr>\n    <tr>\n      <th rowspan=\"2\" valign=\"top\">1011033</th>\n      <th>1631191</th>\n      <td>Man</td>\n      <td>47.0</td>\n      <td>NaN</td>\n      <td>4.0</td>\n      <td>0.0</td>\n      <td>4.0</td>\n      <td>0.0</td>\n    </tr>\n    <tr>\n      <th>1687630</th>\n      <td>Vrouw</td>\n      <td>8.0</td>\n      <td>NaN</td>\n      <td>0.0</td>\n      <td>8.0</td>\n      <td>0.0</td>\n      <td>0.0</td>\n    </tr>\n    <tr>\n      <th rowspan=\"2\" valign=\"top\">1047651</th>\n      <th>1746405</th>\n      <td>Man</td>\n      <td>36.0</td>\n      <td>NaN</td>\n      <td>0.0</td>\n      <td>0.0</td>\n      <td>0.0</td>\n      <td>0.0</td>\n    </tr>\n    <tr>\n      <th>1712561</th>\n      <td>Vrouw</td>\n      <td>0.0</td>\n      <td>NaN</td>\n      <td>0.0</td>\n      <td>0.0</td>\n      <td>0.0</td>\n      <td>0.0</td>\n    </tr>\n    <tr>\n      <th rowspan=\"2\" valign=\"top\">1059082</th>\n      <th>1703625</th>\n      <td>Vrouw</td>\n      <td>0.0</td>\n      <td>NaN</td>\n      <td>1.0</td>\n      <td>17.0</td>\n      <td>20.0</td>\n      <td>20.0</td>\n    </tr>\n    <tr>\n      <th>1755058</th>\n      <td>Man</td>\n      <td>0.0</td>\n      <td>NaN</td>\n      <td>0.0</td>\n      <td>0.0</td>\n      <td>5.0</td>\n      <td>5.0</td>\n    </tr>\n    <tr>\n      <th>1032311</th>\n      <th>1705264</th>\n      <td>Man</td>\n      <td>40.0</td>\n      <td>NaN</td>\n      <td>50.0</td>\n      <td>50.0</td>\n      <td>10.0</td>\n      <td>0.0</td>\n    </tr>\n    <tr>\n      <th>1050449</th>\n      <th>1738962</th>\n      <td>Man</td>\n      <td>0.0</td>\n      <td>NaN</td>\n      <td>0.0</td>\n      <td>38.0</td>\n      <td>0.0</td>\n      <td>0.0</td>\n    </tr>\n  </tbody>\n</table>\n</div>"
     },
     "metadata": {},
     "execution_count": 22
    }
   ],
   "source": [
    "apr_2020_with_index.head(10)"
   ]
  },
  {
   "source": [
    "## Our first reduction operation\n",
    "\n",
    "Calculate the mean hours spent on different activities."
   ],
   "cell_type": "markdown",
   "metadata": {}
  },
  {
   "cell_type": "code",
   "execution_count": 70,
   "metadata": {},
   "outputs": [],
   "source": [
    "# Define an average() function (I'm surprised there's no built-in)\n",
    "def average(list):\n",
    "    \"\"\"Returns the average of a list.\n",
    "\n",
    "    Args:\n",
    "        list (interable): a list of numbers\n",
    "    \n",
    "    Returns:\n",
    "        float: the average of the list of numbers\n",
    "    \"\"\"\n",
    "    \n",
    "    out = sum(list) / len(list)\n",
    "    return out "
   ]
  },
  {
   "cell_type": "code",
   "execution_count": 74,
   "metadata": {},
   "outputs": [
    {
     "output_type": "stream",
     "name": "stdout",
     "text": [
      "Mean working hours in Nov 2019 is: 17.988636363636363\nand it should be the same as the results from the self-defined function. Indeed, here's the output: \n17.988636363636363\n"
     ]
    }
   ],
   "source": [
    "# Use the built-in one from statistics:\n",
    "print(\"Mean working hours in Nov 2019 is: \", end=\"\")\n",
    "print(mean(nov_2019['working_hours']))\n",
    "\n",
    "# And from the self-defined one:\n",
    "print(\"and it should be the same as the results from the self-defined function. Indeed, here's the output: \")\n",
    "print(average(nov_2019['working_hours']))"
   ]
  },
  {
   "source": [
    "## Our second reduction operation\n",
    "\n",
    "Calculate the mean hours spent on different activities by gender by appending the following with the appropriate method to calculate a mean."
   ],
   "cell_type": "markdown",
   "metadata": {}
  },
  {
   "cell_type": "code",
   "execution_count": 76,
   "metadata": {},
   "outputs": [
    {
     "output_type": "execute_result",
     "data": {
      "text/plain": [
       "        working_hours  childcare_hours\n",
       "gender                                \n",
       "Man         23.434783         7.315789\n",
       "Vrouw       12.023810        18.263158"
      ],
      "text/html": "<div>\n<style scoped>\n    .dataframe tbody tr th:only-of-type {\n        vertical-align: middle;\n    }\n\n    .dataframe tbody tr th {\n        vertical-align: top;\n    }\n\n    .dataframe thead th {\n        text-align: right;\n    }\n</style>\n<table border=\"1\" class=\"dataframe\">\n  <thead>\n    <tr style=\"text-align: right;\">\n      <th></th>\n      <th>working_hours</th>\n      <th>childcare_hours</th>\n    </tr>\n    <tr>\n      <th>gender</th>\n      <th></th>\n      <th></th>\n    </tr>\n  </thead>\n  <tbody>\n    <tr>\n      <th>Man</th>\n      <td>23.434783</td>\n      <td>7.315789</td>\n    </tr>\n    <tr>\n      <th>Vrouw</th>\n      <td>12.023810</td>\n      <td>18.263158</td>\n    </tr>\n  </tbody>\n</table>\n</div>"
     },
     "metadata": {},
     "execution_count": 76
    }
   ],
   "source": [
    "nov_2019.groupby(\"gender\")[[\"working_hours\", \"childcare_hours\"]].mean()"
   ]
  },
  {
   "cell_type": "code",
   "execution_count": null,
   "metadata": {},
   "outputs": [],
   "source": []
  }
 ],
 "metadata": {
  "kernelspec": {
   "display_name": "Python 3",
   "language": "python",
   "name": "python3"
  },
  "language_info": {
   "codemirror_mode": {
    "name": "ipython",
    "version": 3
   },
   "file_extension": ".py",
   "mimetype": "text/x-python",
   "name": "python",
   "nbconvert_exporter": "python",
   "pygments_lexer": "ipython3",
   "version": "3.7.1-final"
  }
 },
 "nbformat": 4,
 "nbformat_minor": 4
}
