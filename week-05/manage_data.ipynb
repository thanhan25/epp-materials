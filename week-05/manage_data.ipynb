{
 "cells": [
  {
   "cell_type": "markdown",
   "metadata": {},
   "source": [
    "# Preparation for class in week 5\n",
    "\n",
    "\n",
    "Our example is inspired by the Dutch LISS data, in particular the waves on Time Use and consumption in November 2019 and in April 2020. \n",
    "\n",
    "In particular, the data contain the following variables, alphabetically sorted:\n",
    "\n",
    "| Variable     | Content                                                           |\n",
    "|:-------------|:------------------------------------------------------------      |\n",
    "| geslacht     | Gender (Man: Male, Vrouw: Female)                                 |\n",
    "| nohouse_encr | Household identifier                                              |\n",
    "| nomem_encr   | Member identifier                                                 |\n",
    "| v1q1_v1col1  | Working hours (Nov) / Working hours at workplace (Apr)            |\n",
    "| v1q1a_v1col1 | Working hours in home office, no kids in HH (Apr)                 |\n",
    "| v1q1b_v1col1 | Working hours in home office while responsible for kids (Apr)     |\n",
    "| v1q1c_v1col1 | Working hours in home office while not responsible for kids (Apr) |\n",
    "| v1q5_v1col1  | Childcare hours (all in Nov, residual in Apr)                     |\n",
    "| v1q5a_v1col1 | Homeschooling hours (Apr)                                         |\n",
    "\n",
    "\n",
    "In this exercise, we will only work with the November data.\n",
    "\n",
    "We start by importing Pandas"
   ]
  },
  {
   "cell_type": "code",
   "execution_count": null,
   "metadata": {},
   "outputs": [],
   "source": [
    "import pandas as pd"
   ]
  },
  {
   "cell_type": "markdown",
   "metadata": {},
   "source": [
    "## Read in the data\n",
    "\n",
    "The November data is stored in Stata format. Replace the `XXXXX` in the next cell by the appropriate Pandas function."
   ]
  },
  {
   "cell_type": "code",
   "execution_count": null,
   "metadata": {},
   "outputs": [],
   "source": [
    "nov_2019 = pd.read_stata(\"time_use_2019-11.dta\", convert_categoricals=True)"
   ]
  },
  {
   "source": [
    "## Browse the data\n",
    "\n",
    "You can browse through the data by just typing the name of a DataFrame as the last thing in a cell.\n",
    "\n",
    "This will yield a nice html-formatted output. Use this to find out the difference between setting `convert_categoricals` to `True` or `False` in the call above. In case you know some Stata: Can you explain what is happening? Else don't worry about the reasons behind what is going on.\n"
   ],
   "cell_type": "markdown",
   "metadata": {}
  },
  {
   "cell_type": "code",
   "execution_count": null,
   "metadata": {},
   "outputs": [],
   "source": [
    "nov_2019"
   ]
  },
  {
   "source": [
    "## Rename variables\n",
    "\n",
    "We give the Dutch and partly cryptic variable names sensible identifiers. The `replace` method on DataFrames returns a new DataFrame, so we need to assign it to `nov_2019` again if we want to continue working with it.\n",
    "\n",
    "Note that this is a very stateful transformation if you assign to the same variable; you will not be able to successfully execute the cell twice without re-loading the data above."
   ],
   "cell_type": "markdown",
   "metadata": {}
  },
  {
   "cell_type": "code",
   "execution_count": null,
   "metadata": {},
   "outputs": [],
   "source": [
    "nov_2019 = nov_2019.rename(\n",
    "    columns={\n",
    "        \"geslacht\": \"gender\",\n",
    "        \"v1q1_v1col1\": \"working_hours\",\n",
    "        \"v1q5_v1col1\": \"childcare_hours\",\n",
    "    }\n",
    ")"
   ]
  },
  {
   "source": [
    "## Convert data types\n",
    "\n",
    "`nomem_encr` and `nohouse_encr` are classical identifiers. They can be used to identify a particular observation, but they do not carry any meaning beyond that.\n",
    "\n",
    "You have heard in the screencast that you should never use floating point numbers for identifiers. It is common that this happens in Stata, though (e.g., through use of `compress` or mathematical operations of integers, which do implicit type conversions unless you request an integer back).\n",
    "\n",
    "Add new columns `hh_id` and `ind_id` with sensible data types. \n"
   ],
   "cell_type": "markdown",
   "metadata": {}
  },
  {
   "cell_type": "code",
   "execution_count": null,
   "metadata": {},
   "outputs": [],
   "source": [
    "nov_2019[\"hh_id\"] = ..."
   ]
  },
  {
   "source": [
    "## Select columns\n",
    "\n",
    "We do not need to keep the old identifiers anymore.\n",
    "\n",
    "You can select a subset of columns by including a list of column names in the standard square brackets used for indexing in Python.\n",
    "\n",
    "Replace the XXXX and YYYY appropriately and include all other variables that you want to keep."
   ],
   "cell_type": "markdown",
   "metadata": {}
  },
  {
   "cell_type": "code",
   "execution_count": null,
   "metadata": {},
   "outputs": [],
   "source": [
    "nov_2019 = nov_2019[[\"XXXX\", \"YYYY\"]]"
   ]
  },
  {
   "source": [
    "## Set index\n",
    "\n",
    "The default index created by Pandas (a DataFrame always has an index) does not make much sense.\n",
    "\n",
    "Create an index based on a column / several columns that makes sense to you via replacing the XXXX by an appropriate construct."
   ],
   "cell_type": "markdown",
   "metadata": {}
  },
  {
   "cell_type": "code",
   "execution_count": null,
   "metadata": {},
   "outputs": [],
   "source": [
    "nov_2019_with_index = nov_2019.set_index(XXXX)"
   ]
  },
  {
   "source": [
    "## Our first reduction operation\n",
    "\n",
    "Calculate the mean hours spent on different activities."
   ],
   "cell_type": "markdown",
   "metadata": {}
  },
  {
   "cell_type": "code",
   "execution_count": null,
   "metadata": {},
   "outputs": [],
   "source": []
  },
  {
   "source": [
    "## Our second reduction operation\n",
    "\n",
    "Calculate the mean hours spent on different activities by gender by appending the following with the appropriate method to calculate a mean."
   ],
   "cell_type": "markdown",
   "metadata": {}
  },
  {
   "cell_type": "code",
   "execution_count": null,
   "metadata": {},
   "outputs": [],
   "source": [
    "nov_2019.groupby(\"gender\")[[\"working_hours\", \"childcare_hours\"]]"
   ]
  },
  {
   "cell_type": "code",
   "execution_count": null,
   "metadata": {},
   "outputs": [],
   "source": []
  }
 ],
 "metadata": {
  "kernelspec": {
   "display_name": "Python 3",
   "language": "python",
   "name": "python3"
  },
  "language_info": {
   "codemirror_mode": {
    "name": "ipython",
    "version": 3
   },
   "file_extension": ".py",
   "mimetype": "text/x-python",
   "name": "python",
   "nbconvert_exporter": "python",
   "pygments_lexer": "ipython3",
   "version": "3.8.6-final"
  }
 },
 "nbformat": 4,
 "nbformat_minor": 4
}