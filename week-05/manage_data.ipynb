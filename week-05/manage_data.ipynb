{
 "cells": [
  {
   "source": [
    "# Preparation for class in week 5\n",
    "\n",
    "\n",
    "Our example is inspired by the Dutch LISS data, in particular the waves on Time Use and consumption in November 2019 and in April 2020. \n",
    "\n",
    "In particular, the data contain the following variables, alphabetically sorted:\n",
    "\n",
    "| Variable     | Content                                                           |\n",
    "|:-------------|:------------------------------------------------------------      |\n",
    "| geslacht     | Gender (Man: Male, Vrouw: Female)                                 |\n",
    "| nohouse_encr | Household identifier                                              |\n",
    "| nomem_encr   | Member identifier                                                 |\n",
    "| v1q1_v1col1  | Working hours (Nov) / Working hours at workplace (Apr)            |\n",
    "| v1q1a_v1col1 | Working hours in home office, no kids in HH (Apr)                 |\n",
    "| v1q1b_v1col1 | Working hours in home office while responsible for kids (Apr)     |\n",
    "| v1q1c_v1col1 | Working hours in home office while not responsible for kids (Apr) |\n",
    "| v1q5_v1col1  | Childcare hours (all in Nov, residual in Apr)                     |\n",
    "| v1q5a_v1col1 | Homeschooling hours (Apr)                                         |\n",
    "\n",
    "\n",
    "In this exercise, we will only work with the November data.\n",
    "\n",
    "We start by importing Pandas"
   ],
   "cell_type": "markdown",
   "metadata": {}
  },
  {
   "cell_type": "code",
   "execution_count": 601,
   "metadata": {},
   "outputs": [],
   "source": [
    "import pandas as pd\n",
    "import numpy as np\n",
    "from functools import reduce\n",
    "from statistics import mean"
   ]
  },
  {
   "cell_type": "markdown",
   "metadata": {},
   "source": [
    "## Read in the data\n",
    "\n",
    "The November data is stored in Stata format. Replace the `XXXXX` in the next cell by the appropriate Pandas function."
   ]
  },
  {
   "cell_type": "code",
   "execution_count": 602,
   "metadata": {},
   "outputs": [],
   "source": [
    "nov_2019 = pd.read_stata(\"time_use_2019-11.dta\", convert_categoricals=True)\n",
    "apr_2020 = pd.read_csv(\"time_use_2020-04.csv\")"
   ]
  },
  {
   "source": [
    "## Browse the data\n",
    "\n",
    "You can browse through the data by just typing the name of a DataFrame as the last thing in a cell.\n",
    "\n",
    "This will yield a nice html-formatted output. Use this to find out the difference between setting `convert_categoricals` to `True` or `False` in the call above. In case you know some Stata: Can you explain what is happening? Else don't worry about the reasons behind what is going on.\n"
   ],
   "cell_type": "markdown",
   "metadata": {}
  },
  {
   "source": [
    "When convert_categoricals=True then the gender column displays Man and Vroww. When False it displays 1 and 0.\n",
    "I do not know the reason but it seems self-explanatory."
   ],
   "cell_type": "markdown",
   "metadata": {}
  },
  {
   "cell_type": "code",
   "execution_count": 603,
   "metadata": {},
   "outputs": [
    {
     "output_type": "execute_result",
     "data": {
      "text/plain": [
       "   nomem_encr geslacht  v1q1_v1col1  v1q5_v1col1  nohouse_encr\n",
       "0   1687033.0      Man          0.0          2.0     1049420.0\n",
       "1   1662353.0    Vrouw          9.0          0.0     1049420.0\n",
       "2   1631191.0      Man         67.0          1.0     1011033.0\n",
       "3   1687630.0    Vrouw         17.0          6.0     1011033.0\n",
       "4   1746405.0      Man         40.0         12.0     1047651.0"
      ],
      "text/html": "<div>\n<style scoped>\n    .dataframe tbody tr th:only-of-type {\n        vertical-align: middle;\n    }\n\n    .dataframe tbody tr th {\n        vertical-align: top;\n    }\n\n    .dataframe thead th {\n        text-align: right;\n    }\n</style>\n<table border=\"1\" class=\"dataframe\">\n  <thead>\n    <tr style=\"text-align: right;\">\n      <th></th>\n      <th>nomem_encr</th>\n      <th>geslacht</th>\n      <th>v1q1_v1col1</th>\n      <th>v1q5_v1col1</th>\n      <th>nohouse_encr</th>\n    </tr>\n  </thead>\n  <tbody>\n    <tr>\n      <th>0</th>\n      <td>1687033.0</td>\n      <td>Man</td>\n      <td>0.0</td>\n      <td>2.0</td>\n      <td>1049420.0</td>\n    </tr>\n    <tr>\n      <th>1</th>\n      <td>1662353.0</td>\n      <td>Vrouw</td>\n      <td>9.0</td>\n      <td>0.0</td>\n      <td>1049420.0</td>\n    </tr>\n    <tr>\n      <th>2</th>\n      <td>1631191.0</td>\n      <td>Man</td>\n      <td>67.0</td>\n      <td>1.0</td>\n      <td>1011033.0</td>\n    </tr>\n    <tr>\n      <th>3</th>\n      <td>1687630.0</td>\n      <td>Vrouw</td>\n      <td>17.0</td>\n      <td>6.0</td>\n      <td>1011033.0</td>\n    </tr>\n    <tr>\n      <th>4</th>\n      <td>1746405.0</td>\n      <td>Man</td>\n      <td>40.0</td>\n      <td>12.0</td>\n      <td>1047651.0</td>\n    </tr>\n  </tbody>\n</table>\n</div>"
     },
     "metadata": {},
     "execution_count": 603
    }
   ],
   "source": [
    "nov_2019.head()"
   ]
  },
  {
   "cell_type": "code",
   "execution_count": 604,
   "metadata": {},
   "outputs": [
    {
     "output_type": "execute_result",
     "data": {
      "text/plain": [
       "  geslacht  v1q1_v1col1  v1q1a_v1col1  v1q1b_v1col1  v1q1c_v1col1  \\\n",
       "0      Man          0.0           NaN           0.0           0.0   \n",
       "1    Vrouw          3.0           NaN           0.0           0.0   \n",
       "2      Man         47.0           NaN           4.0           0.0   \n",
       "3    Vrouw          8.0           NaN           0.0           8.0   \n",
       "4      Man         36.0           NaN           0.0           0.0   \n",
       "\n",
       "   v1q5_v1col1  v1q5a_v1col1  nohouse_encr  nomem_encr  \n",
       "0          0.0           0.0       1049420     1687033  \n",
       "1          0.0           0.0       1049420     1662353  \n",
       "2          4.0           0.0       1011033     1631191  \n",
       "3          0.0           0.0       1011033     1687630  \n",
       "4          0.0           0.0       1047651     1746405  "
      ],
      "text/html": "<div>\n<style scoped>\n    .dataframe tbody tr th:only-of-type {\n        vertical-align: middle;\n    }\n\n    .dataframe tbody tr th {\n        vertical-align: top;\n    }\n\n    .dataframe thead th {\n        text-align: right;\n    }\n</style>\n<table border=\"1\" class=\"dataframe\">\n  <thead>\n    <tr style=\"text-align: right;\">\n      <th></th>\n      <th>geslacht</th>\n      <th>v1q1_v1col1</th>\n      <th>v1q1a_v1col1</th>\n      <th>v1q1b_v1col1</th>\n      <th>v1q1c_v1col1</th>\n      <th>v1q5_v1col1</th>\n      <th>v1q5a_v1col1</th>\n      <th>nohouse_encr</th>\n      <th>nomem_encr</th>\n    </tr>\n  </thead>\n  <tbody>\n    <tr>\n      <th>0</th>\n      <td>Man</td>\n      <td>0.0</td>\n      <td>NaN</td>\n      <td>0.0</td>\n      <td>0.0</td>\n      <td>0.0</td>\n      <td>0.0</td>\n      <td>1049420</td>\n      <td>1687033</td>\n    </tr>\n    <tr>\n      <th>1</th>\n      <td>Vrouw</td>\n      <td>3.0</td>\n      <td>NaN</td>\n      <td>0.0</td>\n      <td>0.0</td>\n      <td>0.0</td>\n      <td>0.0</td>\n      <td>1049420</td>\n      <td>1662353</td>\n    </tr>\n    <tr>\n      <th>2</th>\n      <td>Man</td>\n      <td>47.0</td>\n      <td>NaN</td>\n      <td>4.0</td>\n      <td>0.0</td>\n      <td>4.0</td>\n      <td>0.0</td>\n      <td>1011033</td>\n      <td>1631191</td>\n    </tr>\n    <tr>\n      <th>3</th>\n      <td>Vrouw</td>\n      <td>8.0</td>\n      <td>NaN</td>\n      <td>0.0</td>\n      <td>8.0</td>\n      <td>0.0</td>\n      <td>0.0</td>\n      <td>1011033</td>\n      <td>1687630</td>\n    </tr>\n    <tr>\n      <th>4</th>\n      <td>Man</td>\n      <td>36.0</td>\n      <td>NaN</td>\n      <td>0.0</td>\n      <td>0.0</td>\n      <td>0.0</td>\n      <td>0.0</td>\n      <td>1047651</td>\n      <td>1746405</td>\n    </tr>\n  </tbody>\n</table>\n</div>"
     },
     "metadata": {},
     "execution_count": 604
    }
   ],
   "source": [
    "apr_2020.head()"
   ]
  },
  {
   "source": [
    "### Make sure all the columns have a sensible data type (try: apr_2020.dtypes)."
   ],
   "cell_type": "markdown",
   "metadata": {}
  },
  {
   "cell_type": "code",
   "execution_count": 605,
   "metadata": {},
   "outputs": [
    {
     "output_type": "execute_result",
     "data": {
      "text/plain": [
       "nomem_encr       float64\n",
       "geslacht        category\n",
       "v1q1_v1col1      float64\n",
       "v1q5_v1col1      float64\n",
       "nohouse_encr     float64\n",
       "dtype: object"
      ]
     },
     "metadata": {},
     "execution_count": 605
    }
   ],
   "source": [
    "nov_2019.dtypes"
   ]
  },
  {
   "cell_type": "code",
   "execution_count": 606,
   "metadata": {},
   "outputs": [
    {
     "output_type": "execute_result",
     "data": {
      "text/plain": [
       "geslacht         object\n",
       "v1q1_v1col1     float64\n",
       "v1q1a_v1col1    float64\n",
       "v1q1b_v1col1    float64\n",
       "v1q1c_v1col1    float64\n",
       "v1q5_v1col1     float64\n",
       "v1q5a_v1col1    float64\n",
       "nohouse_encr      int64\n",
       "nomem_encr        int64\n",
       "dtype: object"
      ]
     },
     "metadata": {},
     "execution_count": 606
    }
   ],
   "source": [
    "apr_2020.dtypes"
   ]
  },
  {
   "cell_type": "code",
   "execution_count": 607,
   "metadata": {},
   "outputs": [
    {
     "output_type": "execute_result",
     "data": {
      "text/plain": [
       "Man      56\n",
       "Vrouw    50\n",
       "Name: geslacht, dtype: int64"
      ]
     },
     "metadata": {},
     "execution_count": 607
    }
   ],
   "source": [
    "# Count each categories in gender including NAs:\n",
    "apr_2020['geslacht'].value_counts(dropna=False)"
   ]
  },
  {
   "source": [
    "## Rename categories\n"
   ],
   "cell_type": "markdown",
   "metadata": {}
  },
  {
   "cell_type": "code",
   "execution_count": 608,
   "metadata": {},
   "outputs": [
    {
     "output_type": "execute_result",
     "data": {
      "text/plain": [
       "CategoricalDtype(categories=['Male', 'Female'], ordered=True)"
      ]
     },
     "metadata": {},
     "execution_count": 608
    }
   ],
   "source": [
    "# Convert gender column to categorical:\n",
    "apr_2020['geslacht'] = pd.Categorical(apr_2020['geslacht'], categories=['Man', 'Vrouw'])\n",
    "apr_2020['geslacht'] = apr_2020['geslacht'].cat.rename_categories({'Man': 'Male', 'Vrouw': 'Female'})\n",
    "apr_2020['geslacht'].dtypes\n",
    "\n",
    "nov_2019['geslacht'] = pd.Categorical(nov_2019['geslacht'], categories=['Man', 'Vrouw'])\n",
    "nov_2019['geslacht'] = nov_2019['geslacht'].cat.rename_categories({'Man': 'Male', 'Vrouw': 'Female'})\n",
    "nov_2019['geslacht'].dtypes"
   ]
  },
  {
   "source": [
    "apr_2020['geslacht'].value_counts(dropna=False)\n"
   ],
   "cell_type": "code",
   "metadata": {},
   "execution_count": 609,
   "outputs": [
    {
     "output_type": "execute_result",
     "data": {
      "text/plain": [
       "Male      56\n",
       "Female    50\n",
       "Name: geslacht, dtype: int64"
      ]
     },
     "metadata": {},
     "execution_count": 609
    }
   ]
  },
  {
   "cell_type": "code",
   "execution_count": 610,
   "metadata": {},
   "outputs": [
    {
     "output_type": "execute_result",
     "data": {
      "text/plain": [
       "Male      46\n",
       "Female    42\n",
       "Name: geslacht, dtype: int64"
      ]
     },
     "metadata": {},
     "execution_count": 610
    }
   ],
   "source": [
    "nov_2019['geslacht'].value_counts(dropna=False)"
   ]
  },
  {
   "source": [
    "## Rename variables\n",
    "\n",
    "We give the Dutch and partly cryptic variable names sensible identifiers. The `replace` method on DataFrames returns a new DataFrame, so we need to assign it to `nov_2019` again if we want to continue working with it.\n",
    "\n",
    "Note that this is a very stateful transformation if you assign to the same variable; you will not be able to successfully execute the cell twice without re-loading the data above."
   ],
   "cell_type": "markdown",
   "metadata": {}
  },
  {
   "cell_type": "code",
   "execution_count": 611,
   "metadata": {},
   "outputs": [],
   "source": [
    "nov_2019 = nov_2019.rename(\n",
    "    columns={\n",
    "        \"geslacht\": \"gender\",\n",
    "        \"v1q1_v1col1\": \"working_hours\",\n",
    "        \"v1q5_v1col1\": \"childcare_hours\",\n",
    "        \"nohouse_encr\": \"household_identifier\",\n",
    "        \"nomem_encr\": \"member_identifier\"\n",
    "    }\n",
    ")\n",
    "\n",
    "apr_2020 = apr_2020.rename(\n",
    "    columns={\n",
    "        \"geslacht\": \"gender\",\n",
    "        \"nohouse_encr\": \"hh_id\",\n",
    "        \"nomem_encr\": \"ind_id\",\n",
    "        \"v1q1_v1col1\": \"working_hours_workplace\",\n",
    "        \"v1q1a_v1col1\": \"working_hours_home_nokids\",\n",
    "        \"v1q1b_v1col1\": \"working_hours_home_whilekids\",\n",
    "        \"v1q1c_v1col1\": \"working_hours_home_while_no_kids\",\n",
    "        \"v1q5_v1col1\": \"childcare_hours_res\",\n",
    "        \"v1q5a_v1col1\": \"homeschool_hours\"        \n",
    "    }\n",
    ")"
   ]
  },
  {
   "source": [
    "Again view the dataframe to see if the changes applied."
   ],
   "cell_type": "markdown",
   "metadata": {}
  },
  {
   "cell_type": "code",
   "execution_count": 612,
   "metadata": {},
   "outputs": [
    {
     "output_type": "execute_result",
     "data": {
      "text/plain": [
       "   member_identifier  gender  working_hours  childcare_hours  \\\n",
       "0          1687033.0    Male            0.0              2.0   \n",
       "1          1662353.0  Female            9.0              0.0   \n",
       "2          1631191.0    Male           67.0              1.0   \n",
       "3          1687630.0  Female           17.0              6.0   \n",
       "4          1746405.0    Male           40.0             12.0   \n",
       "\n",
       "   household_identifier  \n",
       "0             1049420.0  \n",
       "1             1049420.0  \n",
       "2             1011033.0  \n",
       "3             1011033.0  \n",
       "4             1047651.0  "
      ],
      "text/html": "<div>\n<style scoped>\n    .dataframe tbody tr th:only-of-type {\n        vertical-align: middle;\n    }\n\n    .dataframe tbody tr th {\n        vertical-align: top;\n    }\n\n    .dataframe thead th {\n        text-align: right;\n    }\n</style>\n<table border=\"1\" class=\"dataframe\">\n  <thead>\n    <tr style=\"text-align: right;\">\n      <th></th>\n      <th>member_identifier</th>\n      <th>gender</th>\n      <th>working_hours</th>\n      <th>childcare_hours</th>\n      <th>household_identifier</th>\n    </tr>\n  </thead>\n  <tbody>\n    <tr>\n      <th>0</th>\n      <td>1687033.0</td>\n      <td>Male</td>\n      <td>0.0</td>\n      <td>2.0</td>\n      <td>1049420.0</td>\n    </tr>\n    <tr>\n      <th>1</th>\n      <td>1662353.0</td>\n      <td>Female</td>\n      <td>9.0</td>\n      <td>0.0</td>\n      <td>1049420.0</td>\n    </tr>\n    <tr>\n      <th>2</th>\n      <td>1631191.0</td>\n      <td>Male</td>\n      <td>67.0</td>\n      <td>1.0</td>\n      <td>1011033.0</td>\n    </tr>\n    <tr>\n      <th>3</th>\n      <td>1687630.0</td>\n      <td>Female</td>\n      <td>17.0</td>\n      <td>6.0</td>\n      <td>1011033.0</td>\n    </tr>\n    <tr>\n      <th>4</th>\n      <td>1746405.0</td>\n      <td>Male</td>\n      <td>40.0</td>\n      <td>12.0</td>\n      <td>1047651.0</td>\n    </tr>\n  </tbody>\n</table>\n</div>"
     },
     "metadata": {},
     "execution_count": 612
    }
   ],
   "source": [
    "nov_2019.head()"
   ]
  },
  {
   "cell_type": "code",
   "execution_count": 613,
   "metadata": {},
   "outputs": [
    {
     "output_type": "execute_result",
     "data": {
      "text/plain": [
       "   gender  working_hours_workplace  working_hours_home_nokids  \\\n",
       "0    Male                      0.0                        NaN   \n",
       "1  Female                      3.0                        NaN   \n",
       "2    Male                     47.0                        NaN   \n",
       "3  Female                      8.0                        NaN   \n",
       "4    Male                     36.0                        NaN   \n",
       "\n",
       "   working_hours_home_whilekids  working_hours_home_while_no_kids  \\\n",
       "0                           0.0                               0.0   \n",
       "1                           0.0                               0.0   \n",
       "2                           4.0                               0.0   \n",
       "3                           0.0                               8.0   \n",
       "4                           0.0                               0.0   \n",
       "\n",
       "   childcare_hours_res  homeschool_hours    hh_id   ind_id  \n",
       "0                  0.0               0.0  1049420  1687033  \n",
       "1                  0.0               0.0  1049420  1662353  \n",
       "2                  4.0               0.0  1011033  1631191  \n",
       "3                  0.0               0.0  1011033  1687630  \n",
       "4                  0.0               0.0  1047651  1746405  "
      ],
      "text/html": "<div>\n<style scoped>\n    .dataframe tbody tr th:only-of-type {\n        vertical-align: middle;\n    }\n\n    .dataframe tbody tr th {\n        vertical-align: top;\n    }\n\n    .dataframe thead th {\n        text-align: right;\n    }\n</style>\n<table border=\"1\" class=\"dataframe\">\n  <thead>\n    <tr style=\"text-align: right;\">\n      <th></th>\n      <th>gender</th>\n      <th>working_hours_workplace</th>\n      <th>working_hours_home_nokids</th>\n      <th>working_hours_home_whilekids</th>\n      <th>working_hours_home_while_no_kids</th>\n      <th>childcare_hours_res</th>\n      <th>homeschool_hours</th>\n      <th>hh_id</th>\n      <th>ind_id</th>\n    </tr>\n  </thead>\n  <tbody>\n    <tr>\n      <th>0</th>\n      <td>Male</td>\n      <td>0.0</td>\n      <td>NaN</td>\n      <td>0.0</td>\n      <td>0.0</td>\n      <td>0.0</td>\n      <td>0.0</td>\n      <td>1049420</td>\n      <td>1687033</td>\n    </tr>\n    <tr>\n      <th>1</th>\n      <td>Female</td>\n      <td>3.0</td>\n      <td>NaN</td>\n      <td>0.0</td>\n      <td>0.0</td>\n      <td>0.0</td>\n      <td>0.0</td>\n      <td>1049420</td>\n      <td>1662353</td>\n    </tr>\n    <tr>\n      <th>2</th>\n      <td>Male</td>\n      <td>47.0</td>\n      <td>NaN</td>\n      <td>4.0</td>\n      <td>0.0</td>\n      <td>4.0</td>\n      <td>0.0</td>\n      <td>1011033</td>\n      <td>1631191</td>\n    </tr>\n    <tr>\n      <th>3</th>\n      <td>Female</td>\n      <td>8.0</td>\n      <td>NaN</td>\n      <td>0.0</td>\n      <td>8.0</td>\n      <td>0.0</td>\n      <td>0.0</td>\n      <td>1011033</td>\n      <td>1687630</td>\n    </tr>\n    <tr>\n      <th>4</th>\n      <td>Male</td>\n      <td>36.0</td>\n      <td>NaN</td>\n      <td>0.0</td>\n      <td>0.0</td>\n      <td>0.0</td>\n      <td>0.0</td>\n      <td>1047651</td>\n      <td>1746405</td>\n    </tr>\n  </tbody>\n</table>\n</div>"
     },
     "metadata": {},
     "execution_count": 613
    }
   ],
   "source": [
    "apr_2020.head()"
   ]
  },
  {
   "source": [
    "## Convert data types\n",
    "\n",
    "`nomem_encr` and `nohouse_encr` are classical identifiers. They can be used to identify a particular observation, but they do not carry any meaning beyond that.\n",
    "\n",
    "You have heard in the screencast that you should never use floating point numbers for identifiers. It is common that this happens in Stata, though (e.g., through use of `compress` or mathematical operations of integers, which do implicit type conversions unless you request an integer back).\n",
    "\n",
    "Add new columns `hh_id` and `ind_id` with sensible data types. \n"
   ],
   "cell_type": "markdown",
   "metadata": {}
  },
  {
   "cell_type": "code",
   "execution_count": 614,
   "metadata": {},
   "outputs": [],
   "source": [
    "# Converting a panda series by using astype():\n",
    "nov_2019[\"hh_id\"] = nov_2019[\"household_identifier\"].astype(int)\n",
    "nov_2019[\"ind_id\"] = nov_2019[\"member_identifier\"].astype(int)\n"
   ]
  },
  {
   "cell_type": "code",
   "execution_count": 615,
   "metadata": {},
   "outputs": [
    {
     "output_type": "execute_result",
     "data": {
      "text/plain": [
       "   member_identifier  gender  working_hours  childcare_hours  \\\n",
       "0          1687033.0    Male            0.0              2.0   \n",
       "1          1662353.0  Female            9.0              0.0   \n",
       "2          1631191.0    Male           67.0              1.0   \n",
       "3          1687630.0  Female           17.0              6.0   \n",
       "4          1746405.0    Male           40.0             12.0   \n",
       "\n",
       "   household_identifier    hh_id   ind_id  \n",
       "0             1049420.0  1049420  1687033  \n",
       "1             1049420.0  1049420  1662353  \n",
       "2             1011033.0  1011033  1631191  \n",
       "3             1011033.0  1011033  1687630  \n",
       "4             1047651.0  1047651  1746405  "
      ],
      "text/html": "<div>\n<style scoped>\n    .dataframe tbody tr th:only-of-type {\n        vertical-align: middle;\n    }\n\n    .dataframe tbody tr th {\n        vertical-align: top;\n    }\n\n    .dataframe thead th {\n        text-align: right;\n    }\n</style>\n<table border=\"1\" class=\"dataframe\">\n  <thead>\n    <tr style=\"text-align: right;\">\n      <th></th>\n      <th>member_identifier</th>\n      <th>gender</th>\n      <th>working_hours</th>\n      <th>childcare_hours</th>\n      <th>household_identifier</th>\n      <th>hh_id</th>\n      <th>ind_id</th>\n    </tr>\n  </thead>\n  <tbody>\n    <tr>\n      <th>0</th>\n      <td>1687033.0</td>\n      <td>Male</td>\n      <td>0.0</td>\n      <td>2.0</td>\n      <td>1049420.0</td>\n      <td>1049420</td>\n      <td>1687033</td>\n    </tr>\n    <tr>\n      <th>1</th>\n      <td>1662353.0</td>\n      <td>Female</td>\n      <td>9.0</td>\n      <td>0.0</td>\n      <td>1049420.0</td>\n      <td>1049420</td>\n      <td>1662353</td>\n    </tr>\n    <tr>\n      <th>2</th>\n      <td>1631191.0</td>\n      <td>Male</td>\n      <td>67.0</td>\n      <td>1.0</td>\n      <td>1011033.0</td>\n      <td>1011033</td>\n      <td>1631191</td>\n    </tr>\n    <tr>\n      <th>3</th>\n      <td>1687630.0</td>\n      <td>Female</td>\n      <td>17.0</td>\n      <td>6.0</td>\n      <td>1011033.0</td>\n      <td>1011033</td>\n      <td>1687630</td>\n    </tr>\n    <tr>\n      <th>4</th>\n      <td>1746405.0</td>\n      <td>Male</td>\n      <td>40.0</td>\n      <td>12.0</td>\n      <td>1047651.0</td>\n      <td>1047651</td>\n      <td>1746405</td>\n    </tr>\n  </tbody>\n</table>\n</div>"
     },
     "metadata": {},
     "execution_count": 615
    }
   ],
   "source": [
    "# Again view the dataframe\n",
    "nov_2019.head()"
   ]
  },
  {
   "cell_type": "code",
   "execution_count": 616,
   "metadata": {},
   "outputs": [
    {
     "output_type": "execute_result",
     "data": {
      "text/plain": [
       "   gender  working_hours_workplace  working_hours_home_nokids  \\\n",
       "0    Male                      0.0                        NaN   \n",
       "1  Female                      3.0                        NaN   \n",
       "2    Male                     47.0                        NaN   \n",
       "3  Female                      8.0                        NaN   \n",
       "4    Male                     36.0                        NaN   \n",
       "\n",
       "   working_hours_home_whilekids  working_hours_home_while_no_kids  \\\n",
       "0                           0.0                               0.0   \n",
       "1                           0.0                               0.0   \n",
       "2                           4.0                               0.0   \n",
       "3                           0.0                               8.0   \n",
       "4                           0.0                               0.0   \n",
       "\n",
       "   childcare_hours_res  homeschool_hours    hh_id   ind_id  \n",
       "0                  0.0               0.0  1049420  1687033  \n",
       "1                  0.0               0.0  1049420  1662353  \n",
       "2                  4.0               0.0  1011033  1631191  \n",
       "3                  0.0               0.0  1011033  1687630  \n",
       "4                  0.0               0.0  1047651  1746405  "
      ],
      "text/html": "<div>\n<style scoped>\n    .dataframe tbody tr th:only-of-type {\n        vertical-align: middle;\n    }\n\n    .dataframe tbody tr th {\n        vertical-align: top;\n    }\n\n    .dataframe thead th {\n        text-align: right;\n    }\n</style>\n<table border=\"1\" class=\"dataframe\">\n  <thead>\n    <tr style=\"text-align: right;\">\n      <th></th>\n      <th>gender</th>\n      <th>working_hours_workplace</th>\n      <th>working_hours_home_nokids</th>\n      <th>working_hours_home_whilekids</th>\n      <th>working_hours_home_while_no_kids</th>\n      <th>childcare_hours_res</th>\n      <th>homeschool_hours</th>\n      <th>hh_id</th>\n      <th>ind_id</th>\n    </tr>\n  </thead>\n  <tbody>\n    <tr>\n      <th>0</th>\n      <td>Male</td>\n      <td>0.0</td>\n      <td>NaN</td>\n      <td>0.0</td>\n      <td>0.0</td>\n      <td>0.0</td>\n      <td>0.0</td>\n      <td>1049420</td>\n      <td>1687033</td>\n    </tr>\n    <tr>\n      <th>1</th>\n      <td>Female</td>\n      <td>3.0</td>\n      <td>NaN</td>\n      <td>0.0</td>\n      <td>0.0</td>\n      <td>0.0</td>\n      <td>0.0</td>\n      <td>1049420</td>\n      <td>1662353</td>\n    </tr>\n    <tr>\n      <th>2</th>\n      <td>Male</td>\n      <td>47.0</td>\n      <td>NaN</td>\n      <td>4.0</td>\n      <td>0.0</td>\n      <td>4.0</td>\n      <td>0.0</td>\n      <td>1011033</td>\n      <td>1631191</td>\n    </tr>\n    <tr>\n      <th>3</th>\n      <td>Female</td>\n      <td>8.0</td>\n      <td>NaN</td>\n      <td>0.0</td>\n      <td>8.0</td>\n      <td>0.0</td>\n      <td>0.0</td>\n      <td>1011033</td>\n      <td>1687630</td>\n    </tr>\n    <tr>\n      <th>4</th>\n      <td>Male</td>\n      <td>36.0</td>\n      <td>NaN</td>\n      <td>0.0</td>\n      <td>0.0</td>\n      <td>0.0</td>\n      <td>0.0</td>\n      <td>1047651</td>\n      <td>1746405</td>\n    </tr>\n  </tbody>\n</table>\n</div>"
     },
     "metadata": {},
     "execution_count": 616
    }
   ],
   "source": [
    "apr_2020.head()"
   ]
  },
  {
   "source": [
    "## Select columns\n",
    "\n",
    "We do not need to keep the old identifiers anymore.\n",
    "\n",
    "You can select a subset of columns by including a list of column names in the standard square brackets used for indexing in Python.\n",
    "\n",
    "Replace the XXXX and YYYY appropriately and include all other variables that you want to keep."
   ],
   "cell_type": "markdown",
   "metadata": {}
  },
  {
   "cell_type": "code",
   "execution_count": 617,
   "metadata": {},
   "outputs": [
    {
     "output_type": "execute_result",
     "data": {
      "text/plain": [
       "array(['member_identifier', 'gender', 'working_hours', 'childcare_hours',\n",
       "       'household_identifier', 'hh_id', 'ind_id'], dtype=object)"
      ]
     },
     "metadata": {},
     "execution_count": 617
    }
   ],
   "source": [
    "# Displaying columns' name:\n",
    "nov_2019.columns.values"
   ]
  },
  {
   "cell_type": "code",
   "execution_count": 618,
   "metadata": {},
   "outputs": [],
   "source": [
    "nov_2019 = nov_2019[['hh_id', 'ind_id', \"gender\", \"working_hours\", \"childcare_hours\"]]"
   ]
  },
  {
   "cell_type": "code",
   "execution_count": 619,
   "metadata": {},
   "outputs": [
    {
     "output_type": "execute_result",
     "data": {
      "text/plain": [
       "     hh_id   ind_id  gender  working_hours  childcare_hours\n",
       "0  1049420  1687033    Male            0.0              2.0\n",
       "1  1049420  1662353  Female            9.0              0.0\n",
       "2  1011033  1631191    Male           67.0              1.0\n",
       "3  1011033  1687630  Female           17.0              6.0\n",
       "4  1047651  1746405    Male           40.0             12.0"
      ],
      "text/html": "<div>\n<style scoped>\n    .dataframe tbody tr th:only-of-type {\n        vertical-align: middle;\n    }\n\n    .dataframe tbody tr th {\n        vertical-align: top;\n    }\n\n    .dataframe thead th {\n        text-align: right;\n    }\n</style>\n<table border=\"1\" class=\"dataframe\">\n  <thead>\n    <tr style=\"text-align: right;\">\n      <th></th>\n      <th>hh_id</th>\n      <th>ind_id</th>\n      <th>gender</th>\n      <th>working_hours</th>\n      <th>childcare_hours</th>\n    </tr>\n  </thead>\n  <tbody>\n    <tr>\n      <th>0</th>\n      <td>1049420</td>\n      <td>1687033</td>\n      <td>Male</td>\n      <td>0.0</td>\n      <td>2.0</td>\n    </tr>\n    <tr>\n      <th>1</th>\n      <td>1049420</td>\n      <td>1662353</td>\n      <td>Female</td>\n      <td>9.0</td>\n      <td>0.0</td>\n    </tr>\n    <tr>\n      <th>2</th>\n      <td>1011033</td>\n      <td>1631191</td>\n      <td>Male</td>\n      <td>67.0</td>\n      <td>1.0</td>\n    </tr>\n    <tr>\n      <th>3</th>\n      <td>1011033</td>\n      <td>1687630</td>\n      <td>Female</td>\n      <td>17.0</td>\n      <td>6.0</td>\n    </tr>\n    <tr>\n      <th>4</th>\n      <td>1047651</td>\n      <td>1746405</td>\n      <td>Male</td>\n      <td>40.0</td>\n      <td>12.0</td>\n    </tr>\n  </tbody>\n</table>\n</div>"
     },
     "metadata": {},
     "execution_count": 619
    }
   ],
   "source": [
    "nov_2019.head()"
   ]
  },
  {
   "source": [
    "## Set index\n",
    "\n",
    "The default index created by Pandas (a DataFrame always has an index) does not make much sense.\n",
    "\n",
    "Create an index based on a column / several columns that makes sense to you via replacing the XXXX by an appropriate construct."
   ],
   "cell_type": "markdown",
   "metadata": {}
  },
  {
   "cell_type": "code",
   "execution_count": 620,
   "metadata": {},
   "outputs": [],
   "source": [
    "nov_2019_with_index = nov_2019.set_index(['hh_id', 'ind_id'])\n",
    "apr_2020_with_index = apr_2020.set_index(['hh_id', 'ind_id'])"
   ]
  },
  {
   "cell_type": "code",
   "execution_count": 621,
   "metadata": {},
   "outputs": [
    {
     "output_type": "execute_result",
     "data": {
      "text/plain": [
       "                 gender  working_hours  childcare_hours\n",
       "hh_id   ind_id                                         \n",
       "1049420 1687033    Male            0.0              2.0\n",
       "        1662353  Female            9.0              0.0\n",
       "1011033 1631191    Male           67.0              1.0\n",
       "        1687630  Female           17.0              6.0\n",
       "1047651 1746405    Male           40.0             12.0\n",
       "        1712561  Female            0.0             40.0\n",
       "1059082 1755058    Male           32.0              8.0\n",
       "        1703625  Female            0.0             40.0\n",
       "1032991 1660073    Male           40.0             20.0\n",
       "        1679690  Female            0.0              0.0"
      ],
      "text/html": "<div>\n<style scoped>\n    .dataframe tbody tr th:only-of-type {\n        vertical-align: middle;\n    }\n\n    .dataframe tbody tr th {\n        vertical-align: top;\n    }\n\n    .dataframe thead th {\n        text-align: right;\n    }\n</style>\n<table border=\"1\" class=\"dataframe\">\n  <thead>\n    <tr style=\"text-align: right;\">\n      <th></th>\n      <th></th>\n      <th>gender</th>\n      <th>working_hours</th>\n      <th>childcare_hours</th>\n    </tr>\n    <tr>\n      <th>hh_id</th>\n      <th>ind_id</th>\n      <th></th>\n      <th></th>\n      <th></th>\n    </tr>\n  </thead>\n  <tbody>\n    <tr>\n      <th rowspan=\"2\" valign=\"top\">1049420</th>\n      <th>1687033</th>\n      <td>Male</td>\n      <td>0.0</td>\n      <td>2.0</td>\n    </tr>\n    <tr>\n      <th>1662353</th>\n      <td>Female</td>\n      <td>9.0</td>\n      <td>0.0</td>\n    </tr>\n    <tr>\n      <th rowspan=\"2\" valign=\"top\">1011033</th>\n      <th>1631191</th>\n      <td>Male</td>\n      <td>67.0</td>\n      <td>1.0</td>\n    </tr>\n    <tr>\n      <th>1687630</th>\n      <td>Female</td>\n      <td>17.0</td>\n      <td>6.0</td>\n    </tr>\n    <tr>\n      <th rowspan=\"2\" valign=\"top\">1047651</th>\n      <th>1746405</th>\n      <td>Male</td>\n      <td>40.0</td>\n      <td>12.0</td>\n    </tr>\n    <tr>\n      <th>1712561</th>\n      <td>Female</td>\n      <td>0.0</td>\n      <td>40.0</td>\n    </tr>\n    <tr>\n      <th rowspan=\"2\" valign=\"top\">1059082</th>\n      <th>1755058</th>\n      <td>Male</td>\n      <td>32.0</td>\n      <td>8.0</td>\n    </tr>\n    <tr>\n      <th>1703625</th>\n      <td>Female</td>\n      <td>0.0</td>\n      <td>40.0</td>\n    </tr>\n    <tr>\n      <th rowspan=\"2\" valign=\"top\">1032991</th>\n      <th>1660073</th>\n      <td>Male</td>\n      <td>40.0</td>\n      <td>20.0</td>\n    </tr>\n    <tr>\n      <th>1679690</th>\n      <td>Female</td>\n      <td>0.0</td>\n      <td>0.0</td>\n    </tr>\n  </tbody>\n</table>\n</div>"
     },
     "metadata": {},
     "execution_count": 621
    }
   ],
   "source": [
    "nov_2019_with_index.head(10)"
   ]
  },
  {
   "cell_type": "code",
   "execution_count": 622,
   "metadata": {},
   "outputs": [
    {
     "output_type": "execute_result",
     "data": {
      "text/plain": [
       "                 gender  working_hours_workplace  working_hours_home_nokids  \\\n",
       "hh_id   ind_id                                                                \n",
       "1049420 1687033    Male                      0.0                        NaN   \n",
       "        1662353  Female                      3.0                        NaN   \n",
       "1011033 1631191    Male                     47.0                        NaN   \n",
       "        1687630  Female                      8.0                        NaN   \n",
       "1047651 1746405    Male                     36.0                        NaN   \n",
       "        1712561  Female                      0.0                        NaN   \n",
       "1059082 1703625  Female                      0.0                        NaN   \n",
       "        1755058    Male                      0.0                        NaN   \n",
       "1032311 1705264    Male                     40.0                        NaN   \n",
       "1050449 1738962    Male                      0.0                        NaN   \n",
       "\n",
       "                 working_hours_home_whilekids  \\\n",
       "hh_id   ind_id                                  \n",
       "1049420 1687033                           0.0   \n",
       "        1662353                           0.0   \n",
       "1011033 1631191                           4.0   \n",
       "        1687630                           0.0   \n",
       "1047651 1746405                           0.0   \n",
       "        1712561                           0.0   \n",
       "1059082 1703625                           1.0   \n",
       "        1755058                           0.0   \n",
       "1032311 1705264                          50.0   \n",
       "1050449 1738962                           0.0   \n",
       "\n",
       "                 working_hours_home_while_no_kids  childcare_hours_res  \\\n",
       "hh_id   ind_id                                                           \n",
       "1049420 1687033                               0.0                  0.0   \n",
       "        1662353                               0.0                  0.0   \n",
       "1011033 1631191                               0.0                  4.0   \n",
       "        1687630                               8.0                  0.0   \n",
       "1047651 1746405                               0.0                  0.0   \n",
       "        1712561                               0.0                  0.0   \n",
       "1059082 1703625                              17.0                 20.0   \n",
       "        1755058                               0.0                  5.0   \n",
       "1032311 1705264                              50.0                 10.0   \n",
       "1050449 1738962                              38.0                  0.0   \n",
       "\n",
       "                 homeschool_hours  \n",
       "hh_id   ind_id                     \n",
       "1049420 1687033               0.0  \n",
       "        1662353               0.0  \n",
       "1011033 1631191               0.0  \n",
       "        1687630               0.0  \n",
       "1047651 1746405               0.0  \n",
       "        1712561               0.0  \n",
       "1059082 1703625              20.0  \n",
       "        1755058               5.0  \n",
       "1032311 1705264               0.0  \n",
       "1050449 1738962               0.0  "
      ],
      "text/html": "<div>\n<style scoped>\n    .dataframe tbody tr th:only-of-type {\n        vertical-align: middle;\n    }\n\n    .dataframe tbody tr th {\n        vertical-align: top;\n    }\n\n    .dataframe thead th {\n        text-align: right;\n    }\n</style>\n<table border=\"1\" class=\"dataframe\">\n  <thead>\n    <tr style=\"text-align: right;\">\n      <th></th>\n      <th></th>\n      <th>gender</th>\n      <th>working_hours_workplace</th>\n      <th>working_hours_home_nokids</th>\n      <th>working_hours_home_whilekids</th>\n      <th>working_hours_home_while_no_kids</th>\n      <th>childcare_hours_res</th>\n      <th>homeschool_hours</th>\n    </tr>\n    <tr>\n      <th>hh_id</th>\n      <th>ind_id</th>\n      <th></th>\n      <th></th>\n      <th></th>\n      <th></th>\n      <th></th>\n      <th></th>\n      <th></th>\n    </tr>\n  </thead>\n  <tbody>\n    <tr>\n      <th rowspan=\"2\" valign=\"top\">1049420</th>\n      <th>1687033</th>\n      <td>Male</td>\n      <td>0.0</td>\n      <td>NaN</td>\n      <td>0.0</td>\n      <td>0.0</td>\n      <td>0.0</td>\n      <td>0.0</td>\n    </tr>\n    <tr>\n      <th>1662353</th>\n      <td>Female</td>\n      <td>3.0</td>\n      <td>NaN</td>\n      <td>0.0</td>\n      <td>0.0</td>\n      <td>0.0</td>\n      <td>0.0</td>\n    </tr>\n    <tr>\n      <th rowspan=\"2\" valign=\"top\">1011033</th>\n      <th>1631191</th>\n      <td>Male</td>\n      <td>47.0</td>\n      <td>NaN</td>\n      <td>4.0</td>\n      <td>0.0</td>\n      <td>4.0</td>\n      <td>0.0</td>\n    </tr>\n    <tr>\n      <th>1687630</th>\n      <td>Female</td>\n      <td>8.0</td>\n      <td>NaN</td>\n      <td>0.0</td>\n      <td>8.0</td>\n      <td>0.0</td>\n      <td>0.0</td>\n    </tr>\n    <tr>\n      <th rowspan=\"2\" valign=\"top\">1047651</th>\n      <th>1746405</th>\n      <td>Male</td>\n      <td>36.0</td>\n      <td>NaN</td>\n      <td>0.0</td>\n      <td>0.0</td>\n      <td>0.0</td>\n      <td>0.0</td>\n    </tr>\n    <tr>\n      <th>1712561</th>\n      <td>Female</td>\n      <td>0.0</td>\n      <td>NaN</td>\n      <td>0.0</td>\n      <td>0.0</td>\n      <td>0.0</td>\n      <td>0.0</td>\n    </tr>\n    <tr>\n      <th rowspan=\"2\" valign=\"top\">1059082</th>\n      <th>1703625</th>\n      <td>Female</td>\n      <td>0.0</td>\n      <td>NaN</td>\n      <td>1.0</td>\n      <td>17.0</td>\n      <td>20.0</td>\n      <td>20.0</td>\n    </tr>\n    <tr>\n      <th>1755058</th>\n      <td>Male</td>\n      <td>0.0</td>\n      <td>NaN</td>\n      <td>0.0</td>\n      <td>0.0</td>\n      <td>5.0</td>\n      <td>5.0</td>\n    </tr>\n    <tr>\n      <th>1032311</th>\n      <th>1705264</th>\n      <td>Male</td>\n      <td>40.0</td>\n      <td>NaN</td>\n      <td>50.0</td>\n      <td>50.0</td>\n      <td>10.0</td>\n      <td>0.0</td>\n    </tr>\n    <tr>\n      <th>1050449</th>\n      <th>1738962</th>\n      <td>Male</td>\n      <td>0.0</td>\n      <td>NaN</td>\n      <td>0.0</td>\n      <td>38.0</td>\n      <td>0.0</td>\n      <td>0.0</td>\n    </tr>\n  </tbody>\n</table>\n</div>"
     },
     "metadata": {},
     "execution_count": 622
    }
   ],
   "source": [
    "apr_2020_with_index.head(10)"
   ]
  },
  {
   "source": [
    "## Our first reduction operation\n",
    "\n",
    "Calculate the mean hours spent on different activities."
   ],
   "cell_type": "markdown",
   "metadata": {}
  },
  {
   "cell_type": "code",
   "execution_count": 623,
   "metadata": {},
   "outputs": [],
   "source": [
    "# Define an average() function (I'm surprised there's no built-in)\n",
    "def average(list):\n",
    "    \"\"\"Returns the average of a list.\n",
    "\n",
    "    Args:\n",
    "        list (interable): a list of numbers\n",
    "    \n",
    "    Returns:\n",
    "        float: the average of the list of numbers\n",
    "    \"\"\"\n",
    "    \n",
    "    out = sum(list) / len(list)\n",
    "    return out "
   ]
  },
  {
   "cell_type": "code",
   "execution_count": 624,
   "metadata": {},
   "outputs": [
    {
     "output_type": "stream",
     "name": "stdout",
     "text": [
      "Mean working hours in Nov 2019 is: 17.988636363636363\nand it should be the same as the results from the self-defined function. Indeed, here's the output: \n17.988636363636363\n"
     ]
    }
   ],
   "source": [
    "# Use the built-in one from statistics:\n",
    "print(\"Mean working hours in Nov 2019 is: \", end=\"\")\n",
    "print(mean(nov_2019['working_hours']))\n",
    "\n",
    "# And from the self-defined one:\n",
    "print(\"and it should be the same as the results from the self-defined function. Indeed, here's the output: \")\n",
    "print(average(nov_2019['working_hours']))"
   ]
  },
  {
   "source": [
    "## Our second reduction operation\n",
    "\n",
    "Calculate the mean hours spent on different activities by gender by appending the following with the appropriate method to calculate a mean."
   ],
   "cell_type": "markdown",
   "metadata": {}
  },
  {
   "cell_type": "code",
   "execution_count": 625,
   "metadata": {},
   "outputs": [
    {
     "output_type": "execute_result",
     "data": {
      "text/plain": [
       "        working_hours  childcare_hours\n",
       "gender                                \n",
       "Male        23.434783         7.315789\n",
       "Female      12.023810        18.263158"
      ],
      "text/html": "<div>\n<style scoped>\n    .dataframe tbody tr th:only-of-type {\n        vertical-align: middle;\n    }\n\n    .dataframe tbody tr th {\n        vertical-align: top;\n    }\n\n    .dataframe thead th {\n        text-align: right;\n    }\n</style>\n<table border=\"1\" class=\"dataframe\">\n  <thead>\n    <tr style=\"text-align: right;\">\n      <th></th>\n      <th>working_hours</th>\n      <th>childcare_hours</th>\n    </tr>\n    <tr>\n      <th>gender</th>\n      <th></th>\n      <th></th>\n    </tr>\n  </thead>\n  <tbody>\n    <tr>\n      <th>Male</th>\n      <td>23.434783</td>\n      <td>7.315789</td>\n    </tr>\n    <tr>\n      <th>Female</th>\n      <td>12.023810</td>\n      <td>18.263158</td>\n    </tr>\n  </tbody>\n</table>\n</div>"
     },
     "metadata": {},
     "execution_count": 625
    }
   ],
   "source": [
    "nov_2019.groupby(\"gender\")[[\"working_hours\", \"childcare_hours\"]].mean()"
   ]
  },
  {
   "source": [
    "## Append the 2 dataframes\n"
   ],
   "cell_type": "markdown",
   "metadata": {}
  },
  {
   "cell_type": "code",
   "execution_count": 639,
   "metadata": {},
   "outputs": [],
   "source": [
    "# Creating new columns before appending:\n",
    "apr_2020['total_working_hours'] = pd.DataFrame([apr_2020.working_hours_home_nokids, apr_2020.working_hours_home_while_no_kids, apr_2020.working_hours_home_whilekids, apr_2020.working_hours_workplace]).sum(axis=1, skipna=True)\n",
    "\n",
    "apr_2020['total_childcare_hours'] = pd.DataFrame([apr_2020.childcare_hours_res, apr_2020.working_hours_home_whilekids]).sum(axis=1, skipna=True)"
   ]
  },
  {
   "cell_type": "code",
   "execution_count": 640,
   "metadata": {},
   "outputs": [
    {
     "output_type": "execute_result",
     "data": {
      "text/plain": [
       "   gender  working_hours_workplace  working_hours_home_nokids  \\\n",
       "0    Male                      0.0                        NaN   \n",
       "1  Female                      3.0                        NaN   \n",
       "2    Male                     47.0                        NaN   \n",
       "3  Female                      8.0                        NaN   \n",
       "4    Male                     36.0                        NaN   \n",
       "5  Female                      0.0                        NaN   \n",
       "6  Female                      0.0                        NaN   \n",
       "7    Male                      0.0                        NaN   \n",
       "8    Male                     40.0                        NaN   \n",
       "9    Male                      0.0                        NaN   \n",
       "\n",
       "   working_hours_home_whilekids  working_hours_home_while_no_kids  \\\n",
       "0                           0.0                               0.0   \n",
       "1                           0.0                               0.0   \n",
       "2                           4.0                               0.0   \n",
       "3                           0.0                               8.0   \n",
       "4                           0.0                               0.0   \n",
       "5                           0.0                               0.0   \n",
       "6                           1.0                              17.0   \n",
       "7                           0.0                               0.0   \n",
       "8                          50.0                              50.0   \n",
       "9                           0.0                              38.0   \n",
       "\n",
       "   childcare_hours_res  homeschool_hours    hh_id   ind_id  \\\n",
       "0                  0.0               0.0  1049420  1687033   \n",
       "1                  0.0               0.0  1049420  1662353   \n",
       "2                  4.0               0.0  1011033  1631191   \n",
       "3                  0.0               0.0  1011033  1687630   \n",
       "4                  0.0               0.0  1047651  1746405   \n",
       "5                  0.0               0.0  1047651  1712561   \n",
       "6                 20.0              20.0  1059082  1703625   \n",
       "7                  5.0               5.0  1059082  1755058   \n",
       "8                 10.0               0.0  1032311  1705264   \n",
       "9                  0.0               0.0  1050449  1738962   \n",
       "\n",
       "   total_working_hours  total_childcare_hours  \n",
       "0                  NaN                    NaN  \n",
       "1                  NaN                    NaN  \n",
       "2                  NaN                    NaN  \n",
       "3                  NaN                    NaN  \n",
       "4                  NaN                    NaN  \n",
       "5                  NaN                    NaN  \n",
       "6                  NaN                    NaN  \n",
       "7                  NaN                    NaN  \n",
       "8                  NaN                    NaN  \n",
       "9                  NaN                    NaN  "
      ],
      "text/html": "<div>\n<style scoped>\n    .dataframe tbody tr th:only-of-type {\n        vertical-align: middle;\n    }\n\n    .dataframe tbody tr th {\n        vertical-align: top;\n    }\n\n    .dataframe thead th {\n        text-align: right;\n    }\n</style>\n<table border=\"1\" class=\"dataframe\">\n  <thead>\n    <tr style=\"text-align: right;\">\n      <th></th>\n      <th>gender</th>\n      <th>working_hours_workplace</th>\n      <th>working_hours_home_nokids</th>\n      <th>working_hours_home_whilekids</th>\n      <th>working_hours_home_while_no_kids</th>\n      <th>childcare_hours_res</th>\n      <th>homeschool_hours</th>\n      <th>hh_id</th>\n      <th>ind_id</th>\n      <th>total_working_hours</th>\n      <th>total_childcare_hours</th>\n    </tr>\n  </thead>\n  <tbody>\n    <tr>\n      <th>0</th>\n      <td>Male</td>\n      <td>0.0</td>\n      <td>NaN</td>\n      <td>0.0</td>\n      <td>0.0</td>\n      <td>0.0</td>\n      <td>0.0</td>\n      <td>1049420</td>\n      <td>1687033</td>\n      <td>NaN</td>\n      <td>NaN</td>\n    </tr>\n    <tr>\n      <th>1</th>\n      <td>Female</td>\n      <td>3.0</td>\n      <td>NaN</td>\n      <td>0.0</td>\n      <td>0.0</td>\n      <td>0.0</td>\n      <td>0.0</td>\n      <td>1049420</td>\n      <td>1662353</td>\n      <td>NaN</td>\n      <td>NaN</td>\n    </tr>\n    <tr>\n      <th>2</th>\n      <td>Male</td>\n      <td>47.0</td>\n      <td>NaN</td>\n      <td>4.0</td>\n      <td>0.0</td>\n      <td>4.0</td>\n      <td>0.0</td>\n      <td>1011033</td>\n      <td>1631191</td>\n      <td>NaN</td>\n      <td>NaN</td>\n    </tr>\n    <tr>\n      <th>3</th>\n      <td>Female</td>\n      <td>8.0</td>\n      <td>NaN</td>\n      <td>0.0</td>\n      <td>8.0</td>\n      <td>0.0</td>\n      <td>0.0</td>\n      <td>1011033</td>\n      <td>1687630</td>\n      <td>NaN</td>\n      <td>NaN</td>\n    </tr>\n    <tr>\n      <th>4</th>\n      <td>Male</td>\n      <td>36.0</td>\n      <td>NaN</td>\n      <td>0.0</td>\n      <td>0.0</td>\n      <td>0.0</td>\n      <td>0.0</td>\n      <td>1047651</td>\n      <td>1746405</td>\n      <td>NaN</td>\n      <td>NaN</td>\n    </tr>\n    <tr>\n      <th>5</th>\n      <td>Female</td>\n      <td>0.0</td>\n      <td>NaN</td>\n      <td>0.0</td>\n      <td>0.0</td>\n      <td>0.0</td>\n      <td>0.0</td>\n      <td>1047651</td>\n      <td>1712561</td>\n      <td>NaN</td>\n      <td>NaN</td>\n    </tr>\n    <tr>\n      <th>6</th>\n      <td>Female</td>\n      <td>0.0</td>\n      <td>NaN</td>\n      <td>1.0</td>\n      <td>17.0</td>\n      <td>20.0</td>\n      <td>20.0</td>\n      <td>1059082</td>\n      <td>1703625</td>\n      <td>NaN</td>\n      <td>NaN</td>\n    </tr>\n    <tr>\n      <th>7</th>\n      <td>Male</td>\n      <td>0.0</td>\n      <td>NaN</td>\n      <td>0.0</td>\n      <td>0.0</td>\n      <td>5.0</td>\n      <td>5.0</td>\n      <td>1059082</td>\n      <td>1755058</td>\n      <td>NaN</td>\n      <td>NaN</td>\n    </tr>\n    <tr>\n      <th>8</th>\n      <td>Male</td>\n      <td>40.0</td>\n      <td>NaN</td>\n      <td>50.0</td>\n      <td>50.0</td>\n      <td>10.0</td>\n      <td>0.0</td>\n      <td>1032311</td>\n      <td>1705264</td>\n      <td>NaN</td>\n      <td>NaN</td>\n    </tr>\n    <tr>\n      <th>9</th>\n      <td>Male</td>\n      <td>0.0</td>\n      <td>NaN</td>\n      <td>0.0</td>\n      <td>38.0</td>\n      <td>0.0</td>\n      <td>0.0</td>\n      <td>1050449</td>\n      <td>1738962</td>\n      <td>NaN</td>\n      <td>NaN</td>\n    </tr>\n  </tbody>\n</table>\n</div>"
     },
     "metadata": {},
     "execution_count": 640
    }
   ],
   "source": [
    "apr_2020.head(10)"
   ]
  },
  {
   "cell_type": "code",
   "execution_count": 641,
   "metadata": {},
   "outputs": [],
   "source": [
    "data_appended = apr_2020.append(nov_2019)"
   ]
  },
  {
   "cell_type": "code",
   "execution_count": 642,
   "metadata": {},
   "outputs": [
    {
     "output_type": "stream",
     "name": "stdout",
     "text": [
      "Total number of rows is: 194\nNumber of obs in Apr: 106\nNumber of obs in Apr: 88\n"
     ]
    }
   ],
   "source": [
    "# Verify that we did not miss any row:\n",
    "print(f\"Total number of rows is: {apr_2020.shape[0] + nov_2019.shape[0]}\")\n",
    "\n",
    "# Print the number of rows of apr_2020:\n",
    "print(f\"Number of obs in Apr: {apr_2020.shape[0]}\")\n",
    "\n",
    "# Print the number of rows of nov_2019:\n",
    "print(f\"Number of obs in Apr: {nov_2019.shape[0]}\")"
   ]
  },
  {
   "cell_type": "code",
   "execution_count": 643,
   "metadata": {},
   "outputs": [],
   "source": [
    "# Create a month column:\n",
    "month = np.repeat(np.array(['Apr', 'Nov']), [106, 88])"
   ]
  },
  {
   "cell_type": "code",
   "execution_count": 644,
   "metadata": {},
   "outputs": [],
   "source": [
    "# Append it to the table:\n",
    "data_appended['month'] = month"
   ]
  },
  {
   "cell_type": "code",
   "execution_count": 645,
   "metadata": {},
   "outputs": [
    {
     "output_type": "execute_result",
     "data": {
      "text/plain": [
       "   childcare_hours  childcare_hours_res  gender    hh_id  homeschool_hours  \\\n",
       "0              NaN                  0.0    Male  1049420               0.0   \n",
       "1              NaN                  0.0  Female  1049420               0.0   \n",
       "2              NaN                  4.0    Male  1011033               0.0   \n",
       "3              NaN                  0.0  Female  1011033               0.0   \n",
       "4              NaN                  0.0    Male  1047651               0.0   \n",
       "\n",
       "    ind_id  total_childcare_hours  total_working_hours  working_hours  \\\n",
       "0  1687033                    NaN                  NaN            NaN   \n",
       "1  1662353                    NaN                  NaN            NaN   \n",
       "2  1631191                    NaN                  NaN            NaN   \n",
       "3  1687630                    NaN                  NaN            NaN   \n",
       "4  1746405                    NaN                  NaN            NaN   \n",
       "\n",
       "   working_hours_home_nokids  working_hours_home_while_no_kids  \\\n",
       "0                        NaN                               0.0   \n",
       "1                        NaN                               0.0   \n",
       "2                        NaN                               0.0   \n",
       "3                        NaN                               8.0   \n",
       "4                        NaN                               0.0   \n",
       "\n",
       "   working_hours_home_whilekids  working_hours_workplace month  \n",
       "0                           0.0                      0.0   Apr  \n",
       "1                           0.0                      3.0   Apr  \n",
       "2                           4.0                     47.0   Apr  \n",
       "3                           0.0                      8.0   Apr  \n",
       "4                           0.0                     36.0   Apr  "
      ],
      "text/html": "<div>\n<style scoped>\n    .dataframe tbody tr th:only-of-type {\n        vertical-align: middle;\n    }\n\n    .dataframe tbody tr th {\n        vertical-align: top;\n    }\n\n    .dataframe thead th {\n        text-align: right;\n    }\n</style>\n<table border=\"1\" class=\"dataframe\">\n  <thead>\n    <tr style=\"text-align: right;\">\n      <th></th>\n      <th>childcare_hours</th>\n      <th>childcare_hours_res</th>\n      <th>gender</th>\n      <th>hh_id</th>\n      <th>homeschool_hours</th>\n      <th>ind_id</th>\n      <th>total_childcare_hours</th>\n      <th>total_working_hours</th>\n      <th>working_hours</th>\n      <th>working_hours_home_nokids</th>\n      <th>working_hours_home_while_no_kids</th>\n      <th>working_hours_home_whilekids</th>\n      <th>working_hours_workplace</th>\n      <th>month</th>\n    </tr>\n  </thead>\n  <tbody>\n    <tr>\n      <th>0</th>\n      <td>NaN</td>\n      <td>0.0</td>\n      <td>Male</td>\n      <td>1049420</td>\n      <td>0.0</td>\n      <td>1687033</td>\n      <td>NaN</td>\n      <td>NaN</td>\n      <td>NaN</td>\n      <td>NaN</td>\n      <td>0.0</td>\n      <td>0.0</td>\n      <td>0.0</td>\n      <td>Apr</td>\n    </tr>\n    <tr>\n      <th>1</th>\n      <td>NaN</td>\n      <td>0.0</td>\n      <td>Female</td>\n      <td>1049420</td>\n      <td>0.0</td>\n      <td>1662353</td>\n      <td>NaN</td>\n      <td>NaN</td>\n      <td>NaN</td>\n      <td>NaN</td>\n      <td>0.0</td>\n      <td>0.0</td>\n      <td>3.0</td>\n      <td>Apr</td>\n    </tr>\n    <tr>\n      <th>2</th>\n      <td>NaN</td>\n      <td>4.0</td>\n      <td>Male</td>\n      <td>1011033</td>\n      <td>0.0</td>\n      <td>1631191</td>\n      <td>NaN</td>\n      <td>NaN</td>\n      <td>NaN</td>\n      <td>NaN</td>\n      <td>0.0</td>\n      <td>4.0</td>\n      <td>47.0</td>\n      <td>Apr</td>\n    </tr>\n    <tr>\n      <th>3</th>\n      <td>NaN</td>\n      <td>0.0</td>\n      <td>Female</td>\n      <td>1011033</td>\n      <td>0.0</td>\n      <td>1687630</td>\n      <td>NaN</td>\n      <td>NaN</td>\n      <td>NaN</td>\n      <td>NaN</td>\n      <td>8.0</td>\n      <td>0.0</td>\n      <td>8.0</td>\n      <td>Apr</td>\n    </tr>\n    <tr>\n      <th>4</th>\n      <td>NaN</td>\n      <td>0.0</td>\n      <td>Male</td>\n      <td>1047651</td>\n      <td>0.0</td>\n      <td>1746405</td>\n      <td>NaN</td>\n      <td>NaN</td>\n      <td>NaN</td>\n      <td>NaN</td>\n      <td>0.0</td>\n      <td>0.0</td>\n      <td>36.0</td>\n      <td>Apr</td>\n    </tr>\n  </tbody>\n</table>\n</div>"
     },
     "metadata": {},
     "execution_count": 645
    }
   ],
   "source": [
    "data_appended.head()"
   ]
  },
  {
   "cell_type": "code",
   "execution_count": 646,
   "metadata": {},
   "outputs": [
    {
     "output_type": "execute_result",
     "data": {
      "text/plain": [
       "array(['childcare_hours', 'childcare_hours_res', 'gender', 'hh_id',\n",
       "       'homeschool_hours', 'ind_id', 'total_childcare_hours',\n",
       "       'total_working_hours', 'working_hours',\n",
       "       'working_hours_home_nokids', 'working_hours_home_while_no_kids',\n",
       "       'working_hours_home_whilekids', 'working_hours_workplace', 'month'],\n",
       "      dtype=object)"
      ]
     },
     "metadata": {},
     "execution_count": 646
    }
   ],
   "source": [
    "data_appended.columns.values"
   ]
  },
  {
   "cell_type": "code",
   "execution_count": 647,
   "metadata": {},
   "outputs": [],
   "source": [
    "data_appended = data_appended[['hh_id', 'ind_id', 'month', 'total_childcare_hours', 'total_working_hours', 'working_hours_workplace', 'working_hours_home_whilekids', 'working_hours_home_while_no_kids', 'working_hours_home_nokids', 'homeschool_hours', 'childcare_hours_res', 'gender']]"
   ]
  },
  {
   "cell_type": "code",
   "execution_count": 648,
   "metadata": {},
   "outputs": [
    {
     "output_type": "execute_result",
     "data": {
      "text/plain": [
       "      hh_id   ind_id month  total_childcare_hours  total_working_hours  \\\n",
       "0   1049420  1687033   Apr                    NaN                  NaN   \n",
       "1   1049420  1662353   Apr                    NaN                  NaN   \n",
       "2   1011033  1631191   Apr                    NaN                  NaN   \n",
       "3   1011033  1687630   Apr                    NaN                  NaN   \n",
       "4   1047651  1746405   Apr                    NaN                  NaN   \n",
       "5   1047651  1712561   Apr                    NaN                  NaN   \n",
       "6   1059082  1703625   Apr                    NaN                  NaN   \n",
       "7   1059082  1755058   Apr                    NaN                  NaN   \n",
       "8   1032311  1705264   Apr                    NaN                  NaN   \n",
       "9   1050449  1738962   Apr                    NaN                  NaN   \n",
       "10  1105688  1649819   Apr                    NaN                  NaN   \n",
       "11  1032991  1660073   Apr                    NaN                  NaN   \n",
       "12  1032991  1679690   Apr                    NaN                  NaN   \n",
       "13  1029103  1663805   Apr                    NaN                  NaN   \n",
       "14  1029103  1663791   Apr                    NaN                  NaN   \n",
       "15  1073720  1650880   Apr                    NaN                  NaN   \n",
       "16  1073720  1700254   Apr                    NaN                  NaN   \n",
       "17  1027909  1649615   Apr                    NaN                  NaN   \n",
       "18  1088259  1702907   Apr                    NaN                  NaN   \n",
       "19  1088259  1693606   Apr                    NaN                  NaN   \n",
       "20  1115114  1701184   Apr                    NaN                  NaN   \n",
       "21  1061790  1608167   Apr                    NaN                  NaN   \n",
       "22  1061790  1774806   Apr                    NaN                  NaN   \n",
       "23  1069277  1650759   Apr                    NaN                  NaN   \n",
       "24  1043103  1689329   Apr                    NaN                  NaN   \n",
       "25  1043103  1727676   Apr                    NaN                  NaN   \n",
       "26  1089701  1693524   Apr                    NaN                  NaN   \n",
       "27  1038786  1612215   Apr                    NaN                  NaN   \n",
       "28  1038786  1686071   Apr                    NaN                  NaN   \n",
       "29  1081268  1667516   Apr                    NaN                  NaN   \n",
       "..      ...      ...   ...                    ...                  ...   \n",
       "58  1074055  1696604   Nov                    NaN                  NaN   \n",
       "59  1074055  1767681   Nov                    NaN                  NaN   \n",
       "60  1108574  1685383   Nov                    NaN                  NaN   \n",
       "61  1108574  1778851   Nov                    NaN                  NaN   \n",
       "62  1118280  1691149   Nov                    NaN                  NaN   \n",
       "63  1118280  1730700   Nov                    NaN                  NaN   \n",
       "64  1089936  1700136   Nov                    NaN                  NaN   \n",
       "65  1089936  1611957   Nov                    NaN                  NaN   \n",
       "66  1081382  1731930   Nov                    NaN                  NaN   \n",
       "67  1081382  1748601   Nov                    NaN                  NaN   \n",
       "68  1071717  1669121   Nov                    NaN                  NaN   \n",
       "69  1071717  1704602   Nov                    NaN                  NaN   \n",
       "70  1077532  1710003   Nov                    NaN                  NaN   \n",
       "71  1077532  1654486   Nov                    NaN                  NaN   \n",
       "72  1143095  1731895   Nov                    NaN                  NaN   \n",
       "73  1143095  1709681   Nov                    NaN                  NaN   \n",
       "74  1123905  1715447   Nov                    NaN                  NaN   \n",
       "75  1123905  1684283   Nov                    NaN                  NaN   \n",
       "76  1173782  1731612   Nov                    NaN                  NaN   \n",
       "77  1119306  1636848   Nov                    NaN                  NaN   \n",
       "78  1119306  1744051   Nov                    NaN                  NaN   \n",
       "79  1096458  1626957   Nov                    NaN                  NaN   \n",
       "80  1142793  1760207   Nov                    NaN                  NaN   \n",
       "81  1098029  1645083   Nov                    NaN                  NaN   \n",
       "82  1098029  1716860   Nov                    NaN                  NaN   \n",
       "83  1132053  1700319   Nov                    NaN                  NaN   \n",
       "84  1156059  1696174   Nov                    NaN                  NaN   \n",
       "85  1144468  1678816   Nov                    NaN                  NaN   \n",
       "86  1144468  1668177   Nov                    NaN                  NaN   \n",
       "87  1159704  1655142   Nov                    NaN                  NaN   \n",
       "\n",
       "    working_hours_workplace  working_hours_home_whilekids  \\\n",
       "0                       0.0                           0.0   \n",
       "1                       3.0                           0.0   \n",
       "2                      47.0                           4.0   \n",
       "3                       8.0                           0.0   \n",
       "4                      36.0                           0.0   \n",
       "5                       0.0                           0.0   \n",
       "6                       0.0                           1.0   \n",
       "7                       0.0                           0.0   \n",
       "8                      40.0                          50.0   \n",
       "9                       0.0                           0.0   \n",
       "10                      0.0                           NaN   \n",
       "11                      NaN                           NaN   \n",
       "12                      0.0                           0.0   \n",
       "13                     32.0                           NaN   \n",
       "14                     28.0                           NaN   \n",
       "15                      0.0                           0.0   \n",
       "16                      0.0                           0.0   \n",
       "17                      0.0                           0.0   \n",
       "18                      0.0                          20.0   \n",
       "19                      0.0                           0.0   \n",
       "20                      0.0                           NaN   \n",
       "21                      0.0                           NaN   \n",
       "22                      8.0                           NaN   \n",
       "23                      0.0                           0.0   \n",
       "24                      0.0                           NaN   \n",
       "25                      0.0                           NaN   \n",
       "26                      0.0                          36.0   \n",
       "27                     62.0                           0.0   \n",
       "28                     25.0                          25.0   \n",
       "29                      0.0                           NaN   \n",
       "..                      ...                           ...   \n",
       "58                      NaN                           NaN   \n",
       "59                      NaN                           NaN   \n",
       "60                      NaN                           NaN   \n",
       "61                      NaN                           NaN   \n",
       "62                      NaN                           NaN   \n",
       "63                      NaN                           NaN   \n",
       "64                      NaN                           NaN   \n",
       "65                      NaN                           NaN   \n",
       "66                      NaN                           NaN   \n",
       "67                      NaN                           NaN   \n",
       "68                      NaN                           NaN   \n",
       "69                      NaN                           NaN   \n",
       "70                      NaN                           NaN   \n",
       "71                      NaN                           NaN   \n",
       "72                      NaN                           NaN   \n",
       "73                      NaN                           NaN   \n",
       "74                      NaN                           NaN   \n",
       "75                      NaN                           NaN   \n",
       "76                      NaN                           NaN   \n",
       "77                      NaN                           NaN   \n",
       "78                      NaN                           NaN   \n",
       "79                      NaN                           NaN   \n",
       "80                      NaN                           NaN   \n",
       "81                      NaN                           NaN   \n",
       "82                      NaN                           NaN   \n",
       "83                      NaN                           NaN   \n",
       "84                      NaN                           NaN   \n",
       "85                      NaN                           NaN   \n",
       "86                      NaN                           NaN   \n",
       "87                      NaN                           NaN   \n",
       "\n",
       "    working_hours_home_while_no_kids  working_hours_home_nokids  \\\n",
       "0                                0.0                        NaN   \n",
       "1                                0.0                        NaN   \n",
       "2                                0.0                        NaN   \n",
       "3                                8.0                        NaN   \n",
       "4                                0.0                        NaN   \n",
       "5                                0.0                        NaN   \n",
       "6                               17.0                        NaN   \n",
       "7                                0.0                        NaN   \n",
       "8                               50.0                        NaN   \n",
       "9                               38.0                        NaN   \n",
       "10                               NaN                        0.0   \n",
       "11                               NaN                        NaN   \n",
       "12                               0.0                        NaN   \n",
       "13                               NaN                        0.0   \n",
       "14                               NaN                        0.0   \n",
       "15                               0.0                        NaN   \n",
       "16                               0.0                        NaN   \n",
       "17                               0.0                        NaN   \n",
       "18                               0.0                        NaN   \n",
       "19                               0.0                        NaN   \n",
       "20                               NaN                       45.0   \n",
       "21                               NaN                       43.0   \n",
       "22                               NaN                        8.0   \n",
       "23                               0.0                        NaN   \n",
       "24                               NaN                        8.0   \n",
       "25                               NaN                        0.0   \n",
       "26                               0.0                        NaN   \n",
       "27                               0.0                        NaN   \n",
       "28                               6.0                        NaN   \n",
       "29                               NaN                        0.0   \n",
       "..                               ...                        ...   \n",
       "58                               NaN                        NaN   \n",
       "59                               NaN                        NaN   \n",
       "60                               NaN                        NaN   \n",
       "61                               NaN                        NaN   \n",
       "62                               NaN                        NaN   \n",
       "63                               NaN                        NaN   \n",
       "64                               NaN                        NaN   \n",
       "65                               NaN                        NaN   \n",
       "66                               NaN                        NaN   \n",
       "67                               NaN                        NaN   \n",
       "68                               NaN                        NaN   \n",
       "69                               NaN                        NaN   \n",
       "70                               NaN                        NaN   \n",
       "71                               NaN                        NaN   \n",
       "72                               NaN                        NaN   \n",
       "73                               NaN                        NaN   \n",
       "74                               NaN                        NaN   \n",
       "75                               NaN                        NaN   \n",
       "76                               NaN                        NaN   \n",
       "77                               NaN                        NaN   \n",
       "78                               NaN                        NaN   \n",
       "79                               NaN                        NaN   \n",
       "80                               NaN                        NaN   \n",
       "81                               NaN                        NaN   \n",
       "82                               NaN                        NaN   \n",
       "83                               NaN                        NaN   \n",
       "84                               NaN                        NaN   \n",
       "85                               NaN                        NaN   \n",
       "86                               NaN                        NaN   \n",
       "87                               NaN                        NaN   \n",
       "\n",
       "    homeschool_hours  childcare_hours_res  gender  \n",
       "0                0.0                  0.0    Male  \n",
       "1                0.0                  0.0  Female  \n",
       "2                0.0                  4.0    Male  \n",
       "3                0.0                  0.0  Female  \n",
       "4                0.0                  0.0    Male  \n",
       "5                0.0                  0.0  Female  \n",
       "6               20.0                 20.0  Female  \n",
       "7                5.0                  5.0    Male  \n",
       "8                0.0                 10.0    Male  \n",
       "9                0.0                  0.0    Male  \n",
       "10               NaN                  NaN    Male  \n",
       "11               NaN                  NaN    Male  \n",
       "12               0.0                  0.0  Female  \n",
       "13               NaN                  NaN  Female  \n",
       "14               NaN                  NaN    Male  \n",
       "15               0.0                  0.0  Female  \n",
       "16               0.0                  0.0    Male  \n",
       "17               0.0                  0.0    Male  \n",
       "18              10.0                 20.0    Male  \n",
       "19              15.0                 15.0  Female  \n",
       "20               NaN                  NaN    Male  \n",
       "21               NaN                  NaN    Male  \n",
       "22               NaN                  NaN  Female  \n",
       "23              25.0                 28.0  Female  \n",
       "24               NaN                  NaN    Male  \n",
       "25               NaN                  NaN  Female  \n",
       "26               5.0                 20.0    Male  \n",
       "27               2.0                  0.0  Female  \n",
       "28               0.0                 20.0    Male  \n",
       "29               NaN                  NaN  Female  \n",
       "..               ...                  ...     ...  \n",
       "58               NaN                  NaN  Female  \n",
       "59               NaN                  NaN    Male  \n",
       "60               NaN                  NaN  Female  \n",
       "61               NaN                  NaN    Male  \n",
       "62               NaN                  NaN    Male  \n",
       "63               NaN                  NaN  Female  \n",
       "64               NaN                  NaN    Male  \n",
       "65               NaN                  NaN  Female  \n",
       "66               NaN                  NaN    Male  \n",
       "67               NaN                  NaN  Female  \n",
       "68               NaN                  NaN    Male  \n",
       "69               NaN                  NaN  Female  \n",
       "70               NaN                  NaN  Female  \n",
       "71               NaN                  NaN    Male  \n",
       "72               NaN                  NaN    Male  \n",
       "73               NaN                  NaN  Female  \n",
       "74               NaN                  NaN  Female  \n",
       "75               NaN                  NaN    Male  \n",
       "76               NaN                  NaN  Female  \n",
       "77               NaN                  NaN  Female  \n",
       "78               NaN                  NaN    Male  \n",
       "79               NaN                  NaN    Male  \n",
       "80               NaN                  NaN    Male  \n",
       "81               NaN                  NaN  Female  \n",
       "82               NaN                  NaN    Male  \n",
       "83               NaN                  NaN    Male  \n",
       "84               NaN                  NaN    Male  \n",
       "85               NaN                  NaN  Female  \n",
       "86               NaN                  NaN    Male  \n",
       "87               NaN                  NaN    Male  \n",
       "\n",
       "[194 rows x 12 columns]"
      ],
      "text/html": "<div>\n<style scoped>\n    .dataframe tbody tr th:only-of-type {\n        vertical-align: middle;\n    }\n\n    .dataframe tbody tr th {\n        vertical-align: top;\n    }\n\n    .dataframe thead th {\n        text-align: right;\n    }\n</style>\n<table border=\"1\" class=\"dataframe\">\n  <thead>\n    <tr style=\"text-align: right;\">\n      <th></th>\n      <th>hh_id</th>\n      <th>ind_id</th>\n      <th>month</th>\n      <th>total_childcare_hours</th>\n      <th>total_working_hours</th>\n      <th>working_hours_workplace</th>\n      <th>working_hours_home_whilekids</th>\n      <th>working_hours_home_while_no_kids</th>\n      <th>working_hours_home_nokids</th>\n      <th>homeschool_hours</th>\n      <th>childcare_hours_res</th>\n      <th>gender</th>\n    </tr>\n  </thead>\n  <tbody>\n    <tr>\n      <th>0</th>\n      <td>1049420</td>\n      <td>1687033</td>\n      <td>Apr</td>\n      <td>NaN</td>\n      <td>NaN</td>\n      <td>0.0</td>\n      <td>0.0</td>\n      <td>0.0</td>\n      <td>NaN</td>\n      <td>0.0</td>\n      <td>0.0</td>\n      <td>Male</td>\n    </tr>\n    <tr>\n      <th>1</th>\n      <td>1049420</td>\n      <td>1662353</td>\n      <td>Apr</td>\n      <td>NaN</td>\n      <td>NaN</td>\n      <td>3.0</td>\n      <td>0.0</td>\n      <td>0.0</td>\n      <td>NaN</td>\n      <td>0.0</td>\n      <td>0.0</td>\n      <td>Female</td>\n    </tr>\n    <tr>\n      <th>2</th>\n      <td>1011033</td>\n      <td>1631191</td>\n      <td>Apr</td>\n      <td>NaN</td>\n      <td>NaN</td>\n      <td>47.0</td>\n      <td>4.0</td>\n      <td>0.0</td>\n      <td>NaN</td>\n      <td>0.0</td>\n      <td>4.0</td>\n      <td>Male</td>\n    </tr>\n    <tr>\n      <th>3</th>\n      <td>1011033</td>\n      <td>1687630</td>\n      <td>Apr</td>\n      <td>NaN</td>\n      <td>NaN</td>\n      <td>8.0</td>\n      <td>0.0</td>\n      <td>8.0</td>\n      <td>NaN</td>\n      <td>0.0</td>\n      <td>0.0</td>\n      <td>Female</td>\n    </tr>\n    <tr>\n      <th>4</th>\n      <td>1047651</td>\n      <td>1746405</td>\n      <td>Apr</td>\n      <td>NaN</td>\n      <td>NaN</td>\n      <td>36.0</td>\n      <td>0.0</td>\n      <td>0.0</td>\n      <td>NaN</td>\n      <td>0.0</td>\n      <td>0.0</td>\n      <td>Male</td>\n    </tr>\n    <tr>\n      <th>5</th>\n      <td>1047651</td>\n      <td>1712561</td>\n      <td>Apr</td>\n      <td>NaN</td>\n      <td>NaN</td>\n      <td>0.0</td>\n      <td>0.0</td>\n      <td>0.0</td>\n      <td>NaN</td>\n      <td>0.0</td>\n      <td>0.0</td>\n      <td>Female</td>\n    </tr>\n    <tr>\n      <th>6</th>\n      <td>1059082</td>\n      <td>1703625</td>\n      <td>Apr</td>\n      <td>NaN</td>\n      <td>NaN</td>\n      <td>0.0</td>\n      <td>1.0</td>\n      <td>17.0</td>\n      <td>NaN</td>\n      <td>20.0</td>\n      <td>20.0</td>\n      <td>Female</td>\n    </tr>\n    <tr>\n      <th>7</th>\n      <td>1059082</td>\n      <td>1755058</td>\n      <td>Apr</td>\n      <td>NaN</td>\n      <td>NaN</td>\n      <td>0.0</td>\n      <td>0.0</td>\n      <td>0.0</td>\n      <td>NaN</td>\n      <td>5.0</td>\n      <td>5.0</td>\n      <td>Male</td>\n    </tr>\n    <tr>\n      <th>8</th>\n      <td>1032311</td>\n      <td>1705264</td>\n      <td>Apr</td>\n      <td>NaN</td>\n      <td>NaN</td>\n      <td>40.0</td>\n      <td>50.0</td>\n      <td>50.0</td>\n      <td>NaN</td>\n      <td>0.0</td>\n      <td>10.0</td>\n      <td>Male</td>\n    </tr>\n    <tr>\n      <th>9</th>\n      <td>1050449</td>\n      <td>1738962</td>\n      <td>Apr</td>\n      <td>NaN</td>\n      <td>NaN</td>\n      <td>0.0</td>\n      <td>0.0</td>\n      <td>38.0</td>\n      <td>NaN</td>\n      <td>0.0</td>\n      <td>0.0</td>\n      <td>Male</td>\n    </tr>\n    <tr>\n      <th>10</th>\n      <td>1105688</td>\n      <td>1649819</td>\n      <td>Apr</td>\n      <td>NaN</td>\n      <td>NaN</td>\n      <td>0.0</td>\n      <td>NaN</td>\n      <td>NaN</td>\n      <td>0.0</td>\n      <td>NaN</td>\n      <td>NaN</td>\n      <td>Male</td>\n    </tr>\n    <tr>\n      <th>11</th>\n      <td>1032991</td>\n      <td>1660073</td>\n      <td>Apr</td>\n      <td>NaN</td>\n      <td>NaN</td>\n      <td>NaN</td>\n      <td>NaN</td>\n      <td>NaN</td>\n      <td>NaN</td>\n      <td>NaN</td>\n      <td>NaN</td>\n      <td>Male</td>\n    </tr>\n    <tr>\n      <th>12</th>\n      <td>1032991</td>\n      <td>1679690</td>\n      <td>Apr</td>\n      <td>NaN</td>\n      <td>NaN</td>\n      <td>0.0</td>\n      <td>0.0</td>\n      <td>0.0</td>\n      <td>NaN</td>\n      <td>0.0</td>\n      <td>0.0</td>\n      <td>Female</td>\n    </tr>\n    <tr>\n      <th>13</th>\n      <td>1029103</td>\n      <td>1663805</td>\n      <td>Apr</td>\n      <td>NaN</td>\n      <td>NaN</td>\n      <td>32.0</td>\n      <td>NaN</td>\n      <td>NaN</td>\n      <td>0.0</td>\n      <td>NaN</td>\n      <td>NaN</td>\n      <td>Female</td>\n    </tr>\n    <tr>\n      <th>14</th>\n      <td>1029103</td>\n      <td>1663791</td>\n      <td>Apr</td>\n      <td>NaN</td>\n      <td>NaN</td>\n      <td>28.0</td>\n      <td>NaN</td>\n      <td>NaN</td>\n      <td>0.0</td>\n      <td>NaN</td>\n      <td>NaN</td>\n      <td>Male</td>\n    </tr>\n    <tr>\n      <th>15</th>\n      <td>1073720</td>\n      <td>1650880</td>\n      <td>Apr</td>\n      <td>NaN</td>\n      <td>NaN</td>\n      <td>0.0</td>\n      <td>0.0</td>\n      <td>0.0</td>\n      <td>NaN</td>\n      <td>0.0</td>\n      <td>0.0</td>\n      <td>Female</td>\n    </tr>\n    <tr>\n      <th>16</th>\n      <td>1073720</td>\n      <td>1700254</td>\n      <td>Apr</td>\n      <td>NaN</td>\n      <td>NaN</td>\n      <td>0.0</td>\n      <td>0.0</td>\n      <td>0.0</td>\n      <td>NaN</td>\n      <td>0.0</td>\n      <td>0.0</td>\n      <td>Male</td>\n    </tr>\n    <tr>\n      <th>17</th>\n      <td>1027909</td>\n      <td>1649615</td>\n      <td>Apr</td>\n      <td>NaN</td>\n      <td>NaN</td>\n      <td>0.0</td>\n      <td>0.0</td>\n      <td>0.0</td>\n      <td>NaN</td>\n      <td>0.0</td>\n      <td>0.0</td>\n      <td>Male</td>\n    </tr>\n    <tr>\n      <th>18</th>\n      <td>1088259</td>\n      <td>1702907</td>\n      <td>Apr</td>\n      <td>NaN</td>\n      <td>NaN</td>\n      <td>0.0</td>\n      <td>20.0</td>\n      <td>0.0</td>\n      <td>NaN</td>\n      <td>10.0</td>\n      <td>20.0</td>\n      <td>Male</td>\n    </tr>\n    <tr>\n      <th>19</th>\n      <td>1088259</td>\n      <td>1693606</td>\n      <td>Apr</td>\n      <td>NaN</td>\n      <td>NaN</td>\n      <td>0.0</td>\n      <td>0.0</td>\n      <td>0.0</td>\n      <td>NaN</td>\n      <td>15.0</td>\n      <td>15.0</td>\n      <td>Female</td>\n    </tr>\n    <tr>\n      <th>20</th>\n      <td>1115114</td>\n      <td>1701184</td>\n      <td>Apr</td>\n      <td>NaN</td>\n      <td>NaN</td>\n      <td>0.0</td>\n      <td>NaN</td>\n      <td>NaN</td>\n      <td>45.0</td>\n      <td>NaN</td>\n      <td>NaN</td>\n      <td>Male</td>\n    </tr>\n    <tr>\n      <th>21</th>\n      <td>1061790</td>\n      <td>1608167</td>\n      <td>Apr</td>\n      <td>NaN</td>\n      <td>NaN</td>\n      <td>0.0</td>\n      <td>NaN</td>\n      <td>NaN</td>\n      <td>43.0</td>\n      <td>NaN</td>\n      <td>NaN</td>\n      <td>Male</td>\n    </tr>\n    <tr>\n      <th>22</th>\n      <td>1061790</td>\n      <td>1774806</td>\n      <td>Apr</td>\n      <td>NaN</td>\n      <td>NaN</td>\n      <td>8.0</td>\n      <td>NaN</td>\n      <td>NaN</td>\n      <td>8.0</td>\n      <td>NaN</td>\n      <td>NaN</td>\n      <td>Female</td>\n    </tr>\n    <tr>\n      <th>23</th>\n      <td>1069277</td>\n      <td>1650759</td>\n      <td>Apr</td>\n      <td>NaN</td>\n      <td>NaN</td>\n      <td>0.0</td>\n      <td>0.0</td>\n      <td>0.0</td>\n      <td>NaN</td>\n      <td>25.0</td>\n      <td>28.0</td>\n      <td>Female</td>\n    </tr>\n    <tr>\n      <th>24</th>\n      <td>1043103</td>\n      <td>1689329</td>\n      <td>Apr</td>\n      <td>NaN</td>\n      <td>NaN</td>\n      <td>0.0</td>\n      <td>NaN</td>\n      <td>NaN</td>\n      <td>8.0</td>\n      <td>NaN</td>\n      <td>NaN</td>\n      <td>Male</td>\n    </tr>\n    <tr>\n      <th>25</th>\n      <td>1043103</td>\n      <td>1727676</td>\n      <td>Apr</td>\n      <td>NaN</td>\n      <td>NaN</td>\n      <td>0.0</td>\n      <td>NaN</td>\n      <td>NaN</td>\n      <td>0.0</td>\n      <td>NaN</td>\n      <td>NaN</td>\n      <td>Female</td>\n    </tr>\n    <tr>\n      <th>26</th>\n      <td>1089701</td>\n      <td>1693524</td>\n      <td>Apr</td>\n      <td>NaN</td>\n      <td>NaN</td>\n      <td>0.0</td>\n      <td>36.0</td>\n      <td>0.0</td>\n      <td>NaN</td>\n      <td>5.0</td>\n      <td>20.0</td>\n      <td>Male</td>\n    </tr>\n    <tr>\n      <th>27</th>\n      <td>1038786</td>\n      <td>1612215</td>\n      <td>Apr</td>\n      <td>NaN</td>\n      <td>NaN</td>\n      <td>62.0</td>\n      <td>0.0</td>\n      <td>0.0</td>\n      <td>NaN</td>\n      <td>2.0</td>\n      <td>0.0</td>\n      <td>Female</td>\n    </tr>\n    <tr>\n      <th>28</th>\n      <td>1038786</td>\n      <td>1686071</td>\n      <td>Apr</td>\n      <td>NaN</td>\n      <td>NaN</td>\n      <td>25.0</td>\n      <td>25.0</td>\n      <td>6.0</td>\n      <td>NaN</td>\n      <td>0.0</td>\n      <td>20.0</td>\n      <td>Male</td>\n    </tr>\n    <tr>\n      <th>29</th>\n      <td>1081268</td>\n      <td>1667516</td>\n      <td>Apr</td>\n      <td>NaN</td>\n      <td>NaN</td>\n      <td>0.0</td>\n      <td>NaN</td>\n      <td>NaN</td>\n      <td>0.0</td>\n      <td>NaN</td>\n      <td>NaN</td>\n      <td>Female</td>\n    </tr>\n    <tr>\n      <th>...</th>\n      <td>...</td>\n      <td>...</td>\n      <td>...</td>\n      <td>...</td>\n      <td>...</td>\n      <td>...</td>\n      <td>...</td>\n      <td>...</td>\n      <td>...</td>\n      <td>...</td>\n      <td>...</td>\n      <td>...</td>\n    </tr>\n    <tr>\n      <th>58</th>\n      <td>1074055</td>\n      <td>1696604</td>\n      <td>Nov</td>\n      <td>NaN</td>\n      <td>NaN</td>\n      <td>NaN</td>\n      <td>NaN</td>\n      <td>NaN</td>\n      <td>NaN</td>\n      <td>NaN</td>\n      <td>NaN</td>\n      <td>Female</td>\n    </tr>\n    <tr>\n      <th>59</th>\n      <td>1074055</td>\n      <td>1767681</td>\n      <td>Nov</td>\n      <td>NaN</td>\n      <td>NaN</td>\n      <td>NaN</td>\n      <td>NaN</td>\n      <td>NaN</td>\n      <td>NaN</td>\n      <td>NaN</td>\n      <td>NaN</td>\n      <td>Male</td>\n    </tr>\n    <tr>\n      <th>60</th>\n      <td>1108574</td>\n      <td>1685383</td>\n      <td>Nov</td>\n      <td>NaN</td>\n      <td>NaN</td>\n      <td>NaN</td>\n      <td>NaN</td>\n      <td>NaN</td>\n      <td>NaN</td>\n      <td>NaN</td>\n      <td>NaN</td>\n      <td>Female</td>\n    </tr>\n    <tr>\n      <th>61</th>\n      <td>1108574</td>\n      <td>1778851</td>\n      <td>Nov</td>\n      <td>NaN</td>\n      <td>NaN</td>\n      <td>NaN</td>\n      <td>NaN</td>\n      <td>NaN</td>\n      <td>NaN</td>\n      <td>NaN</td>\n      <td>NaN</td>\n      <td>Male</td>\n    </tr>\n    <tr>\n      <th>62</th>\n      <td>1118280</td>\n      <td>1691149</td>\n      <td>Nov</td>\n      <td>NaN</td>\n      <td>NaN</td>\n      <td>NaN</td>\n      <td>NaN</td>\n      <td>NaN</td>\n      <td>NaN</td>\n      <td>NaN</td>\n      <td>NaN</td>\n      <td>Male</td>\n    </tr>\n    <tr>\n      <th>63</th>\n      <td>1118280</td>\n      <td>1730700</td>\n      <td>Nov</td>\n      <td>NaN</td>\n      <td>NaN</td>\n      <td>NaN</td>\n      <td>NaN</td>\n      <td>NaN</td>\n      <td>NaN</td>\n      <td>NaN</td>\n      <td>NaN</td>\n      <td>Female</td>\n    </tr>\n    <tr>\n      <th>64</th>\n      <td>1089936</td>\n      <td>1700136</td>\n      <td>Nov</td>\n      <td>NaN</td>\n      <td>NaN</td>\n      <td>NaN</td>\n      <td>NaN</td>\n      <td>NaN</td>\n      <td>NaN</td>\n      <td>NaN</td>\n      <td>NaN</td>\n      <td>Male</td>\n    </tr>\n    <tr>\n      <th>65</th>\n      <td>1089936</td>\n      <td>1611957</td>\n      <td>Nov</td>\n      <td>NaN</td>\n      <td>NaN</td>\n      <td>NaN</td>\n      <td>NaN</td>\n      <td>NaN</td>\n      <td>NaN</td>\n      <td>NaN</td>\n      <td>NaN</td>\n      <td>Female</td>\n    </tr>\n    <tr>\n      <th>66</th>\n      <td>1081382</td>\n      <td>1731930</td>\n      <td>Nov</td>\n      <td>NaN</td>\n      <td>NaN</td>\n      <td>NaN</td>\n      <td>NaN</td>\n      <td>NaN</td>\n      <td>NaN</td>\n      <td>NaN</td>\n      <td>NaN</td>\n      <td>Male</td>\n    </tr>\n    <tr>\n      <th>67</th>\n      <td>1081382</td>\n      <td>1748601</td>\n      <td>Nov</td>\n      <td>NaN</td>\n      <td>NaN</td>\n      <td>NaN</td>\n      <td>NaN</td>\n      <td>NaN</td>\n      <td>NaN</td>\n      <td>NaN</td>\n      <td>NaN</td>\n      <td>Female</td>\n    </tr>\n    <tr>\n      <th>68</th>\n      <td>1071717</td>\n      <td>1669121</td>\n      <td>Nov</td>\n      <td>NaN</td>\n      <td>NaN</td>\n      <td>NaN</td>\n      <td>NaN</td>\n      <td>NaN</td>\n      <td>NaN</td>\n      <td>NaN</td>\n      <td>NaN</td>\n      <td>Male</td>\n    </tr>\n    <tr>\n      <th>69</th>\n      <td>1071717</td>\n      <td>1704602</td>\n      <td>Nov</td>\n      <td>NaN</td>\n      <td>NaN</td>\n      <td>NaN</td>\n      <td>NaN</td>\n      <td>NaN</td>\n      <td>NaN</td>\n      <td>NaN</td>\n      <td>NaN</td>\n      <td>Female</td>\n    </tr>\n    <tr>\n      <th>70</th>\n      <td>1077532</td>\n      <td>1710003</td>\n      <td>Nov</td>\n      <td>NaN</td>\n      <td>NaN</td>\n      <td>NaN</td>\n      <td>NaN</td>\n      <td>NaN</td>\n      <td>NaN</td>\n      <td>NaN</td>\n      <td>NaN</td>\n      <td>Female</td>\n    </tr>\n    <tr>\n      <th>71</th>\n      <td>1077532</td>\n      <td>1654486</td>\n      <td>Nov</td>\n      <td>NaN</td>\n      <td>NaN</td>\n      <td>NaN</td>\n      <td>NaN</td>\n      <td>NaN</td>\n      <td>NaN</td>\n      <td>NaN</td>\n      <td>NaN</td>\n      <td>Male</td>\n    </tr>\n    <tr>\n      <th>72</th>\n      <td>1143095</td>\n      <td>1731895</td>\n      <td>Nov</td>\n      <td>NaN</td>\n      <td>NaN</td>\n      <td>NaN</td>\n      <td>NaN</td>\n      <td>NaN</td>\n      <td>NaN</td>\n      <td>NaN</td>\n      <td>NaN</td>\n      <td>Male</td>\n    </tr>\n    <tr>\n      <th>73</th>\n      <td>1143095</td>\n      <td>1709681</td>\n      <td>Nov</td>\n      <td>NaN</td>\n      <td>NaN</td>\n      <td>NaN</td>\n      <td>NaN</td>\n      <td>NaN</td>\n      <td>NaN</td>\n      <td>NaN</td>\n      <td>NaN</td>\n      <td>Female</td>\n    </tr>\n    <tr>\n      <th>74</th>\n      <td>1123905</td>\n      <td>1715447</td>\n      <td>Nov</td>\n      <td>NaN</td>\n      <td>NaN</td>\n      <td>NaN</td>\n      <td>NaN</td>\n      <td>NaN</td>\n      <td>NaN</td>\n      <td>NaN</td>\n      <td>NaN</td>\n      <td>Female</td>\n    </tr>\n    <tr>\n      <th>75</th>\n      <td>1123905</td>\n      <td>1684283</td>\n      <td>Nov</td>\n      <td>NaN</td>\n      <td>NaN</td>\n      <td>NaN</td>\n      <td>NaN</td>\n      <td>NaN</td>\n      <td>NaN</td>\n      <td>NaN</td>\n      <td>NaN</td>\n      <td>Male</td>\n    </tr>\n    <tr>\n      <th>76</th>\n      <td>1173782</td>\n      <td>1731612</td>\n      <td>Nov</td>\n      <td>NaN</td>\n      <td>NaN</td>\n      <td>NaN</td>\n      <td>NaN</td>\n      <td>NaN</td>\n      <td>NaN</td>\n      <td>NaN</td>\n      <td>NaN</td>\n      <td>Female</td>\n    </tr>\n    <tr>\n      <th>77</th>\n      <td>1119306</td>\n      <td>1636848</td>\n      <td>Nov</td>\n      <td>NaN</td>\n      <td>NaN</td>\n      <td>NaN</td>\n      <td>NaN</td>\n      <td>NaN</td>\n      <td>NaN</td>\n      <td>NaN</td>\n      <td>NaN</td>\n      <td>Female</td>\n    </tr>\n    <tr>\n      <th>78</th>\n      <td>1119306</td>\n      <td>1744051</td>\n      <td>Nov</td>\n      <td>NaN</td>\n      <td>NaN</td>\n      <td>NaN</td>\n      <td>NaN</td>\n      <td>NaN</td>\n      <td>NaN</td>\n      <td>NaN</td>\n      <td>NaN</td>\n      <td>Male</td>\n    </tr>\n    <tr>\n      <th>79</th>\n      <td>1096458</td>\n      <td>1626957</td>\n      <td>Nov</td>\n      <td>NaN</td>\n      <td>NaN</td>\n      <td>NaN</td>\n      <td>NaN</td>\n      <td>NaN</td>\n      <td>NaN</td>\n      <td>NaN</td>\n      <td>NaN</td>\n      <td>Male</td>\n    </tr>\n    <tr>\n      <th>80</th>\n      <td>1142793</td>\n      <td>1760207</td>\n      <td>Nov</td>\n      <td>NaN</td>\n      <td>NaN</td>\n      <td>NaN</td>\n      <td>NaN</td>\n      <td>NaN</td>\n      <td>NaN</td>\n      <td>NaN</td>\n      <td>NaN</td>\n      <td>Male</td>\n    </tr>\n    <tr>\n      <th>81</th>\n      <td>1098029</td>\n      <td>1645083</td>\n      <td>Nov</td>\n      <td>NaN</td>\n      <td>NaN</td>\n      <td>NaN</td>\n      <td>NaN</td>\n      <td>NaN</td>\n      <td>NaN</td>\n      <td>NaN</td>\n      <td>NaN</td>\n      <td>Female</td>\n    </tr>\n    <tr>\n      <th>82</th>\n      <td>1098029</td>\n      <td>1716860</td>\n      <td>Nov</td>\n      <td>NaN</td>\n      <td>NaN</td>\n      <td>NaN</td>\n      <td>NaN</td>\n      <td>NaN</td>\n      <td>NaN</td>\n      <td>NaN</td>\n      <td>NaN</td>\n      <td>Male</td>\n    </tr>\n    <tr>\n      <th>83</th>\n      <td>1132053</td>\n      <td>1700319</td>\n      <td>Nov</td>\n      <td>NaN</td>\n      <td>NaN</td>\n      <td>NaN</td>\n      <td>NaN</td>\n      <td>NaN</td>\n      <td>NaN</td>\n      <td>NaN</td>\n      <td>NaN</td>\n      <td>Male</td>\n    </tr>\n    <tr>\n      <th>84</th>\n      <td>1156059</td>\n      <td>1696174</td>\n      <td>Nov</td>\n      <td>NaN</td>\n      <td>NaN</td>\n      <td>NaN</td>\n      <td>NaN</td>\n      <td>NaN</td>\n      <td>NaN</td>\n      <td>NaN</td>\n      <td>NaN</td>\n      <td>Male</td>\n    </tr>\n    <tr>\n      <th>85</th>\n      <td>1144468</td>\n      <td>1678816</td>\n      <td>Nov</td>\n      <td>NaN</td>\n      <td>NaN</td>\n      <td>NaN</td>\n      <td>NaN</td>\n      <td>NaN</td>\n      <td>NaN</td>\n      <td>NaN</td>\n      <td>NaN</td>\n      <td>Female</td>\n    </tr>\n    <tr>\n      <th>86</th>\n      <td>1144468</td>\n      <td>1668177</td>\n      <td>Nov</td>\n      <td>NaN</td>\n      <td>NaN</td>\n      <td>NaN</td>\n      <td>NaN</td>\n      <td>NaN</td>\n      <td>NaN</td>\n      <td>NaN</td>\n      <td>NaN</td>\n      <td>Male</td>\n    </tr>\n    <tr>\n      <th>87</th>\n      <td>1159704</td>\n      <td>1655142</td>\n      <td>Nov</td>\n      <td>NaN</td>\n      <td>NaN</td>\n      <td>NaN</td>\n      <td>NaN</td>\n      <td>NaN</td>\n      <td>NaN</td>\n      <td>NaN</td>\n      <td>NaN</td>\n      <td>Male</td>\n    </tr>\n  </tbody>\n</table>\n<p>194 rows × 12 columns</p>\n</div>"
     },
     "metadata": {},
     "execution_count": 648
    }
   ],
   "source": [
    "data_appended"
   ]
  },
  {
   "cell_type": "code",
   "execution_count": null,
   "metadata": {},
   "outputs": [],
   "source": [
    "data_appended.drop(['gender'], axis=1, inplace=True)"
   ]
  },
  {
   "cell_type": "code",
   "execution_count": null,
   "metadata": {},
   "outputs": [],
   "source": [
    "data_apr = data_appended['month' == 'Apr'].drop_duplicates(subset=['hh_id', 'ind_id'])"
   ]
  }
 ],
 "metadata": {
  "kernelspec": {
   "display_name": "Python 3",
   "language": "python",
   "name": "python3"
  },
  "language_info": {
   "codemirror_mode": {
    "name": "ipython",
    "version": 3
   },
   "file_extension": ".py",
   "mimetype": "text/x-python",
   "name": "python",
   "nbconvert_exporter": "python",
   "pygments_lexer": "ipython3",
   "version": "3.7.1-final"
  }
 },
 "nbformat": 4,
 "nbformat_minor": 4
}
